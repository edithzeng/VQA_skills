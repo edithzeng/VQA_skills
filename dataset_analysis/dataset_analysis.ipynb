{
 "cells": [
  {
   "cell_type": "code",
   "execution_count": 1,
   "metadata": {},
   "outputs": [],
   "source": [
    "import pandas as pd\n",
    "import numpy as np\n",
    "\n",
    "# 2-vote threshold; old split data\n",
    "vizwiz_train = pd.read_csv('../../data/vizwiz_skill_typ_train.csv', skipinitialspace=True, engine='python')\n",
    "vizwiz_val = pd.read_csv('../../data/vizwiz_skill_typ_val.csv', skipinitialspace=True, engine='python')\n",
    "vizwiz_test = pd.read_csv('../../data/vizwiz_skill_typ_test.csv', skipinitialspace=True, engine='python')\n",
    "\n",
    "vqa_train = pd.read_csv('../../data/vqa_skill_typ_train.csv', skipinitialspace=True, engine='python')\n",
    "vqa_val = pd.read_csv('../../data/vqa_skill_typ_val.csv', skipinitialspace=True, engine='python')\n",
    "vqa_test = pd.read_csv('../../data/vqa_skill_typ_test.csv', skipinitialspace=True, engine='python')\n",
    "\n",
    "vqa_train['QID'] = vqa_train['QID'].astype(str)\n",
    "vqa_val['QID'] = vqa_val['QID'].astype(str)\n",
    "vqa_test['QID'] = vqa_test['QID'].astype(str)\n",
    "\n",
    "# all crowdsourced data\n",
    "df = pd.read_csv('../../data/VizWiz_VQA_Skills_Data.csv', engine='python')"
   ]
  },
  {
   "cell_type": "code",
   "execution_count": 2,
   "metadata": {},
   "outputs": [
    {
     "data": {
      "text/plain": [
       "True"
      ]
     },
     "execution_count": 2,
     "metadata": {},
     "output_type": "execute_result"
    }
   ],
   "source": [
    "vqa_train['QID'].dtypes == df['QID'].dtypes == vizwiz_train['QID'].dtypes"
   ]
  },
  {
   "cell_type": "code",
   "execution_count": 3,
   "metadata": {},
   "outputs": [
    {
     "data": {
      "text/plain": [
       "27263"
      ]
     },
     "execution_count": 3,
     "metadata": {},
     "output_type": "execute_result"
    }
   ],
   "source": [
    "len(df)"
   ]
  },
  {
   "cell_type": "code",
   "execution_count": 4,
   "metadata": {},
   "outputs": [
    {
     "data": {
      "text/plain": [
       "Index(['QID', 'TXT', 'OBJ', 'COL', 'CNT', 'OTH', 'SRC_DATASET', 'ANS_TYP',\n",
       "       'IMG', 'QSN', 'ANS1', 'ANS2', 'ANS3', 'ANS4', 'ANS5', 'ANS6', 'ANS7',\n",
       "       'ANS8', 'ANS9', 'ANS10', 'NUM_UNIQUE_ANS', 'NUM_MOST_COMMON_ANS'],\n",
       "      dtype='object')"
      ]
     },
     "execution_count": 4,
     "metadata": {},
     "output_type": "execute_result"
    }
   ],
   "source": [
    "df.columns"
   ]
  },
  {
   "cell_type": "code",
   "execution_count": 5,
   "metadata": {},
   "outputs": [
    {
     "data": {
      "text/plain": [
       "27263"
      ]
     },
     "execution_count": 5,
     "metadata": {},
     "output_type": "execute_result"
    }
   ],
   "source": [
    "df['QID'].nunique()"
   ]
  },
  {
   "cell_type": "code",
   "execution_count": 6,
   "metadata": {
    "scrolled": false
   },
   "outputs": [
    {
     "data": {
      "text/plain": [
       "array(['VQA', 'VizWiz'], dtype=object)"
      ]
     },
     "execution_count": 6,
     "metadata": {},
     "output_type": "execute_result"
    }
   ],
   "source": [
    "df['SRC_DATASET'].unique()"
   ]
  },
  {
   "cell_type": "markdown",
   "metadata": {},
   "source": [
    "#### cross-reference crowdsourced data to split data"
   ]
  },
  {
   "cell_type": "code",
   "execution_count": 7,
   "metadata": {},
   "outputs": [],
   "source": [
    "vizwiz_train_questions = vizwiz_train['QID'].unique()\n",
    "vqa_train_questions = vqa_train['QID'].unique()\n",
    "\n",
    "vizwiz_val_questions = vizwiz_val['QID'].unique()\n",
    "vqa_val_questions = vqa_val['QID'].unique()\n",
    "\n",
    "vizwiz_test_questions = vizwiz_test['QID'].unique()\n",
    "vqa_test_questions = vqa_test['QID'].unique()\n",
    "\n",
    "train_questions = list(vizwiz_train_questions) + list(vqa_train_questions)\n",
    "val_questions = list(vizwiz_val_questions) + list(vqa_val_questions)\n",
    "test_questions = list(vizwiz_test_questions) + list(vqa_test_questions)\n",
    "\n",
    "def get_split(qid):\n",
    "    if qid in train_questions:\n",
    "        return 'train'\n",
    "    elif qid in val_questions:\n",
    "        return 'val'\n",
    "    elif qid in test_questions:\n",
    "        return 'test'\n",
    "\n",
    "# add train/validation/test label to the new dataset so that we can cross-reference\n",
    "dataset = df.copy()\n",
    "dataset['split'] = dataset['QID'].apply(get_split)"
   ]
  },
  {
   "cell_type": "code",
   "execution_count": 8,
   "metadata": {},
   "outputs": [
    {
     "data": {
      "text/html": [
       "<div>\n",
       "<style scoped>\n",
       "    .dataframe tbody tr th:only-of-type {\n",
       "        vertical-align: middle;\n",
       "    }\n",
       "\n",
       "    .dataframe tbody tr th {\n",
       "        vertical-align: top;\n",
       "    }\n",
       "\n",
       "    .dataframe thead th {\n",
       "        text-align: right;\n",
       "    }\n",
       "</style>\n",
       "<table border=\"1\" class=\"dataframe\">\n",
       "  <thead>\n",
       "    <tr style=\"text-align: right;\">\n",
       "      <th></th>\n",
       "      <th>QID</th>\n",
       "      <th>TXT</th>\n",
       "      <th>OBJ</th>\n",
       "      <th>COL</th>\n",
       "      <th>CNT</th>\n",
       "      <th>OTH</th>\n",
       "      <th>SRC_DATASET</th>\n",
       "      <th>ANS_TYP</th>\n",
       "      <th>IMG</th>\n",
       "      <th>QSN</th>\n",
       "      <th>...</th>\n",
       "      <th>ANS4</th>\n",
       "      <th>ANS5</th>\n",
       "      <th>ANS6</th>\n",
       "      <th>ANS7</th>\n",
       "      <th>ANS8</th>\n",
       "      <th>ANS9</th>\n",
       "      <th>ANS10</th>\n",
       "      <th>NUM_UNIQUE_ANS</th>\n",
       "      <th>NUM_MOST_COMMON_ANS</th>\n",
       "      <th>split</th>\n",
       "    </tr>\n",
       "  </thead>\n",
       "  <tbody>\n",
       "    <tr>\n",
       "      <th>1889</th>\n",
       "      <td>292432018</td>\n",
       "      <td>3</td>\n",
       "      <td>5</td>\n",
       "      <td>0</td>\n",
       "      <td>2</td>\n",
       "      <td>0</td>\n",
       "      <td>VQA</td>\n",
       "      <td>number</td>\n",
       "      <td>COCO_train2014_000000292432.jpg</td>\n",
       "      <td>What number is on the sign?</td>\n",
       "      <td>...</td>\n",
       "      <td>111</td>\n",
       "      <td>blurry</td>\n",
       "      <td>111</td>\n",
       "      <td>ineligible</td>\n",
       "      <td>115</td>\n",
       "      <td>111</td>\n",
       "      <td>49</td>\n",
       "      <td>8</td>\n",
       "      <td>3</td>\n",
       "      <td>None</td>\n",
       "    </tr>\n",
       "    <tr>\n",
       "      <th>2850</th>\n",
       "      <td>39711003</td>\n",
       "      <td>2</td>\n",
       "      <td>3</td>\n",
       "      <td>1</td>\n",
       "      <td>0</td>\n",
       "      <td>0</td>\n",
       "      <td>VQA</td>\n",
       "      <td>yes/no</td>\n",
       "      <td>COCO_train2014_000000039711.jpg</td>\n",
       "      <td>Was there a T in the graffiti?</td>\n",
       "      <td>...</td>\n",
       "      <td>no</td>\n",
       "      <td>no</td>\n",
       "      <td>no</td>\n",
       "      <td>yes</td>\n",
       "      <td>no</td>\n",
       "      <td>yes</td>\n",
       "      <td>no</td>\n",
       "      <td>2</td>\n",
       "      <td>7</td>\n",
       "      <td>None</td>\n",
       "    </tr>\n",
       "    <tr>\n",
       "      <th>4949</th>\n",
       "      <td>91360009</td>\n",
       "      <td>0</td>\n",
       "      <td>4</td>\n",
       "      <td>5</td>\n",
       "      <td>0</td>\n",
       "      <td>0</td>\n",
       "      <td>VQA</td>\n",
       "      <td>other</td>\n",
       "      <td>COCO_train2014_000000091360.jpg</td>\n",
       "      <td>What color are the wings of the kite?</td>\n",
       "      <td>...</td>\n",
       "      <td>yellow</td>\n",
       "      <td>yellow</td>\n",
       "      <td>yellow</td>\n",
       "      <td>yellow</td>\n",
       "      <td>orange</td>\n",
       "      <td>yellow</td>\n",
       "      <td>yellow and orange</td>\n",
       "      <td>4</td>\n",
       "      <td>6</td>\n",
       "      <td>None</td>\n",
       "    </tr>\n",
       "  </tbody>\n",
       "</table>\n",
       "<p>3 rows × 23 columns</p>\n",
       "</div>"
      ],
      "text/plain": [
       "            QID  TXT  OBJ  COL  CNT  OTH SRC_DATASET ANS_TYP  \\\n",
       "1889  292432018    3    5    0    2    0         VQA  number   \n",
       "2850   39711003    2    3    1    0    0         VQA  yes/no   \n",
       "4949   91360009    0    4    5    0    0         VQA   other   \n",
       "\n",
       "                                  IMG                                    QSN  \\\n",
       "1889  COCO_train2014_000000292432.jpg            What number is on the sign?   \n",
       "2850  COCO_train2014_000000039711.jpg         Was there a T in the graffiti?   \n",
       "4949  COCO_train2014_000000091360.jpg  What color are the wings of the kite?   \n",
       "\n",
       "      ...     ANS4    ANS5    ANS6        ANS7    ANS8    ANS9  \\\n",
       "1889  ...      111  blurry     111  ineligible     115     111   \n",
       "2850  ...       no      no      no         yes      no     yes   \n",
       "4949  ...   yellow  yellow  yellow      yellow  orange  yellow   \n",
       "\n",
       "                  ANS10 NUM_UNIQUE_ANS NUM_MOST_COMMON_ANS split  \n",
       "1889                 49              8                   3  None  \n",
       "2850                 no              2                   7  None  \n",
       "4949  yellow and orange              4                   6  None  \n",
       "\n",
       "[3 rows x 23 columns]"
      ]
     },
     "execution_count": 8,
     "metadata": {},
     "output_type": "execute_result"
    }
   ],
   "source": [
    "bad_rows = dataset.loc[dataset['split'].isnull()]\n",
    "bad_rows"
   ]
  },
  {
   "cell_type": "code",
   "execution_count": null,
   "metadata": {},
   "outputs": [],
   "source": [
    "# manually fix missing rows (wrong QID)? \n",
    "# Currently not performed. don't know if necessary.\n",
    "\"\"\"\n",
    "bad_rows_idx = list(bad_rows.index)\n",
    "for i in bad_rows_idx:\n",
    "    dataset.iloc[i, -1] = 'train'\n",
    "assert(len(dataset.loc[dataset['split'].isnull()]) == 0)\n",
    "\"\"\""
   ]
  },
  {
   "cell_type": "code",
   "execution_count": 10,
   "metadata": {},
   "outputs": [],
   "source": [
    "vqa = dataset.loc[dataset['SRC_DATASET'] == 'VQA']\n",
    "vizwiz = dataset.loc[dataset['SRC_DATASET'] == 'VizWiz']"
   ]
  },
  {
   "cell_type": "code",
   "execution_count": 11,
   "metadata": {},
   "outputs": [
    {
     "data": {
      "text/plain": [
       "0.09926543577526306"
      ]
     },
     "execution_count": 11,
     "metadata": {},
     "output_type": "execute_result"
    }
   ],
   "source": [
    "# table-1 percentage of VQ for each skill. Change dataset name to switch. \n",
    "dset = vqa\n",
    "(len(dset.loc[dset['OTH'] >= 3]) / len(dset) ) * 100"
   ]
  },
  {
   "cell_type": "code",
   "execution_count": 12,
   "metadata": {},
   "outputs": [
    {
     "data": {
      "text/plain": [
       "0.1889678754611716"
      ]
     },
     "execution_count": 12,
     "metadata": {},
     "output_type": "execute_result"
    }
   ],
   "source": [
    "# none of the above\n",
    "(len(dset.loc[(dset['OBJ'] < 3) \n",
    "           & (dset['COL'] < 3) \n",
    "           & (dset['TXT'] < 3)\n",
    "           & (dset['CNT'] < 3)\n",
    "           & (dset['OTH'] < 3)]) / len(vizwiz) ) * 100"
   ]
  },
  {
   "cell_type": "code",
   "execution_count": null,
   "metadata": {},
   "outputs": [],
   "source": []
  }
 ],
 "metadata": {
  "kernelspec": {
   "display_name": "Python 3",
   "language": "python",
   "name": "python3"
  },
  "language_info": {
   "codemirror_mode": {
    "name": "ipython",
    "version": 3
   },
   "file_extension": ".py",
   "mimetype": "text/x-python",
   "name": "python",
   "nbconvert_exporter": "python",
   "pygments_lexer": "ipython3",
   "version": "3.6.8"
  }
 },
 "nbformat": 4,
 "nbformat_minor": 2
}
