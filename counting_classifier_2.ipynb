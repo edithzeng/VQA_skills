{
 "cells": [
  {
   "cell_type": "code",
   "execution_count": 2,
   "metadata": {
    "scrolled": false
   },
   "outputs": [
    {
     "name": "stdout",
     "output_type": "stream",
     "text": [
      "[name: \"/device:CPU:0\"\n",
      "device_type: \"CPU\"\n",
      "memory_limit: 268435456\n",
      "locality {\n",
      "}\n",
      "incarnation: 17196846669855423687\n",
      ", name: \"/device:GPU:0\"\n",
      "device_type: \"GPU\"\n",
      "memory_limit: 11285289370\n",
      "locality {\n",
      "  bus_id: 1\n",
      "  links {\n",
      "  }\n",
      "}\n",
      "incarnation: 2358246800020234531\n",
      "physical_device_desc: \"device: 0, name: Tesla K80, pci bus id: 4719:00:00.0, compute capability: 3.7\"\n",
      "]\n",
      "['/job:localhost/replica:0/task:0/device:GPU:0']\n",
      "Joined features with skill labels.\n",
      "Joined features with skill labels.\n",
      "Joined features with skill labels.\n",
      "Joined features with skill labels.\n",
      "VizWiz training shape: (14257, 13)\n",
      "VQA training shape: (3230, 13)\n",
      "Total training rows: 17487\n",
      "VizWiz validation shape:(2247, 13)\n",
      "VQA validation shape:(513, 13)\n",
      "Total validation rows: 2760\n",
      "Training: (3230, 13)\n",
      "Validation: (513, 13)\n"
     ]
    }
   ],
   "source": [
    "from tensorflow.python.client import device_lib\n",
    "import tensorflow as tf\n",
    "from skill_label_classifier import *\n",
    "import matplotlib.pyplot as plt\n",
    "from sklearn.decomposition import PCA\n",
    "from sklearn.preprocessing import StandardScaler\n",
    "from gensim.test.utils import datapath\n",
    "from gensim.models import KeyedVectors\n",
    "from sklearn.metrics import f1_score, accuracy_score, roc_auc_score\n",
    "\n",
    "# helper function to find optimal number of PC (elbow method)\n",
    "def plot_explained_variance(X_train):\n",
    "    pca = PCA()\n",
    "    pca_full = pca.fit(X_train)\n",
    "    plt.plot(np.cumsum(pca_full.explained_variance_ratio_))\n",
    "    plt.xlabel(\"number of principal components\")\n",
    "    plt.ylabel(\"cumulative explained variance\")\n",
    "    plt.grid(color='grey',linestyle='-',alpha=0.2)\n",
    "    plt.show()\n",
    "    \n",
    "def preprocess_pca(X_train, X_test, dim, r=None):\n",
    "    pca = PCA(n_components=dim, random_state=r)\n",
    "    X_train_pca = pca.fit_transform(X_train)\n",
    "    X_test_pca = pca.transform(X_test)\n",
    "    return X_train_pca, X_test_pca\n",
    "\n",
    "\n",
    "experiment = SkillClassifier()\n",
    "experiment.import_data()\n",
    "experiment.create_df()\n",
    "\n",
    "experiment.choose_dataset('vqa')\n",
    "# experiment.set_features(['QSN', 'descriptions', 'tags', 'dominant_colors','handwritten_text', 'ocr_text'])\n",
    "experiment.set_features(['dominant_colors'])\n",
    "experiment.set_targets()\n",
    "\n",
    "features_train = experiment.features_train\n",
    "features_val   = experiment.features_val"
   ]
  },
  {
   "cell_type": "code",
   "execution_count": 3,
   "metadata": {
    "scrolled": false
   },
   "outputs": [
    {
     "name": "stdout",
     "output_type": "stream",
     "text": [
      "Number of training samples each class: \n",
      "Text recognition - 1: 358 0: 2872\n",
      "Color recognition - 1:1148 0: 2082\n",
      "Counting - 1: 661 0: 2569\n",
      "Number of validation samples each class: \n",
      "Text recognition - 1: 63 0: 450\n",
      "Color recognition - 1:179 0: 334\n",
      "Counting - 1:109 0: 404\n"
     ]
    },
    {
     "name": "stderr",
     "output_type": "stream",
     "text": [
      "/anaconda/envs/py35/lib/python3.5/site-packages/sklearn/utils/validation.py:475: DataConversionWarning: Data with input dtype int32 was converted to float64 by StandardScaler.\n",
      "  warnings.warn(msg, DataConversionWarning)\n",
      "2019-04-07 17:54:08,589 : INFO : loading projection weights from /anaconda/envs/py35/lib/python3.5/site-packages/gensim/test/test_data/GoogleNews-vectors-negative300.bin\n",
      "2019-04-07 17:54:50,070 : INFO : loaded (3000000, 300) matrix from /anaconda/envs/py35/lib/python3.5/site-packages/gensim/test/test_data/GoogleNews-vectors-negative300.bin\n",
      "/anaconda/envs/py35/lib/python3.5/site-packages/ipykernel_launcher.py:70: DeprecationWarning: Call to deprecated `wv` (Attribute will be removed in 4.0.0, use self instead).\n",
      "/anaconda/envs/py35/lib/python3.5/site-packages/ipykernel_launcher.py:71: DeprecationWarning: Call to deprecated `wv` (Attribute will be removed in 4.0.0, use self instead).\n"
     ]
    },
    {
     "name": "stdout",
     "output_type": "stream",
     "text": [
      "Total 3000000 word vectors\n"
     ]
    }
   ],
   "source": [
    "# check training class distribution\n",
    "text_recognition_y_train = np.asarray(experiment.txt_train).astype('float32')\n",
    "color_recognition_y_train = np.asarray(experiment.col_train).astype('float32')\n",
    "counting_y_train = np.asarray(experiment.cnt_train).astype('float32')\n",
    "\n",
    "print('Number of training samples each class: ')\n",
    "print('Text recognition - 1: {} 0: {}'.format(np.count_nonzero(text_recognition_y_train), \n",
    "      len(text_recognition_y_train)-np.count_nonzero(text_recognition_y_train)))\n",
    "print('Color recognition - 1:{} 0: {}'.format(np.count_nonzero(color_recognition_y_train),\n",
    "      len(color_recognition_y_train)-np.count_nonzero(color_recognition_y_train)))\n",
    "print('Counting - 1: {} 0: {}'.format(np.count_nonzero(counting_y_train), \n",
    "      len(counting_y_train)-np.count_nonzero(counting_y_train)))\n",
    "\n",
    "n_classes = 3\n",
    "\n",
    "y_train = np.column_stack((text_recognition_y_train, color_recognition_y_train, counting_y_train))\n",
    "\n",
    "# check validation class distribution\n",
    "text_recognition_y_val = np.asarray(experiment.txt_val).astype('float32')\n",
    "color_recognition_y_val = np.asarray(experiment.col_val).astype('float32')\n",
    "counting_y_val = np.asarray(experiment.cnt_val).astype('float32')\n",
    "print('Number of validation samples each class: ')\n",
    "print('Text recognition - 1: {} 0: {}'.format(np.count_nonzero(text_recognition_y_val), \n",
    "      len(text_recognition_y_val)-np.count_nonzero(text_recognition_y_val)))\n",
    "print('Color recognition - 1:{} 0: {}'.format(np.count_nonzero(color_recognition_y_val),\n",
    "     len(color_recognition_y_val)-np.count_nonzero(color_recognition_y_val)))\n",
    "print('Counting - 1:{} 0: {}'.format(np.count_nonzero(counting_y_val),\n",
    "     len(counting_y_val)-np.count_nonzero(counting_y_val)))\n",
    "\n",
    "y_val = np.column_stack((text_recognition_y_val, color_recognition_y_val, counting_y_val))\n",
    "\n",
    "# tokenize\n",
    "tok         = Tokenizer(num_words=VOCAB_SIZE, \n",
    "                       filters='!\"#$%&()*+,-./:;<=>?@[\\\\]^_`{|}~\\t\\n',\n",
    "                       lower=True,\n",
    "                       split=\" \")\n",
    "tok.fit_on_texts(features_train)\n",
    "\n",
    "# create training and validation sequences\n",
    "MAX_DOC_LEN = 40\n",
    "train_seq   = tok.texts_to_sequences(features_train)\n",
    "val_seq     = tok.texts_to_sequences(features_val)\n",
    "# pad training and validation sequences\n",
    "train_seq        = sequence.pad_sequences(train_seq, maxlen=MAX_DOC_LEN)\n",
    "val_seq          = sequence.pad_sequences(val_seq, maxlen=MAX_DOC_LEN)\n",
    "\n",
    "# standardize training and testing features\n",
    "sc = StandardScaler()\n",
    "train_seq = sc.fit_transform(train_seq)\n",
    "val_seq = sc.transform(val_seq)\n",
    "\n",
    "# Set validation data tuple\n",
    "val_data = (val_seq, y_val)\n",
    "\n",
    "# punkt sentence level tokenizer\n",
    "sent_lst = [] \n",
    "for doc in features_train:\n",
    "    sentences = nltk.tokenize.sent_tokenize(doc)\n",
    "    for sent in sentences:\n",
    "        word_lst = [w for w in nltk.tokenize.word_tokenize(sent) if w.isalnum()]\n",
    "        sent_lst.append(word_lst)\n",
    "\n",
    "googlenews_corpus = '/anaconda/envs/py35/lib/python3.5/site-packages/gensim/test/test_data/GoogleNews-vectors-negative300.bin'\n",
    "        \n",
    "# load pre-trained word2vec on GoogleNews (https://code.google.com/archive/p/word2vec/)\n",
    "logging.basicConfig(format='%(asctime)s : %(levelname)s : %(message)s', level=logging.INFO)\n",
    "word2vec_model = gensim.models.KeyedVectors.load_word2vec_format(datapath(googlenews_corpus),\n",
    "                                                                 binary=True)\n",
    "embeddings_index = {}\n",
    "for word in word2vec_model.wv.vocab:\n",
    "    coefs = np.asarray(word2vec_model.wv[word], dtype='float32')\n",
    "    embeddings_index[word] = coefs\n",
    "print('Total %s word vectors' % len(embeddings_index))\n",
    "\n",
    "# Initial word embedding\n",
    "embedding_matrix = np.zeros((VOCAB_SIZE, EMBEDDING_DIM))\n",
    "for word, i in tok.word_index.items():\n",
    "    embedding_vector = embeddings_index.get(word)\n",
    "    if embedding_vector is not None and i < VOCAB_SIZE:\n",
    "        embedding_matrix[i] = embedding_vector\n",
    "\n",
    "# PCA to reduce dimensionality\n",
    "N_COMPONENTS = MAX_DOC_LEN\n",
    "train_seq, val_seq = preprocess_pca(train_seq, val_seq, dim=N_COMPONENTS)"
   ]
  },
  {
   "cell_type": "markdown",
   "metadata": {},
   "source": [
    "# GPU, VQA, test individual features for counting"
   ]
  },
  {
   "cell_type": "code",
   "execution_count": null,
   "metadata": {},
   "outputs": [
    {
     "name": "stdout",
     "output_type": "stream",
     "text": [
      "Log file: ./LSTM/0.1_1e-07_32_250.log\n"
     ]
    }
   ],
   "source": [
    "L = 1e-1\n",
    "B = 32\n",
    "E = 250\n",
    "model, history = lstm_create_train(MAX_DOC_LEN, train_seq, embedding_matrix,\n",
    "                 train_labels=y_train,\n",
    "                 val_data=val_data,\n",
    "                 learning_rate=L,\n",
    "                 lstm_dim=100,\n",
    "                 batch_size=B,\n",
    "                 num_epochs=E,\n",
    "                 optimizer_param=SGD(lr=L, nesterov=True),\n",
    "                 n_classes=3)"
   ]
  },
  {
   "cell_type": "code",
   "execution_count": null,
   "metadata": {},
   "outputs": [],
   "source": [
    "preds = model.predict(val_seq, verbose=0)\n",
    "y_pred_text = [1 if i >= 0.5 else 0 for i in preds[:,0]]\n",
    "y_pred_color = [1 if i >= 0.5 else 0 for i in preds[:,1]]\n",
    "y_pred_counting = [1 if i >= 0.5 else 0 for i in preds[:,2]]\n",
    "print(\"VQA, all features - accuracy\\ntext: {}\\ncolor:{}\\ncounting:{}\".format(accuracy_score(y_val[:,0], y_pred_text),\n",
    "                                                        accuracy_score(y_val[:,1], y_pred_color),\n",
    "                                                        accuracy_score(y_val[:,2], y_pred_counting)))\n",
    "print(\"Counting - AUC:\", roc_auc_score(y_val[:,2], y_pred_counting))"
   ]
  },
  {
   "cell_type": "code",
   "execution_count": null,
   "metadata": {},
   "outputs": [],
   "source": []
  },
  {
   "cell_type": "code",
   "execution_count": null,
   "metadata": {},
   "outputs": [],
   "source": []
  },
  {
   "cell_type": "code",
   "execution_count": 7,
   "metadata": {},
   "outputs": [
    {
     "data": {
      "image/png": "[encoded data removed]",
      "text/plain": [
       "<Figure size 432x288 with 1 Axes>"
      ]
     },
     "metadata": {},
     "output_type": "display_data"
    },
    {
     "data": {
      "image/png": "[encoded data removed]",
      "text/plain": [
       "<Figure size 432x288 with 1 Axes>"
      ]
     },
     "metadata": {},
     "output_type": "display_data"
    }
   ],
   "source": [
    "log = pd.read_csv(\"./LSTM/0.1_(0.001, 0.001)_32_1000.log\")\n",
    "plt.plot(log['epoch'].values, log['loss'].values, label='loss')\n",
    "plt.plot(log['epoch'].values, log['val_loss'].values, label='val_loss')\n",
    "plt.legend()\n",
    "plt.xlabel(\"epoch\")\n",
    "plt.ylabel(\"loss\")\n",
    "plt.grid()\n",
    "plt.show()\n",
    "\n",
    "plt.plot(log['lr'].values, log['loss'].values, label='loss')\n",
    "plt.plot(log['lr'].values, log['val_loss'].values, label='val_loss')\n",
    "plt.legend()\n",
    "plt.xlabel(\"learning rate\")\n",
    "plt.ylabel(\"loss\")\n",
    "plt.grid()\n",
    "plt.show()"
   ]
  },
  {
   "cell_type": "code",
   "execution_count": null,
   "metadata": {},
   "outputs": [],
   "source": []
  }
 ],
 "metadata": {
  "kernelspec": {
   "display_name": "Python 3",
   "language": "python",
   "name": "python3"
  },
  "language_info": {
   "codemirror_mode": {
    "name": "ipython",
    "version": 3
   },
   "file_extension": ".py",
   "mimetype": "text/x-python",
   "name": "python",
   "nbconvert_exporter": "python",
   "pygments_lexer": "ipython3",
   "version": "3.5.5"
  }
 },
 "nbformat": 4,
 "nbformat_minor": 2
}
