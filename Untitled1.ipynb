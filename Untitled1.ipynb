{
 "cells": [
  {
   "cell_type": "code",
   "execution_count": 36,
   "metadata": {},
   "outputs": [],
   "source": [
    "import pandas as pd\n",
    "import numpy as np\n",
    "import matplotlib.pyplot as plt\n",
    "from util import *"
   ]
  },
  {
   "cell_type": "code",
   "execution_count": 7,
   "metadata": {},
   "outputs": [],
   "source": [
    "# this block of codes comes from Nilavra Bhattacharya, \n",
    "# http://nbviewer.jupyter.org/urls/ivc.ischool.utexas.edu/VizWiz/extn/tutorial_skill_type.ipynb\n",
    "\n",
    "df_train = pd.read_csv('../vizwiz_skill_typ_train.csv', skipinitialspace = True, engine='python')\n",
    "df_val = pd.read_csv('../vizwiz_skill_typ_val.csv', skipinitialspace = True, engine='python')\n",
    "\n",
    "df_train_features = pd.read_csv('../vizwiz_features_train.csv', skipinitialspace = True, engine='python')\n",
    "df_val_features = pd.read_csv('../vizwiz_features_val.csv', skipinitialspace = True, engine='python')"
   ]
  },
  {
   "cell_type": "code",
   "execution_count": 4,
   "metadata": {},
   "outputs": [
    {
     "data": {
      "text/html": [
       "<div>\n",
       "<style scoped>\n",
       "    .dataframe tbody tr th:only-of-type {\n",
       "        vertical-align: middle;\n",
       "    }\n",
       "\n",
       "    .dataframe tbody tr th {\n",
       "        vertical-align: top;\n",
       "    }\n",
       "\n",
       "    .dataframe thead th {\n",
       "        text-align: right;\n",
       "    }\n",
       "</style>\n",
       "<table border=\"1\" class=\"dataframe\">\n",
       "  <thead>\n",
       "    <tr style=\"text-align: right;\">\n",
       "      <th></th>\n",
       "      <th>% of true</th>\n",
       "      <th>skill</th>\n",
       "    </tr>\n",
       "  </thead>\n",
       "  <tbody>\n",
       "    <tr>\n",
       "      <th>0</th>\n",
       "      <td>0.561847</td>\n",
       "      <td>TXT</td>\n",
       "    </tr>\n",
       "    <tr>\n",
       "      <th>1</th>\n",
       "      <td>0.984652</td>\n",
       "      <td>OBJ</td>\n",
       "    </tr>\n",
       "    <tr>\n",
       "      <th>2</th>\n",
       "      <td>0.379564</td>\n",
       "      <td>COL</td>\n",
       "    </tr>\n",
       "    <tr>\n",
       "      <th>3</th>\n",
       "      <td>0.036513</td>\n",
       "      <td>CNT</td>\n",
       "    </tr>\n",
       "    <tr>\n",
       "      <th>4</th>\n",
       "      <td>0.001542</td>\n",
       "      <td>OTH</td>\n",
       "    </tr>\n",
       "  </tbody>\n",
       "</table>\n",
       "</div>"
      ],
      "text/plain": [
       "   % of true skill\n",
       "0   0.561847   TXT\n",
       "1   0.984652   OBJ\n",
       "2   0.379564   COL\n",
       "3   0.036513   CNT\n",
       "4   0.001542   OTH"
      ]
     },
     "execution_count": 4,
     "metadata": {},
     "output_type": "execute_result"
    }
   ],
   "source": [
    "# check class distributions\n",
    "target_classes = ['TXT', 'OBJ', 'COL', 'CNT', 'OTH']\n",
    "class_dist = []\n",
    "for skill in target_classes:\n",
    "    percent = len(df_train.loc[df_train[skill] == 1])/len(df_train)\n",
    "    temp = {'skill': skill, '% of true': percent}\n",
    "    class_dist.append(temp)\n",
    "class_dist = pd.DataFrame(class_dist)\n",
    "class_dist"
   ]
  },
  {
   "cell_type": "code",
   "execution_count": 5,
   "metadata": {},
   "outputs": [
    {
     "data": {
      "text/html": [
       "<div>\n",
       "<style scoped>\n",
       "    .dataframe tbody tr th:only-of-type {\n",
       "        vertical-align: middle;\n",
       "    }\n",
       "\n",
       "    .dataframe tbody tr th {\n",
       "        vertical-align: top;\n",
       "    }\n",
       "\n",
       "    .dataframe thead th {\n",
       "        text-align: right;\n",
       "    }\n",
       "</style>\n",
       "<table border=\"1\" class=\"dataframe\">\n",
       "  <thead>\n",
       "    <tr style=\"text-align: right;\">\n",
       "      <th></th>\n",
       "      <th>TXT</th>\n",
       "      <th>OBJ</th>\n",
       "      <th>COL</th>\n",
       "      <th>CNT</th>\n",
       "      <th>OTH</th>\n",
       "    </tr>\n",
       "  </thead>\n",
       "  <tbody>\n",
       "    <tr>\n",
       "      <th>TXT</th>\n",
       "      <td>1.000000</td>\n",
       "      <td>0.031074</td>\n",
       "      <td>-0.479960</td>\n",
       "      <td>0.094344</td>\n",
       "      <td>-0.019298</td>\n",
       "    </tr>\n",
       "    <tr>\n",
       "      <th>OBJ</th>\n",
       "      <td>0.031074</td>\n",
       "      <td>1.000000</td>\n",
       "      <td>-0.035096</td>\n",
       "      <td>0.006068</td>\n",
       "      <td>0.004906</td>\n",
       "    </tr>\n",
       "    <tr>\n",
       "      <th>COL</th>\n",
       "      <td>-0.479960</td>\n",
       "      <td>-0.035096</td>\n",
       "      <td>1.000000</td>\n",
       "      <td>-0.106065</td>\n",
       "      <td>-0.016013</td>\n",
       "    </tr>\n",
       "    <tr>\n",
       "      <th>CNT</th>\n",
       "      <td>0.094344</td>\n",
       "      <td>0.006068</td>\n",
       "      <td>-0.106065</td>\n",
       "      <td>1.000000</td>\n",
       "      <td>-0.007650</td>\n",
       "    </tr>\n",
       "    <tr>\n",
       "      <th>OTH</th>\n",
       "      <td>-0.019298</td>\n",
       "      <td>0.004906</td>\n",
       "      <td>-0.016013</td>\n",
       "      <td>-0.007650</td>\n",
       "      <td>1.000000</td>\n",
       "    </tr>\n",
       "  </tbody>\n",
       "</table>\n",
       "</div>"
      ],
      "text/plain": [
       "          TXT       OBJ       COL       CNT       OTH\n",
       "TXT  1.000000  0.031074 -0.479960  0.094344 -0.019298\n",
       "OBJ  0.031074  1.000000 -0.035096  0.006068  0.004906\n",
       "COL -0.479960 -0.035096  1.000000 -0.106065 -0.016013\n",
       "CNT  0.094344  0.006068 -0.106065  1.000000 -0.007650\n",
       "OTH -0.019298  0.004906 -0.016013 -0.007650  1.000000"
      ]
     },
     "execution_count": 5,
     "metadata": {},
     "output_type": "execute_result"
    }
   ],
   "source": [
    "# correlations: OBJ is correlated with COL\n",
    "df_train[['TXT', 'OBJ', 'COL', 'CNT', 'OTH']].corr()"
   ]
  },
  {
   "cell_type": "code",
   "execution_count": null,
   "metadata": {},
   "outputs": [],
   "source": [
    "visual_features_train = aggregate_visual_features(cv_key=)"
   ]
  },
  {
   "cell_type": "code",
   "execution_count": null,
   "metadata": {},
   "outputs": [],
   "source": [
    "# store a local csv file\n",
    "visual_features_train.to_csv('visual_features_train.csv')"
   ]
  }
 ],
 "metadata": {
  "kernelspec": {
   "display_name": "Python 3",
   "language": "python",
   "name": "python3"
  },
  "language_info": {
   "codemirror_mode": {
    "name": "ipython",
    "version": 3
   },
   "file_extension": ".py",
   "mimetype": "text/x-python",
   "name": "python",
   "nbconvert_exporter": "python",
   "pygments_lexer": "ipython3",
   "version": "3.5.5"
  }
 },
 "nbformat": 4,
 "nbformat_minor": 2
}
