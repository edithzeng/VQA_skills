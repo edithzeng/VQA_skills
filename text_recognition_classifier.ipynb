{
 "cells": [
  {
   "cell_type": "code",
   "execution_count": 2,
   "metadata": {
    "scrolled": true
   },
   "outputs": [
    {
     "name": "stderr",
     "output_type": "stream",
     "text": [
      "/anaconda/envs/py35/lib/python3.5/site-packages/h5py/__init__.py:36: FutureWarning: Conversion of the second argument of issubdtype from `float` to `np.floating` is deprecated. In future, it will be treated as `np.float64 == np.dtype(float).type`.\n",
      "  from ._conv import register_converters as _register_converters\n",
      "Using TensorFlow backend.\n"
     ]
    },
    {
     "name": "stdout",
     "output_type": "stream",
     "text": [
      "[nltk_data] Downloading package wordnet to\n",
      "[nltk_data]     /home/edithzeng/nltk_data...\n",
      "[nltk_data]   Package wordnet is already up-to-date!\n",
      "[nltk_data] Downloading package punkt to /home/edithzeng/nltk_data...\n",
      "[nltk_data]   Package punkt is already up-to-date!\n",
      "[nltk_data] Downloading package stopwords to\n",
      "[nltk_data]     /home/edithzeng/nltk_data...\n",
      "[nltk_data]   Package stopwords is already up-to-date!\n",
      "[name: \"/device:CPU:0\"\n",
      "device_type: \"CPU\"\n",
      "memory_limit: 268435456\n",
      "locality {\n",
      "}\n",
      "incarnation: 14387839429139522980\n",
      ", name: \"/device:GPU:0\"\n",
      "device_type: \"GPU\"\n",
      "memory_limit: 10353767220\n",
      "locality {\n",
      "  bus_id: 1\n",
      "  links {\n",
      "  }\n",
      "}\n",
      "incarnation: 8038276677833914493\n",
      "physical_device_desc: \"device: 0, name: Tesla K80, pci bus id: 1d78:00:00.0, compute capability: 3.7\"\n",
      "]\n",
      "['/job:localhost/replica:0/task:0/device:GPU:0']\n"
     ]
    }
   ],
   "source": [
    "from tensorflow.python.client import device_lib\n",
    "import tensorflow as tf\n",
    "from skill_label_classifier import *\n",
    "import matplotlib.pyplot as plt"
   ]
  },
  {
   "cell_type": "code",
   "execution_count": null,
   "metadata": {},
   "outputs": [],
   "source": [
    "experiment = SkillClassifier()\n",
    "experiment.import_data()\n",
    "experiment.create_df()\n",
    "\n",
    "experiment.choose_dataset('vizwiz')\n",
    "# experiment.set_features(['QSN', 'descriptions', 'tags', 'dominant_colors','handwritten_text', 'ocr_text'])\n",
    "experiment.set_features(['QSN'])\n",
    "experiment.set_targets()\n",
    "\n",
    "features_train = experiment.features_train\n",
    "features_val   = experiment.features_val\n",
    "\n",
    "# check training class distribution\n",
    "text_recognition_y_train = to_categorical(np.asarray(experiment.txt_train)).astype('float32')\n",
    "color_recognition_y_train = to_categorical(np.asarray(experiment.col_train)).astype('float32')\n",
    "print('Number of training samples each class: ')\n",
    "print('Text recognition', text_recognition_y_train.sum(axis=0))\n",
    "print('Color recognition', color_recognition_y_train.sum(axis=0))\n",
    "\n",
    "n_classes = 2\n",
    "\n",
    "# check validation class distribution\n",
    "text_recognition_y_val = to_categorical(np.asarray(experiment.txt_val)).astype('float32')\n",
    "color_recognition_y_val = to_categorical(np.asarray(experiment.col_val)).astype('float32')\n",
    "print('Number of validation samples each class: ')\n",
    "print('Text recognition', text_recognition_y_val.sum(axis=0))\n",
    "print('Color recognition', color_recognition_y_val.sum(axis=0))\n",
    "\n",
    "# get targets\n",
    "txt_train      = experiment.txt_train\n",
    "col_train      = experiment.col_train\n",
    "txt_val        = experiment.txt_val\n",
    "col_val        = experiment.col_val"
   ]
  },
  {
   "cell_type": "code",
   "execution_count": 15,
   "metadata": {
    "scrolled": true
   },
   "outputs": [
    {
     "name": "stderr",
     "output_type": "stream",
     "text": [
      "2019-03-12 16:08:19,179 : INFO : collecting all words and their counts\n",
      "2019-03-12 16:08:19,180 : INFO : PROGRESS: at sentence #0, processed 0 words, keeping 0 word types\n",
      "2019-03-12 16:08:19,193 : INFO : PROGRESS: at sentence #10000, processed 62456 words, keeping 2221 word types\n",
      "2019-03-12 16:08:19,199 : INFO : collected 2606 word types from a corpus of 89022 raw words and 14257 sentences\n",
      "2019-03-12 16:08:19,200 : INFO : Loading a fresh vocabulary\n",
      "2019-03-12 16:08:19,203 : INFO : effective_min_count=6 retains 699 unique words (26% of original 2606, drops 1907)\n",
      "2019-03-12 16:08:19,203 : INFO : effective_min_count=6 leaves 85730 word corpus (96% of original 89022, drops 3292)\n",
      "2019-03-12 16:08:19,207 : INFO : deleting the raw counts dictionary of 2606 items\n",
      "2019-03-12 16:08:19,208 : INFO : sample=0.001 downsamples 44 most-common words\n",
      "2019-03-12 16:08:19,208 : INFO : downsampling leaves estimated 34454 word corpus (40.2% of prior 85730)\n",
      "2019-03-12 16:08:19,211 : INFO : estimated required memory for 699 words and 100 dimensions: 908700 bytes\n",
      "2019-03-12 16:08:19,211 : INFO : resetting layer weights\n",
      "2019-03-12 16:08:19,219 : INFO : training model with 6 workers on 699 vocabulary and 100 features, using sg=1 hs=0 sample=0.001 negative=5 window=5\n",
      "2019-03-12 16:08:19,256 : INFO : worker thread finished; awaiting finish of 5 more threads\n",
      "2019-03-12 16:08:19,259 : INFO : worker thread finished; awaiting finish of 4 more threads\n",
      "2019-03-12 16:08:19,260 : INFO : worker thread finished; awaiting finish of 3 more threads\n",
      "2019-03-12 16:08:19,269 : INFO : worker thread finished; awaiting finish of 2 more threads\n",
      "2019-03-12 16:08:19,270 : INFO : worker thread finished; awaiting finish of 1 more threads\n",
      "2019-03-12 16:08:19,270 : INFO : worker thread finished; awaiting finish of 0 more threads\n",
      "2019-03-12 16:08:19,271 : INFO : EPOCH - 1 : training on 89022 raw words (34266 effective words) took 0.0s, 793724 effective words/s\n",
      "2019-03-12 16:08:19,317 : INFO : worker thread finished; awaiting finish of 5 more threads\n",
      "2019-03-12 16:08:19,318 : INFO : worker thread finished; awaiting finish of 4 more threads\n",
      "2019-03-12 16:08:19,318 : INFO : worker thread finished; awaiting finish of 3 more threads\n",
      "2019-03-12 16:08:19,319 : INFO : worker thread finished; awaiting finish of 2 more threads\n",
      "2019-03-12 16:08:19,322 : INFO : worker thread finished; awaiting finish of 1 more threads\n",
      "2019-03-12 16:08:19,326 : INFO : worker thread finished; awaiting finish of 0 more threads\n",
      "2019-03-12 16:08:19,326 : INFO : EPOCH - 2 : training on 89022 raw words (34290 effective words) took 0.0s, 769920 effective words/s\n",
      "2019-03-12 16:08:19,364 : INFO : worker thread finished; awaiting finish of 5 more threads\n",
      "2019-03-12 16:08:19,368 : INFO : worker thread finished; awaiting finish of 4 more threads\n",
      "2019-03-12 16:08:19,374 : INFO : worker thread finished; awaiting finish of 3 more threads\n",
      "2019-03-12 16:08:19,375 : INFO : worker thread finished; awaiting finish of 2 more threads\n",
      "2019-03-12 16:08:19,376 : INFO : worker thread finished; awaiting finish of 1 more threads\n",
      "2019-03-12 16:08:19,376 : INFO : worker thread finished; awaiting finish of 0 more threads\n",
      "2019-03-12 16:08:19,377 : INFO : EPOCH - 3 : training on 89022 raw words (34581 effective words) took 0.0s, 801342 effective words/s\n",
      "2019-03-12 16:08:19,420 : INFO : worker thread finished; awaiting finish of 5 more threads\n",
      "2019-03-12 16:08:19,423 : INFO : worker thread finished; awaiting finish of 4 more threads\n",
      "2019-03-12 16:08:19,424 : INFO : worker thread finished; awaiting finish of 3 more threads\n",
      "2019-03-12 16:08:19,426 : INFO : worker thread finished; awaiting finish of 2 more threads\n",
      "2019-03-12 16:08:19,428 : INFO : worker thread finished; awaiting finish of 1 more threads\n",
      "2019-03-12 16:08:19,429 : INFO : worker thread finished; awaiting finish of 0 more threads\n",
      "2019-03-12 16:08:19,429 : INFO : EPOCH - 4 : training on 89022 raw words (34566 effective words) took 0.0s, 829819 effective words/s\n",
      "2019-03-12 16:08:19,467 : INFO : worker thread finished; awaiting finish of 5 more threads\n",
      "2019-03-12 16:08:19,473 : INFO : worker thread finished; awaiting finish of 4 more threads\n",
      "2019-03-12 16:08:19,474 : INFO : worker thread finished; awaiting finish of 3 more threads\n",
      "2019-03-12 16:08:19,478 : INFO : worker thread finished; awaiting finish of 2 more threads\n",
      "2019-03-12 16:08:19,479 : INFO : worker thread finished; awaiting finish of 1 more threads\n",
      "2019-03-12 16:08:19,479 : INFO : worker thread finished; awaiting finish of 0 more threads\n",
      "2019-03-12 16:08:19,480 : INFO : EPOCH - 5 : training on 89022 raw words (34509 effective words) took 0.0s, 850056 effective words/s\n",
      "2019-03-12 16:08:19,480 : INFO : training on a 445110 raw words (172212 effective words) took 0.3s, 661596 effective words/s\n",
      "2019-03-12 16:08:19,481 : WARNING : under 10 jobs per worker: consider setting a smaller `batch_words' for smoother alpha decay\n"
     ]
    },
    {
     "name": "stdout",
     "output_type": "stream",
     "text": [
      "Total 699 word vectors\n"
     ]
    }
   ],
   "source": [
    "# tokenize\n",
    "tok        = Tokenizer(num_words=VOCAB_SIZE, \n",
    "                       filters='!\"#$%&()*+,-./:;<=>?@[\\\\]^_`{|}~\\t\\n',\n",
    "                       lower=True,\n",
    "                       split=\" \")\n",
    "tok.fit_on_texts(features_train)\n",
    "\n",
    "# create sequences & pad\n",
    "train_seq  = tok.texts_to_sequences(features_train)\n",
    "train_seq  = sequence.pad_sequences(train_seq, maxlen=MAX_DOC_LEN)\n",
    "val_seq    = tok.texts_to_sequences(features_val)\n",
    "val_seq    = sequence.pad_sequences(val_seq, maxlen=MAX_DOC_LEN)\n",
    "\n",
    "# Set validation tuple - text recognition\n",
    "val_data = (val_seq, text_recognition_y_val)\n",
    "\n",
    "# punkt sentence level tokenizer\n",
    "sent_lst = [] \n",
    "for doc in features_train:\n",
    "    sentences = nltk.tokenize.sent_tokenize(doc)\n",
    "    for sent in sentences:\n",
    "        word_lst = [w for w in nltk.tokenize.word_tokenize(sent) if w.isalnum()]\n",
    "        sent_lst.append(word_lst)\n",
    "\n",
    "# word2vec\n",
    "logging.basicConfig(format='%(asctime)s : %(levelname)s : %(message)s', level=logging.INFO)\n",
    "word2vec_model = gensim.models.Word2Vec(sentences=sent_lst,\n",
    "                                        min_count=6,\n",
    "                                        size=EMBEDDING_DIM,\n",
    "                                        sg=1,\n",
    "                                        workers=os.cpu_count())\n",
    "\n",
    "embeddings_index = {}\n",
    "for word in word2vec_model.wv.vocab:\n",
    "    coefs = np.asarray(word2vec_model.wv[word], dtype='float32')\n",
    "    embeddings_index[word] = coefs\n",
    "print('Total %s word vectors' % len(embeddings_index))\n",
    "\n",
    "# Initial word embedding\n",
    "embedding_matrix = np.zeros((VOCAB_SIZE, EMBEDDING_DIM))\n",
    "\n",
    "for word, i in tok.word_index.items():\n",
    "    embedding_vector = embeddings_index.get(word)\n",
    "    if embedding_vector is not None and i < VOCAB_SIZE:\n",
    "        embedding_matrix[i] = embedding_vector\n"
   ]
  },
  {
   "cell_type": "markdown",
   "metadata": {},
   "source": [
    "### previous experiments with 300 epochs"
   ]
  },
  {
   "cell_type": "code",
   "execution_count": 7,
   "metadata": {
    "scrolled": true
   },
   "outputs": [
    {
     "name": "stdout",
     "output_type": "stream",
     "text": [
      "Learning rate: 0.01 Regularization: 0 Batch size: 32 Epoch: 300\n",
      "Accuracy = 0.8888888888888888 \t AUC = 0.8028218694885362\n"
     ]
    }
   ],
   "source": [
    "# all feature, VQA text\n",
    "L = 1e-2\n",
    "R = 0\n",
    "B = 32\n",
    "E = 300\n",
    "skill='text'\n",
    "result = lstm_create_train(train_seq, embedding_matrix,\n",
    "                 train_labels=text_recognition_y_train, skill=skill,\n",
    "                 val_data=val_data,\n",
    "                 learning_rate=L,\n",
    "                 lstm_dim=100,\n",
    "                 batch_size=B,\n",
    "                 num_epochs=E,\n",
    "                 optimizer_param=SGD(lr=L, nesterov=True),\n",
    "                 regularization=R)\n",
    "model = load_model('./LSTM/{}/{}_{}_{}_{}_model.h5'.format(skill,L,R,B,E))\n",
    "preds = model.predict(val_seq, verbose=0)\n",
    "print(\"Learning rate: {} Regularization: {} Batch size: {} Epoch: {}\".format(L,R,B,E))\n",
    "print((\"Accuracy = {0} \\t AUC = {1}\".format(accuracy_score(txt_val, preds.argmax(axis=1)), \n",
    "                                                            roc_auc_score(txt_val, preds[:,1]))))"
   ]
  },
  {
   "cell_type": "markdown",
   "metadata": {},
   "source": [
    "## VQA text recogintion, all features, 500 epochs"
   ]
  },
  {
   "cell_type": "code",
   "execution_count": 8,
   "metadata": {},
   "outputs": [
    {
     "name": "stdout",
     "output_type": "stream",
     "text": [
      "Learning rate: 0.01 Regularization: 0 Batch size: 32 Epoch: 500\n",
      "Accuracy = 0.8713450292397661 \t AUC = 0.7552380952380953\n"
     ]
    }
   ],
   "source": [
    "# all feature, VQA text\n",
    "L = 1e-2\n",
    "R = 0\n",
    "B = 32\n",
    "E = 500\n",
    "skill='text'\n",
    "vqa_text_result = lstm_create_train(train_seq, embedding_matrix,\n",
    "                 train_labels=text_recognition_y_train, skill=skill,\n",
    "                 val_data=val_data,\n",
    "                 learning_rate=L,\n",
    "                 lstm_dim=100,\n",
    "                 batch_size=B,\n",
    "                 num_epochs=E,\n",
    "                 optimizer_param=SGD(lr=L, nesterov=True),\n",
    "                 regularization=R)\n",
    "model = load_model('./LSTM/{}/{}_{}_{}_{}_model.h5'.format(skill,L,R,B,E))\n",
    "preds = model.predict(val_seq, verbose=0)\n",
    "print(\"Learning rate: {} Regularization: {} Batch size: {} Epoch: {}\".format(L,R,B,E))\n",
    "print((\"Accuracy = {0} \\t AUC = {1}\".format(accuracy_score(txt_val, preds.argmax(axis=1)), \n",
    "                                                            roc_auc_score(txt_val, preds[:,1]))))"
   ]
  },
  {
   "cell_type": "code",
   "execution_count": 18,
   "metadata": {},
   "outputs": [
    {
     "name": "stdout",
     "output_type": "stream",
     "text": [
      "Stored 'vqa_text_result' (dict)\n"
     ]
    }
   ],
   "source": [
    "vqa_text_result = vqa_text_result.history\n",
    "%store vqa_text_result"
   ]
  },
  {
   "cell_type": "code",
   "execution_count": 9,
   "metadata": {},
   "outputs": [],
   "source": [
    "%store -r vqa_text_result"
   ]
  },
  {
   "cell_type": "code",
   "execution_count": 10,
   "metadata": {},
   "outputs": [
    {
     "data": {
      "image/png": "[encoded data removed]",
      "text/plain": [
       "<Figure size 432x288 with 1 Axes>"
      ]
     },
     "metadata": {},
     "output_type": "display_data"
    }
   ],
   "source": [
    "plt.plot([i for i in range(500)], vqa_text_result['acc'],label='training')\n",
    "plt.plot([i for i in range(500)], vqa_text_result['val_acc'],label='validation')\n",
    "plt.xlabel(\"epoch\")\n",
    "plt.ylabel(\"accuracy\")\n",
    "plt.title(\"Performance on VQA, text recognition classifier, all features\")\n",
    "plt.grid()\n",
    "plt.legend()\n",
    "plt.show()"
   ]
  },
  {
   "cell_type": "markdown",
   "metadata": {},
   "source": [
    "### Vizwiz text recognition, all features, 500 epochs"
   ]
  },
  {
   "cell_type": "code",
   "execution_count": 6,
   "metadata": {},
   "outputs": [
    {
     "name": "stdout",
     "output_type": "stream",
     "text": [
      "Learning rate: 0.01 Regularization: 0 Batch size: 32 Epoch: 500\n",
      "Accuracy = 0.8170894526034713 \t AUC = 0.8729808046494495\n"
     ]
    }
   ],
   "source": [
    "L = 1e-2\n",
    "R = 0\n",
    "B = 32\n",
    "E = 500\n",
    "skill='text'\n",
    "vizwiz_text_result = lstm_create_train(train_seq, embedding_matrix,\n",
    "                 train_labels=text_recognition_y_train, skill=skill,\n",
    "                 val_data=val_data,\n",
    "                 learning_rate=L,\n",
    "                 lstm_dim=100,\n",
    "                 batch_size=B,\n",
    "                 num_epochs=E,\n",
    "                 optimizer_param=SGD(lr=L, nesterov=True),\n",
    "                 regularization=R)\n",
    "model = load_model('./LSTM/{}/{}_{}_{}_{}_model.h5'.format(skill,L,R,B,E))\n",
    "preds = model.predict(val_seq, verbose=0)\n",
    "print(\"Learning rate: {} Regularization: {} Batch size: {} Epoch: {}\".format(L,R,B,E))\n",
    "print((\"Accuracy = {0} \\t AUC = {1}\".format(accuracy_score(txt_val, preds.argmax(axis=1)), \n",
    "                                                            roc_auc_score(txt_val, preds[:,1]))))"
   ]
  },
  {
   "cell_type": "code",
   "execution_count": 11,
   "metadata": {},
   "outputs": [
    {
     "name": "stdout",
     "output_type": "stream",
     "text": [
      "Stored 'vizwiz_text_result' (dict)\n"
     ]
    }
   ],
   "source": [
    "vizwiz_text_result = vizwiz_text_result.history\n",
    "%store vizwiz_text_result"
   ]
  },
  {
   "cell_type": "code",
   "execution_count": 13,
   "metadata": {},
   "outputs": [
    {
     "data": {
      "image/png": "[encoded data removed]",
      "text/plain": [
       "<Figure size 432x288 with 1 Axes>"
      ]
     },
     "metadata": {},
     "output_type": "display_data"
    }
   ],
   "source": [
    "plt.plot([i for i in range(500)], vizwiz_text_result['acc'],label='training')\n",
    "plt.plot([i for i in range(500)], vizwiz_text_result['val_acc'],label='validation')\n",
    "plt.xlabel(\"epoch\")\n",
    "plt.ylabel(\"accuracy\")\n",
    "plt.title(\"Performance on VizWiz, text recognition classifier, all features\")\n",
    "plt.grid()\n",
    "plt.legend()\n",
    "plt.show()"
   ]
  },
  {
   "cell_type": "markdown",
   "metadata": {},
   "source": [
    "### VizWiz, text recognition, QSN, 500 epochs"
   ]
  },
  {
   "cell_type": "code",
   "execution_count": null,
   "metadata": {},
   "outputs": [],
   "source": [
    "L = 1e-2\n",
    "R = 0\n",
    "B = 32\n",
    "E = 500\n",
    "skill='text'\n",
    "vizwiz_qsn_result = lstm_create_train(train_seq, embedding_matrix,\n",
    "                 train_labels=text_recognition_y_train, skill=skill,\n",
    "                 val_data=val_data,\n",
    "                 learning_rate=L,\n",
    "                 lstm_dim=100,\n",
    "                 batch_size=B,\n",
    "                 num_epochs=E,\n",
    "                 optimizer_param=SGD(lr=L, nesterov=True),\n",
    "                 regularization=R)\n",
    "model = load_model('./LSTM/{}/{}_{}_{}_{}_model.h5'.format(skill,L,R,B,E))\n",
    "preds = model.predict(val_seq, verbose=0)\n",
    "print(\"Learning rate: {} Regularization: {} Batch size: {} Epoch: {}\".format(L,R,B,E))\n",
    "print((\"Accuracy = {0} \\t AUC = {1}\".format(accuracy_score(txt_val, preds.argmax(axis=1)), \n",
    "                                                            roc_auc_score(txt_val, preds[:,1]))))"
   ]
  },
  {
   "cell_type": "code",
   "execution_count": null,
   "metadata": {},
   "outputs": [],
   "source": []
  }
 ],
 "metadata": {
  "kernelspec": {
   "display_name": "Python 3",
   "language": "python",
   "name": "python3"
  },
  "language_info": {
   "codemirror_mode": {
    "name": "ipython",
    "version": 3
   },
   "file_extension": ".py",
   "mimetype": "text/x-python",
   "name": "python",
   "nbconvert_exporter": "python",
   "pygments_lexer": "ipython3",
   "version": "3.5.5"
  }
 },
 "nbformat": 4,
 "nbformat_minor": 2
}
