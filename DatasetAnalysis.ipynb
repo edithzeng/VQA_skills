{
 "cells": [
  {
   "cell_type": "code",
   "execution_count": 1,
   "metadata": {},
   "outputs": [],
   "source": [
    "##############################\n",
    "### REMOVE BEFOER GIT PUSH ###\n",
    "##############################\n",
    "subscription_key_text = \n",
    "text_analytics_base_url = \n",
    "\n",
    "subscription_key_image = \n",
    "image_analytics_base_url = "
   ]
  },
  {
   "cell_type": "code",
   "execution_count": 40,
   "metadata": {
    "scrolled": true
   },
   "outputs": [],
   "source": [
    "from util import *\n",
    "%matplotlib inline\n",
    "from IPython.display import Image\n",
    "from IPython.core.display import HTML"
   ]
  },
  {
   "cell_type": "markdown",
   "metadata": {},
   "source": [
    "1/31/2019\n",
    "\n",
    "Below are my findings about questions in VizWiz & VQA datasets based on the training sets from Nilavra. \n",
    "Assumptions - \n",
    "- VizWiz consists of primarily questions from blind users, whereas VQA's questions come from visually-abled crowd workers (Agrawal et al. 2015, p4); \n",
    "- skills labelled are indicative of users' information needs; and \n",
    "- human opinions are limited, expensive and more reliable whereas automated solutions are cheaper but less accurate, and there's a trade-off when we try to combine the two.\n",
    "\n",
    "0) Where did the skills categories come from (not from VQA?)\n",
    "\n",
    "1) Skills -- class distributions:\n",
    "- Both datasets are heavily focused on object recognition task (98% in VizWiz and 99% in VQA)\n",
    "- Differences between VizWiz and VQA's class distributions suggest:\n",
    " - blind users had significantly higher demands for text recognition (VQA training set is much smaller though)\n",
    " - blind users appear less interested in counting tasks. Perhaps it's because they can count the number of coin or the number of shirts by touching the objects?\n",
    " \n",
    "2) Although both datasets consist of primarily object recognition questions, questions are expressed in different ways. We can further look into this to highlight the unique needs of blind users.\n",
    "- VizWiz: most questions are variants of the question \"what is this?\" A trivial classifier can confidently predict \"object recognition\" based on the first couple words and, as I've mentioned in the course project report, in most cases the skill can be predicted without the corresponding image.\n",
    "- VQA: most questions gives away what object is in the picture. eg. question \"are these trains moving?\" is labelled as object recognition, but the relevant object (trains) is already mentioned in the question. It's a priori for the respondent to be able to identify the object so that they can answer the question. \n",
    "\n",
    "3) Knowing the skills can help when we don't have the ability to fully automate object recognition task with a high level of granularity. For example, as opposed to generating the label \"bottle,\" the description \"a white bottle of 36 oz Dove shampoo\" contains text recognition, color recognition and counting while performing object recognition, and a blind user could find it useful to know such granular information about the scene that would be available to a visually-abled person (i.e. seeing the shampoo bottle with all the texts and colors, as opposed to just parts that are relevant to the question). The fact that crowd workers labelled almost all of VizWiz and VQA tasks as object recognition suggests that most of these pairs are inherently context-based recognition tasks.\n",
    "\n",
    "4) Therefore, these predetermined skill categories are important when we come to consider improving the status quo. It also suggests that down the road we need some form of user research with qualitative components to better understand blind users' needs.\n",
    "\n",
    "5) If we're interested in developing assitive tools with a focus on visually impaired users, VizWiz will be more appropriate than VQA (which is smaller and contains more descriptive questions). \n",
    "\n",
    "Some ideas for improving the status quo for object recognition subcategory: \n",
    " - Estimate/quantify the difficulty of object recognition task. Automate tasks with high confidence level and route the difficult/uncertain ones to humans. This could be done by automatically analyzing the quality of question (ie how clearly does the user express their information needs) and photo (ie if the image contains sufficient relevant information for a human to answer the question). One example is to include an automated quality check to extract keyword in the question, and check if image contains such object, before sending it out for community answering. \n",
    " - Train on domain-specific data set to improve object recognition. Compared to VQA, most objects in VizWiz questions focus on domestic objects.\n",
    " \n",
    "Ideas for text recognition tasks (30% of VizWiz):\n",
    " - Automatically detect text recognition taks based on the question and route the task to ML algorithms (reduce human efforts)\n",
    " - For the task above, detect if texts in the image are recognizable/answerable. \n",
    "\n",
    "Color recognition tasks (37% of VizWiz and 35% of VQA):\n",
    " - Many color recognition questions contains the word \"color\" in its question. We can perhaps focus on the image part and add a step of auto-correction or otherwise determine image quality when trying to label the task?\n",
    " \n",
    "Analysis of task/user:\n",
    " - Understand the correlations between the skills (eg. under what circumstances does an object recognition task require color recognition? Can we use one as a proxy to improve performance?)\n",
    " - Qualitative user study on their information need\n",
    " - Determine what type of questions likely require more skills as opposed to just one (eg. poorly lit image for object recognition may require color/text recognition--examples at the end of this file)."
   ]
  },
  {
   "cell_type": "markdown",
   "metadata": {},
   "source": [
    "\n",
    "High frequency words (log n scale, removing stop words)\n",
    "- VizWiz: daily objects & identification questions \n",
    "- VQA: more diverse contents; more descriptive nouns and verbs\n",
    "\n",
    "VizWiz\n",
    "![VizWiz](./vizwiz_wordcloud.svg)\n",
    "## [VizWiz Word Cloud](https://github.com/edithzeng/VQA_skills/blob/master/vizwiz_wordcloud.svg)\n",
    "\n",
    "VQA\n",
    "![VQA](./vqa_wordcloud.svg)\n",
    "## [VQA Word Cloud](https://github.com/edithzeng/VQA_skills/blob/master/vqa_wordcloud.svg)\n",
    "\n",
    "Images\n",
    "- VizWiz: inconsistent image quality\n",
    "- VQA: labelled image with MSCOCO captions\n",
    "\n",
    "Text + Image\n",
    "- For most entries in both datasets, skills are dependent on questions (text) only. Images are often irrelevant in determining the skills required."
   ]
  },
  {
   "cell_type": "code",
   "execution_count": 2,
   "metadata": {},
   "outputs": [],
   "source": [
    "# traning sets only\n",
    "vizwiz = pd.read_csv('../vizwiz_skill_typ_train.csv', skipinitialspace=True, engine='python')\n",
    "vqa = pd.read_csv('../vqa_skill_typ_train.csv', skipinitialspace=True, engine='python')\n",
    "targets = np.array(['TXT', 'OBJ', 'COL', 'CNT', 'OTH'])"
   ]
  },
  {
   "cell_type": "code",
   "execution_count": 8,
   "metadata": {},
   "outputs": [],
   "source": [
    "vizwiz_val = pd.read_csv('../vizwiz_skill_typ_val.csv', skipinitialspace=True, engine='python')\n",
    "vizwiz_test = pd.read_csv('../vizwiz_skill_typ_test.csv', skipinitialspace=True, engine='python')\n",
    "vqa_val = pd.read_csv('../vqa_skill_typ_val.csv', skipinitialspace=True, engine='python')\n",
    "vqa_test = pd.read_csv('../vqa_skill_typ_test.csv', skipinitialspace=True, engine='python')"
   ]
  },
  {
   "cell_type": "code",
   "execution_count": 4,
   "metadata": {},
   "outputs": [
    {
     "data": {
      "text/plain": [
       "25711"
      ]
     },
     "execution_count": 4,
     "metadata": {},
     "output_type": "execute_result"
    }
   ],
   "source": [
    "(len(vizwiz) + len(vizwiz_test) + len(vizwiz_test))"
   ]
  },
  {
   "cell_type": "code",
   "execution_count": 4,
   "metadata": {},
   "outputs": [
    {
     "data": {
      "text/plain": [
       "14269"
      ]
     },
     "execution_count": 4,
     "metadata": {},
     "output_type": "execute_result"
    }
   ],
   "source": [
    "len(vizwiz)   # 66% of original (20,000) training images"
   ]
  },
  {
   "cell_type": "code",
   "execution_count": 7,
   "metadata": {},
   "outputs": [
    {
     "data": {
      "text/plain": [
       "(14269, 19)"
      ]
     },
     "execution_count": 7,
     "metadata": {},
     "output_type": "execute_result"
    }
   ],
   "source": [
    "vizwiz.shape"
   ]
  },
  {
   "cell_type": "code",
   "execution_count": 6,
   "metadata": {},
   "outputs": [
    {
     "data": {
      "text/plain": [
       "5721"
      ]
     },
     "execution_count": 6,
     "metadata": {},
     "output_type": "execute_result"
    }
   ],
   "source": [
    "len(vizwiz_test)"
   ]
  },
  {
   "cell_type": "code",
   "execution_count": 5,
   "metadata": {},
   "outputs": [
    {
     "data": {
      "text/plain": [
       "3230"
      ]
     },
     "execution_count": 5,
     "metadata": {},
     "output_type": "execute_result"
    }
   ],
   "source": [
    "len(vqa)      # 4% of original (82,783) training images "
   ]
  },
  {
   "cell_type": "code",
   "execution_count": 9,
   "metadata": {},
   "outputs": [
    {
     "data": {
      "text/plain": [
       "513"
      ]
     },
     "execution_count": 9,
     "metadata": {},
     "output_type": "execute_result"
    }
   ],
   "source": [
    "len(vqa_val)"
   ]
  },
  {
   "cell_type": "code",
   "execution_count": 10,
   "metadata": {},
   "outputs": [
    {
     "data": {
      "text/plain": [
       "1291"
      ]
     },
     "execution_count": 10,
     "metadata": {},
     "output_type": "execute_result"
    }
   ],
   "source": [
    "len(vqa_test)"
   ]
  },
  {
   "cell_type": "markdown",
   "metadata": {},
   "source": [
    "#### check class distributions\n",
    "def skills_class_distribution(df):\n",
    "    class_dist = []\n",
    "    for skill in targets:\n",
    "        percent = len(df.loc[df[skill]==1])/len(df)\n",
    "        temp = {'skill':skill, '%':percent}\n",
    "        class_dist.append(temp)\n",
    "    return pd.DataFrame(class_dist)"
   ]
  },
  {
   "cell_type": "code",
   "execution_count": 4,
   "metadata": {},
   "outputs": [],
   "source": [
    "vizwiz_skill_dist = skills_class_distribution(vizwiz)"
   ]
  },
  {
   "cell_type": "code",
   "execution_count": 5,
   "metadata": {},
   "outputs": [
    {
     "data": {
      "text/html": [
       "<div>\n",
       "<style scoped>\n",
       "    .dataframe tbody tr th:only-of-type {\n",
       "        vertical-align: middle;\n",
       "    }\n",
       "\n",
       "    .dataframe tbody tr th {\n",
       "        vertical-align: top;\n",
       "    }\n",
       "\n",
       "    .dataframe thead th {\n",
       "        text-align: right;\n",
       "    }\n",
       "</style>\n",
       "<table border=\"1\" class=\"dataframe\">\n",
       "  <thead>\n",
       "    <tr style=\"text-align: right;\">\n",
       "      <th></th>\n",
       "      <th>%</th>\n",
       "      <th>skill</th>\n",
       "    </tr>\n",
       "  </thead>\n",
       "  <tbody>\n",
       "    <tr>\n",
       "      <th>0</th>\n",
       "      <td>0.561847</td>\n",
       "      <td>TXT</td>\n",
       "    </tr>\n",
       "    <tr>\n",
       "      <th>1</th>\n",
       "      <td>0.984652</td>\n",
       "      <td>OBJ</td>\n",
       "    </tr>\n",
       "    <tr>\n",
       "      <th>2</th>\n",
       "      <td>0.379564</td>\n",
       "      <td>COL</td>\n",
       "    </tr>\n",
       "    <tr>\n",
       "      <th>3</th>\n",
       "      <td>0.036513</td>\n",
       "      <td>CNT</td>\n",
       "    </tr>\n",
       "    <tr>\n",
       "      <th>4</th>\n",
       "      <td>0.001542</td>\n",
       "      <td>OTH</td>\n",
       "    </tr>\n",
       "  </tbody>\n",
       "</table>\n",
       "</div>"
      ],
      "text/plain": [
       "          % skill\n",
       "0  0.561847   TXT\n",
       "1  0.984652   OBJ\n",
       "2  0.379564   COL\n",
       "3  0.036513   CNT\n",
       "4  0.001542   OTH"
      ]
     },
     "execution_count": 5,
     "metadata": {},
     "output_type": "execute_result"
    }
   ],
   "source": [
    "vizwiz_skill_dist"
   ]
  },
  {
   "cell_type": "code",
   "execution_count": 6,
   "metadata": {},
   "outputs": [],
   "source": [
    "vqa_skill_dist = skills_class_distribution(vqa)"
   ]
  },
  {
   "cell_type": "code",
   "execution_count": 7,
   "metadata": {
    "scrolled": true
   },
   "outputs": [
    {
     "data": {
      "text/html": [
       "<div>\n",
       "<style scoped>\n",
       "    .dataframe tbody tr th:only-of-type {\n",
       "        vertical-align: middle;\n",
       "    }\n",
       "\n",
       "    .dataframe tbody tr th {\n",
       "        vertical-align: top;\n",
       "    }\n",
       "\n",
       "    .dataframe thead th {\n",
       "        text-align: right;\n",
       "    }\n",
       "</style>\n",
       "<table border=\"1\" class=\"dataframe\">\n",
       "  <thead>\n",
       "    <tr style=\"text-align: right;\">\n",
       "      <th></th>\n",
       "      <th>%</th>\n",
       "      <th>skill</th>\n",
       "    </tr>\n",
       "  </thead>\n",
       "  <tbody>\n",
       "    <tr>\n",
       "      <th>0</th>\n",
       "      <td>0.110836</td>\n",
       "      <td>TXT</td>\n",
       "    </tr>\n",
       "    <tr>\n",
       "      <th>1</th>\n",
       "      <td>0.995975</td>\n",
       "      <td>OBJ</td>\n",
       "    </tr>\n",
       "    <tr>\n",
       "      <th>2</th>\n",
       "      <td>0.355418</td>\n",
       "      <td>COL</td>\n",
       "    </tr>\n",
       "    <tr>\n",
       "      <th>3</th>\n",
       "      <td>0.204644</td>\n",
       "      <td>CNT</td>\n",
       "    </tr>\n",
       "    <tr>\n",
       "      <th>4</th>\n",
       "      <td>0.018576</td>\n",
       "      <td>OTH</td>\n",
       "    </tr>\n",
       "  </tbody>\n",
       "</table>\n",
       "</div>"
      ],
      "text/plain": [
       "          % skill\n",
       "0  0.110836   TXT\n",
       "1  0.995975   OBJ\n",
       "2  0.355418   COL\n",
       "3  0.204644   CNT\n",
       "4  0.018576   OTH"
      ]
     },
     "execution_count": 7,
     "metadata": {},
     "output_type": "execute_result"
    }
   ],
   "source": [
    "vqa_skill_dist"
   ]
  },
  {
   "cell_type": "code",
   "execution_count": 8,
   "metadata": {
    "scrolled": true
   },
   "outputs": [
    {
     "data": {
      "image/png": "[encoded data removed]",
      "text/plain": [
       "<Figure size 432x288 with 1 Axes>"
      ]
     },
     "metadata": {},
     "output_type": "display_data"
    }
   ],
   "source": [
    "fig, ax = plt.subplots()\n",
    "rects1 = ax.bar(targets, vizwiz_skill_dist['%'].values, color='r', label='VizWiz')\n",
    "rects2 = ax.bar(targets, vqa_skill_dist['%'].values, color='b', label='VQA')\n",
    "plt.grid(alpha=.2)\n",
    "plt.legend()\n",
    "\n",
    "plt.show()  # note the difference in text recognition"
   ]
  },
  {
   "cell_type": "code",
   "execution_count": 110,
   "metadata": {},
   "outputs": [],
   "source": [
    "# check keywords' correlations with labels, VizWiz\n",
    "\n",
    "df = vizwiz.copy()\n",
    "df['obj_keyword'] = 0\n",
    "df['color_keyword'] = 0\n",
    "df['text_keyword'] = 0\n",
    "df['count_keyword'] = 0\n",
    "\n",
    "for i, row in df.iterrows():\n",
    "    question = row[2].lower()\n",
    "    if \"what is this\" in question:\n",
    "        df.iloc[i,19] = 1\n",
    "    if \"color\" in question:\n",
    "        df.iloc[i,20] = 1\n",
    "    if \"say\" in question:\n",
    "        df.iloc[i,21] = 1\n",
    "    if \"many\" in question or \"much\" in question:\n",
    "        df.iloc[i,22] = 1"
   ]
  },
  {
   "cell_type": "code",
   "execution_count": 111,
   "metadata": {},
   "outputs": [
    {
     "data": {
      "text/html": [
       "<div>\n",
       "<style scoped>\n",
       "    .dataframe tbody tr th:only-of-type {\n",
       "        vertical-align: middle;\n",
       "    }\n",
       "\n",
       "    .dataframe tbody tr th {\n",
       "        vertical-align: top;\n",
       "    }\n",
       "\n",
       "    .dataframe thead th {\n",
       "        text-align: right;\n",
       "    }\n",
       "</style>\n",
       "<table border=\"1\" class=\"dataframe\">\n",
       "  <thead>\n",
       "    <tr style=\"text-align: right;\">\n",
       "      <th></th>\n",
       "      <th>TXT</th>\n",
       "      <th>OBJ</th>\n",
       "      <th>COL</th>\n",
       "      <th>CNT</th>\n",
       "      <th>OTH</th>\n",
       "      <th>obj_keyword</th>\n",
       "      <th>color_keyword</th>\n",
       "      <th>text_keyword</th>\n",
       "      <th>count_keyword</th>\n",
       "    </tr>\n",
       "  </thead>\n",
       "  <tbody>\n",
       "    <tr>\n",
       "      <th>TXT</th>\n",
       "      <td>1.000000</td>\n",
       "      <td>0.031074</td>\n",
       "      <td>-0.479960</td>\n",
       "      <td>0.094344</td>\n",
       "      <td>-0.019298</td>\n",
       "      <td>0.006768</td>\n",
       "      <td>-0.432996</td>\n",
       "      <td>0.150167</td>\n",
       "      <td>0.019031</td>\n",
       "    </tr>\n",
       "    <tr>\n",
       "      <th>OBJ</th>\n",
       "      <td>0.031074</td>\n",
       "      <td>1.000000</td>\n",
       "      <td>-0.035096</td>\n",
       "      <td>0.006068</td>\n",
       "      <td>0.004906</td>\n",
       "      <td>0.060392</td>\n",
       "      <td>-0.127140</td>\n",
       "      <td>-0.001179</td>\n",
       "      <td>0.009684</td>\n",
       "    </tr>\n",
       "    <tr>\n",
       "      <th>COL</th>\n",
       "      <td>-0.479960</td>\n",
       "      <td>-0.035096</td>\n",
       "      <td>1.000000</td>\n",
       "      <td>-0.106065</td>\n",
       "      <td>-0.016013</td>\n",
       "      <td>-0.130548</td>\n",
       "      <td>0.524348</td>\n",
       "      <td>-0.072632</td>\n",
       "      <td>-0.037827</td>\n",
       "    </tr>\n",
       "    <tr>\n",
       "      <th>CNT</th>\n",
       "      <td>0.094344</td>\n",
       "      <td>0.006068</td>\n",
       "      <td>-0.106065</td>\n",
       "      <td>1.000000</td>\n",
       "      <td>-0.007650</td>\n",
       "      <td>-0.082836</td>\n",
       "      <td>-0.071459</td>\n",
       "      <td>0.020494</td>\n",
       "      <td>0.297442</td>\n",
       "    </tr>\n",
       "    <tr>\n",
       "      <th>OTH</th>\n",
       "      <td>-0.019298</td>\n",
       "      <td>0.004906</td>\n",
       "      <td>-0.016013</td>\n",
       "      <td>-0.007650</td>\n",
       "      <td>1.000000</td>\n",
       "      <td>-0.019836</td>\n",
       "      <td>-0.016141</td>\n",
       "      <td>-0.008403</td>\n",
       "      <td>0.026325</td>\n",
       "    </tr>\n",
       "    <tr>\n",
       "      <th>obj_keyword</th>\n",
       "      <td>0.006768</td>\n",
       "      <td>0.060392</td>\n",
       "      <td>-0.130548</td>\n",
       "      <td>-0.082836</td>\n",
       "      <td>-0.019836</td>\n",
       "      <td>1.000000</td>\n",
       "      <td>-0.239541</td>\n",
       "      <td>-0.123675</td>\n",
       "      <td>-0.061531</td>\n",
       "    </tr>\n",
       "    <tr>\n",
       "      <th>color_keyword</th>\n",
       "      <td>-0.432996</td>\n",
       "      <td>-0.127140</td>\n",
       "      <td>0.524348</td>\n",
       "      <td>-0.071459</td>\n",
       "      <td>-0.016141</td>\n",
       "      <td>-0.239541</td>\n",
       "      <td>1.000000</td>\n",
       "      <td>-0.069315</td>\n",
       "      <td>-0.030836</td>\n",
       "    </tr>\n",
       "    <tr>\n",
       "      <th>text_keyword</th>\n",
       "      <td>0.150167</td>\n",
       "      <td>-0.001179</td>\n",
       "      <td>-0.072632</td>\n",
       "      <td>0.020494</td>\n",
       "      <td>-0.008403</td>\n",
       "      <td>-0.123675</td>\n",
       "      <td>-0.069315</td>\n",
       "      <td>1.000000</td>\n",
       "      <td>-0.013173</td>\n",
       "    </tr>\n",
       "    <tr>\n",
       "      <th>count_keyword</th>\n",
       "      <td>0.019031</td>\n",
       "      <td>0.009684</td>\n",
       "      <td>-0.037827</td>\n",
       "      <td>0.297442</td>\n",
       "      <td>0.026325</td>\n",
       "      <td>-0.061531</td>\n",
       "      <td>-0.030836</td>\n",
       "      <td>-0.013173</td>\n",
       "      <td>1.000000</td>\n",
       "    </tr>\n",
       "  </tbody>\n",
       "</table>\n",
       "</div>"
      ],
      "text/plain": [
       "                    TXT       OBJ       COL       CNT       OTH  obj_keyword  \\\n",
       "TXT            1.000000  0.031074 -0.479960  0.094344 -0.019298     0.006768   \n",
       "OBJ            0.031074  1.000000 -0.035096  0.006068  0.004906     0.060392   \n",
       "COL           -0.479960 -0.035096  1.000000 -0.106065 -0.016013    -0.130548   \n",
       "CNT            0.094344  0.006068 -0.106065  1.000000 -0.007650    -0.082836   \n",
       "OTH           -0.019298  0.004906 -0.016013 -0.007650  1.000000    -0.019836   \n",
       "obj_keyword    0.006768  0.060392 -0.130548 -0.082836 -0.019836     1.000000   \n",
       "color_keyword -0.432996 -0.127140  0.524348 -0.071459 -0.016141    -0.239541   \n",
       "text_keyword   0.150167 -0.001179 -0.072632  0.020494 -0.008403    -0.123675   \n",
       "count_keyword  0.019031  0.009684 -0.037827  0.297442  0.026325    -0.061531   \n",
       "\n",
       "               color_keyword  text_keyword  count_keyword  \n",
       "TXT                -0.432996      0.150167       0.019031  \n",
       "OBJ                -0.127140     -0.001179       0.009684  \n",
       "COL                 0.524348     -0.072632      -0.037827  \n",
       "CNT                -0.071459      0.020494       0.297442  \n",
       "OTH                -0.016141     -0.008403       0.026325  \n",
       "obj_keyword        -0.239541     -0.123675      -0.061531  \n",
       "color_keyword       1.000000     -0.069315      -0.030836  \n",
       "text_keyword       -0.069315      1.000000      -0.013173  \n",
       "count_keyword      -0.030836     -0.013173       1.000000  "
      ]
     },
     "execution_count": 111,
     "metadata": {},
     "output_type": "execute_result"
    }
   ],
   "source": [
    "df[['TXT', 'OBJ', 'COL', 'CNT', 'OTH', 'obj_keyword', 'color_keyword', 'text_keyword','count_keyword']].corr()"
   ]
  },
  {
   "cell_type": "code",
   "execution_count": 39,
   "metadata": {},
   "outputs": [
    {
     "data": {
      "text/html": [
       "<div>\n",
       "<style scoped>\n",
       "    .dataframe tbody tr th:only-of-type {\n",
       "        vertical-align: middle;\n",
       "    }\n",
       "\n",
       "    .dataframe tbody tr th {\n",
       "        vertical-align: top;\n",
       "    }\n",
       "\n",
       "    .dataframe thead th {\n",
       "        text-align: right;\n",
       "    }\n",
       "</style>\n",
       "<table border=\"1\" class=\"dataframe\">\n",
       "  <thead>\n",
       "    <tr style=\"text-align: right;\">\n",
       "      <th></th>\n",
       "      <th>TXT</th>\n",
       "      <th>OBJ</th>\n",
       "      <th>COL</th>\n",
       "      <th>CNT</th>\n",
       "      <th>OTH</th>\n",
       "      <th>obj_keyword</th>\n",
       "      <th>color_keyword</th>\n",
       "      <th>text_keyword</th>\n",
       "      <th>count_keyword</th>\n",
       "    </tr>\n",
       "  </thead>\n",
       "  <tbody>\n",
       "    <tr>\n",
       "      <th>TXT</th>\n",
       "      <td>1.000000</td>\n",
       "      <td>-0.039862</td>\n",
       "      <td>-0.142663</td>\n",
       "      <td>0.058026</td>\n",
       "      <td>-0.019357</td>\n",
       "      <td>-0.014525</td>\n",
       "      <td>-0.082678</td>\n",
       "      <td>0.253453</td>\n",
       "      <td>-0.059857</td>\n",
       "    </tr>\n",
       "    <tr>\n",
       "      <th>OBJ</th>\n",
       "      <td>-0.039862</td>\n",
       "      <td>1.000000</td>\n",
       "      <td>0.016555</td>\n",
       "      <td>-0.004116</td>\n",
       "      <td>0.008746</td>\n",
       "      <td>0.006258</td>\n",
       "      <td>-0.039286</td>\n",
       "      <td>0.006359</td>\n",
       "      <td>-0.013680</td>\n",
       "    </tr>\n",
       "    <tr>\n",
       "      <th>COL</th>\n",
       "      <td>-0.142663</td>\n",
       "      <td>0.016555</td>\n",
       "      <td>1.000000</td>\n",
       "      <td>-0.209919</td>\n",
       "      <td>-0.049463</td>\n",
       "      <td>-0.013388</td>\n",
       "      <td>0.373755</td>\n",
       "      <td>-0.008969</td>\n",
       "      <td>-0.179438</td>\n",
       "    </tr>\n",
       "    <tr>\n",
       "      <th>CNT</th>\n",
       "      <td>0.058026</td>\n",
       "      <td>-0.004116</td>\n",
       "      <td>-0.209919</td>\n",
       "      <td>1.000000</td>\n",
       "      <td>-0.041368</td>\n",
       "      <td>-0.049934</td>\n",
       "      <td>-0.113976</td>\n",
       "      <td>0.018994</td>\n",
       "      <td>0.804613</td>\n",
       "    </tr>\n",
       "    <tr>\n",
       "      <th>OTH</th>\n",
       "      <td>-0.019357</td>\n",
       "      <td>0.008746</td>\n",
       "      <td>-0.049463</td>\n",
       "      <td>-0.041368</td>\n",
       "      <td>1.000000</td>\n",
       "      <td>-0.013543</td>\n",
       "      <td>-0.029284</td>\n",
       "      <td>-0.013762</td>\n",
       "      <td>-0.033068</td>\n",
       "    </tr>\n",
       "    <tr>\n",
       "      <th>obj_keyword</th>\n",
       "      <td>-0.014525</td>\n",
       "      <td>0.006258</td>\n",
       "      <td>-0.013388</td>\n",
       "      <td>-0.049934</td>\n",
       "      <td>-0.013543</td>\n",
       "      <td>1.000000</td>\n",
       "      <td>-0.027321</td>\n",
       "      <td>-0.009847</td>\n",
       "      <td>-0.041879</td>\n",
       "    </tr>\n",
       "    <tr>\n",
       "      <th>color_keyword</th>\n",
       "      <td>-0.082678</td>\n",
       "      <td>-0.039286</td>\n",
       "      <td>0.373755</td>\n",
       "      <td>-0.113976</td>\n",
       "      <td>-0.029284</td>\n",
       "      <td>-0.027321</td>\n",
       "      <td>1.000000</td>\n",
       "      <td>-0.027762</td>\n",
       "      <td>-0.094724</td>\n",
       "    </tr>\n",
       "    <tr>\n",
       "      <th>text_keyword</th>\n",
       "      <td>0.253453</td>\n",
       "      <td>0.006359</td>\n",
       "      <td>-0.008969</td>\n",
       "      <td>0.018994</td>\n",
       "      <td>-0.013762</td>\n",
       "      <td>-0.009847</td>\n",
       "      <td>-0.027762</td>\n",
       "      <td>1.000000</td>\n",
       "      <td>-0.042556</td>\n",
       "    </tr>\n",
       "    <tr>\n",
       "      <th>count_keyword</th>\n",
       "      <td>-0.059857</td>\n",
       "      <td>-0.013680</td>\n",
       "      <td>-0.179438</td>\n",
       "      <td>0.804613</td>\n",
       "      <td>-0.033068</td>\n",
       "      <td>-0.041879</td>\n",
       "      <td>-0.094724</td>\n",
       "      <td>-0.042556</td>\n",
       "      <td>1.000000</td>\n",
       "    </tr>\n",
       "  </tbody>\n",
       "</table>\n",
       "</div>"
      ],
      "text/plain": [
       "                    TXT       OBJ       COL       CNT       OTH  obj_keyword  \\\n",
       "TXT            1.000000 -0.039862 -0.142663  0.058026 -0.019357    -0.014525   \n",
       "OBJ           -0.039862  1.000000  0.016555 -0.004116  0.008746     0.006258   \n",
       "COL           -0.142663  0.016555  1.000000 -0.209919 -0.049463    -0.013388   \n",
       "CNT            0.058026 -0.004116 -0.209919  1.000000 -0.041368    -0.049934   \n",
       "OTH           -0.019357  0.008746 -0.049463 -0.041368  1.000000    -0.013543   \n",
       "obj_keyword   -0.014525  0.006258 -0.013388 -0.049934 -0.013543     1.000000   \n",
       "color_keyword -0.082678 -0.039286  0.373755 -0.113976 -0.029284    -0.027321   \n",
       "text_keyword   0.253453  0.006359 -0.008969  0.018994 -0.013762    -0.009847   \n",
       "count_keyword -0.059857 -0.013680 -0.179438  0.804613 -0.033068    -0.041879   \n",
       "\n",
       "               color_keyword  text_keyword  count_keyword  \n",
       "TXT                -0.082678      0.253453      -0.059857  \n",
       "OBJ                -0.039286      0.006359      -0.013680  \n",
       "COL                 0.373755     -0.008969      -0.179438  \n",
       "CNT                -0.113976      0.018994       0.804613  \n",
       "OTH                -0.029284     -0.013762      -0.033068  \n",
       "obj_keyword        -0.027321     -0.009847      -0.041879  \n",
       "color_keyword       1.000000     -0.027762      -0.094724  \n",
       "text_keyword       -0.027762      1.000000      -0.042556  \n",
       "count_keyword      -0.094724     -0.042556       1.000000  "
      ]
     },
     "execution_count": 39,
     "metadata": {},
     "output_type": "execute_result"
    }
   ],
   "source": [
    "# check keywords' correlations with labels, VQA\n",
    "df = vqa.copy()\n",
    "df['obj_keyword'] = 0\n",
    "df['color_keyword'] = 0\n",
    "df['text_keyword'] = 0\n",
    "df['count_keyword'] = 0\n",
    "\n",
    "for i, row in df.iterrows():\n",
    "    question = row[2].lower()\n",
    "    if \"what is this\" in question:\n",
    "        df.iloc[i,19] = 1\n",
    "    if \"color\" in question:\n",
    "        df.iloc[i,20] = 1\n",
    "    if \"say\" in question:\n",
    "        df.iloc[i,21] = 1\n",
    "    if \"many\" in question or \"much\" in question:\n",
    "        df.iloc[i,22] = 1\n",
    "        \n",
    "df[['TXT', 'OBJ', 'COL', 'CNT', 'OTH', 'obj_keyword', 'color_keyword', 'text_keyword','count_keyword']].corr()"
   ]
  },
  {
   "cell_type": "code",
   "execution_count": 41,
   "metadata": {},
   "outputs": [
    {
     "data": {
      "text/plain": [
       "5416"
      ]
     },
     "execution_count": 41,
     "metadata": {},
     "output_type": "execute_result"
    }
   ],
   "source": [
    "len(vizwiz.loc[vizwiz['COL'] == 1])"
   ]
  },
  {
   "cell_type": "code",
   "execution_count": 42,
   "metadata": {},
   "outputs": [
    {
     "data": {
      "text/plain": [
       "8017"
      ]
     },
     "execution_count": 42,
     "metadata": {},
     "output_type": "execute_result"
    }
   ],
   "source": [
    "len(vizwiz.loc[vizwiz['TXT'] == 1])"
   ]
  },
  {
   "cell_type": "code",
   "execution_count": 43,
   "metadata": {},
   "outputs": [
    {
     "data": {
      "text/plain": [
       "1148"
      ]
     },
     "execution_count": 43,
     "metadata": {},
     "output_type": "execute_result"
    }
   ],
   "source": [
    "len(vqa.loc[vqa['COL'] == 1])"
   ]
  },
  {
   "cell_type": "code",
   "execution_count": 46,
   "metadata": {},
   "outputs": [
    {
     "data": {
      "text/plain": [
       "661"
      ]
     },
     "execution_count": 46,
     "metadata": {},
     "output_type": "execute_result"
    }
   ],
   "source": [
    "len(vqa.loc[vqa['CNT'] == 1])"
   ]
  },
  {
   "cell_type": "code",
   "execution_count": 114,
   "metadata": {},
   "outputs": [
    {
     "data": {
      "text/plain": [
       "7                                             This item.\n",
       "8                              What color do these look?\n",
       "10                                              Is this.\n",
       "11                                         what is this?\n",
       "12                           What kind of drink is this?\n",
       "13               What color... what color is this skirt?\n",
       "17     Can I ask about anything or any information wi...\n",
       "18                                    What is this game?\n",
       "19                                  What is in this can?\n",
       "22                            What is this a picture of?\n",
       "26     What color furniture is that?  And is that nic...\n",
       "30                              What is on the bar code?\n",
       "32                                   What is this spice?\n",
       "40     Please describe the pattern and color of this ...\n",
       "44                          What type of chips are this?\n",
       "54                               Is my - is my light on?\n",
       "56                                 What am I looking at?\n",
       "57                                          What is this\n",
       "58                               what color is his shirt\n",
       "59     Can you please tell me if you see the headphon...\n",
       "60                            What type of tree is this?\n",
       "67                                         What is this?\n",
       "71               What does the sky look like? Thank you.\n",
       "74                          What kind of coffee is this?\n",
       "76                      What colors are in this sweater?\n",
       "79                             What color is this shirt?\n",
       "80                              What is in this bottle? \n",
       "81                             What color is this shirt?\n",
       "83                                 Which shirt is green?\n",
       "84                                    What is this item?\n",
       "86                            What is this a picture of?\n",
       "93                             What kind of tea is this?\n",
       "98                                         What is this?\n",
       "99     Can you please tell me what kind of coffee or ...\n",
       "100                                 What is this bottle?\n",
       "104                             What color are my shoes?\n",
       "105                           What this student planner?\n",
       "106                           What color is this sweater\n",
       "110    Can you please tell me what color this shirt i...\n",
       "111                                  What? What is this?\n",
       "122                           What color are these jeans\n",
       "127                                     Oh, what's this?\n",
       "133                                        What is this?\n",
       "135                        What color is this cartridge?\n",
       "136                             Is this black or purple?\n",
       "137                            What color is this shirt?\n",
       "140                                        What is this?\n",
       "143                       What's this? Can you describe?\n",
       "148                                  what color is this?\n",
       "149    Are you able to see the screen? What does it say?\n",
       "Name: QSN, dtype: object"
      ]
     },
     "execution_count": 114,
     "metadata": {},
     "output_type": "execute_result"
    }
   ],
   "source": [
    "# correlations between categories:\n",
    "# word \"color\" in question and color recognition skill\n",
    "# word \"color\" in question and text recogintion skill\n",
    "\n",
    "# due to class imbalance (98% true), the Pearson correlation coef\n",
    "# between \"what is this\" and \"object recognition\" flag is very small\n",
    "\n",
    "# For questions that are labelled as \"color recognition\" besides \"object recognition\"\n",
    "# but does not contain the word \"color\" in the question,\n",
    "# many are due to poor photos. eg. \"What is this spice?\" with strange lighting.\n",
    "# Therefore, working on determine the image quality could be another way.\n",
    "df.loc[df['COL'] == 1, 'QSN'].head(50)"
   ]
  },
  {
   "cell_type": "markdown",
   "metadata": {},
   "source": [
    "2/7/19"
   ]
  },
  {
   "cell_type": "code",
   "execution_count": 36,
   "metadata": {
    "scrolled": true
   },
   "outputs": [
    {
     "data": {
      "text/html": [
       "<div>\n",
       "<style scoped>\n",
       "    .dataframe tbody tr th:only-of-type {\n",
       "        vertical-align: middle;\n",
       "    }\n",
       "\n",
       "    .dataframe tbody tr th {\n",
       "        vertical-align: top;\n",
       "    }\n",
       "\n",
       "    .dataframe thead th {\n",
       "        text-align: right;\n",
       "    }\n",
       "</style>\n",
       "<table border=\"1\" class=\"dataframe\">\n",
       "  <thead>\n",
       "    <tr style=\"text-align: right;\">\n",
       "      <th></th>\n",
       "      <th>TXT</th>\n",
       "      <th>OBJ</th>\n",
       "      <th>COL</th>\n",
       "      <th>CNT</th>\n",
       "      <th>OTH</th>\n",
       "    </tr>\n",
       "  </thead>\n",
       "  <tbody>\n",
       "    <tr>\n",
       "      <th>TXT</th>\n",
       "      <td>1.000000</td>\n",
       "      <td>NaN</td>\n",
       "      <td>-0.893742</td>\n",
       "      <td>0.189978</td>\n",
       "      <td>NaN</td>\n",
       "    </tr>\n",
       "    <tr>\n",
       "      <th>OBJ</th>\n",
       "      <td>NaN</td>\n",
       "      <td>NaN</td>\n",
       "      <td>NaN</td>\n",
       "      <td>NaN</td>\n",
       "      <td>NaN</td>\n",
       "    </tr>\n",
       "    <tr>\n",
       "      <th>COL</th>\n",
       "      <td>-0.893742</td>\n",
       "      <td>NaN</td>\n",
       "      <td>1.000000</td>\n",
       "      <td>-0.173289</td>\n",
       "      <td>NaN</td>\n",
       "    </tr>\n",
       "    <tr>\n",
       "      <th>CNT</th>\n",
       "      <td>0.189978</td>\n",
       "      <td>NaN</td>\n",
       "      <td>-0.173289</td>\n",
       "      <td>1.000000</td>\n",
       "      <td>NaN</td>\n",
       "    </tr>\n",
       "    <tr>\n",
       "      <th>OTH</th>\n",
       "      <td>NaN</td>\n",
       "      <td>NaN</td>\n",
       "      <td>NaN</td>\n",
       "      <td>NaN</td>\n",
       "      <td>NaN</td>\n",
       "    </tr>\n",
       "  </tbody>\n",
       "</table>\n",
       "</div>"
      ],
      "text/plain": [
       "          TXT  OBJ       COL       CNT  OTH\n",
       "TXT  1.000000  NaN -0.893742  0.189978  NaN\n",
       "OBJ       NaN  NaN       NaN       NaN  NaN\n",
       "COL -0.893742  NaN  1.000000 -0.173289  NaN\n",
       "CNT  0.189978  NaN -0.173289  1.000000  NaN\n",
       "OTH       NaN  NaN       NaN       NaN  NaN"
      ]
     },
     "execution_count": 36,
     "metadata": {},
     "output_type": "execute_result"
    }
   ],
   "source": [
    "# strong correlation between \"TXT\" and \"COL\" in the subgroup NOT labelled for 'OBJ'\n",
    "vizwiz.loc[vizwiz['OBJ']==0].corr()"
   ]
  },
  {
   "cell_type": "code",
   "execution_count": 37,
   "metadata": {},
   "outputs": [],
   "source": [
    "def count_skills(df):\n",
    "    one_skill, two_skills, three_skills, four_skills, five_skills = 0,0,0,0,0\n",
    "    for i, row in df.iterrows():\n",
    "        txt, obj, col, cnt, oth = row[4], row[5], row[6], row[7], row[8]\n",
    "        labels_count = [txt, obj, col, cnt, oth].count(1)\n",
    "        if labels_count == 1:\n",
    "            one_skill += 1\n",
    "        if labels_count == 2:\n",
    "            two_skills += 1\n",
    "        if labels_count == 3:\n",
    "            three_skills += 1\n",
    "        if labels_count == 4:\n",
    "            four_skills += 1\n",
    "        if labels_count == 5:\n",
    "            five_skills += 1\n",
    "    return one_skill, two_skills, three_skills, four_skills, five_skills"
   ]
  },
  {
   "cell_type": "code",
   "execution_count": 38,
   "metadata": {},
   "outputs": [
    {
     "data": {
      "image/png": "[encoded data removed]",
      "text/plain": [
       "<Figure size 432x288 with 1 Axes>"
      ]
     },
     "metadata": {},
     "output_type": "display_data"
    }
   ],
   "source": [
    "# cumulative percentage of skills labelled \n",
    "\n",
    "x = np.array([1,2,3,4,5])\n",
    "y_vizwiz = np.array([0.1638, 0.8718, 0.9972, 0.9992, 0.9992])\n",
    "y_vqa = np.array([0.3923, 0.9207, 0.9941, 0.9981, 0.9981])\n",
    "\n",
    "plt.grid(alpha=.2)\n",
    "plt.plot(x, y_vizwiz, label=\"VizWiz\")\n",
    "plt.plot(x, y_vqa, label=\"VQA\")\n",
    "plt.xticks([i for i in range(1,6)], x)\n",
    "plt.yticks([i*0.1 for i in range(1,11)])\n",
    "plt.ylabel(\"Cumulative Percentage of Questions\")\n",
    "plt.xlabel(\"Number of Skills Required\")\n",
    "plt.legend()\n",
    "plt.show()"
   ]
  },
  {
   "cell_type": "code",
   "execution_count": 38,
   "metadata": {},
   "outputs": [
    {
     "data": {
      "text/html": [
       "<div>\n",
       "<style scoped>\n",
       "    .dataframe tbody tr th:only-of-type {\n",
       "        vertical-align: middle;\n",
       "    }\n",
       "\n",
       "    .dataframe tbody tr th {\n",
       "        vertical-align: top;\n",
       "    }\n",
       "\n",
       "    .dataframe thead th {\n",
       "        text-align: right;\n",
       "    }\n",
       "</style>\n",
       "<table border=\"1\" class=\"dataframe\">\n",
       "  <thead>\n",
       "    <tr style=\"text-align: right;\">\n",
       "      <th></th>\n",
       "      <th>QID</th>\n",
       "      <th>TXT</th>\n",
       "      <th>OBJ</th>\n",
       "      <th>COL</th>\n",
       "      <th>CNT</th>\n",
       "      <th>OTH</th>\n",
       "    </tr>\n",
       "  </thead>\n",
       "  <tbody>\n",
       "    <tr>\n",
       "      <th>QID</th>\n",
       "      <td>1.000000</td>\n",
       "      <td>-0.135583</td>\n",
       "      <td>NaN</td>\n",
       "      <td>-0.294048</td>\n",
       "      <td>-0.508976</td>\n",
       "      <td>NaN</td>\n",
       "    </tr>\n",
       "    <tr>\n",
       "      <th>TXT</th>\n",
       "      <td>-0.135583</td>\n",
       "      <td>1.000000</td>\n",
       "      <td>NaN</td>\n",
       "      <td>-0.365148</td>\n",
       "      <td>0.426006</td>\n",
       "      <td>NaN</td>\n",
       "    </tr>\n",
       "    <tr>\n",
       "      <th>OBJ</th>\n",
       "      <td>NaN</td>\n",
       "      <td>NaN</td>\n",
       "      <td>NaN</td>\n",
       "      <td>NaN</td>\n",
       "      <td>NaN</td>\n",
       "      <td>NaN</td>\n",
       "    </tr>\n",
       "    <tr>\n",
       "      <th>COL</th>\n",
       "      <td>-0.294048</td>\n",
       "      <td>-0.365148</td>\n",
       "      <td>NaN</td>\n",
       "      <td>1.000000</td>\n",
       "      <td>0.133333</td>\n",
       "      <td>NaN</td>\n",
       "    </tr>\n",
       "    <tr>\n",
       "      <th>CNT</th>\n",
       "      <td>-0.508976</td>\n",
       "      <td>0.426006</td>\n",
       "      <td>NaN</td>\n",
       "      <td>0.133333</td>\n",
       "      <td>1.000000</td>\n",
       "      <td>NaN</td>\n",
       "    </tr>\n",
       "    <tr>\n",
       "      <th>OTH</th>\n",
       "      <td>NaN</td>\n",
       "      <td>NaN</td>\n",
       "      <td>NaN</td>\n",
       "      <td>NaN</td>\n",
       "      <td>NaN</td>\n",
       "      <td>NaN</td>\n",
       "    </tr>\n",
       "  </tbody>\n",
       "</table>\n",
       "</div>"
      ],
      "text/plain": [
       "          QID       TXT  OBJ       COL       CNT  OTH\n",
       "QID  1.000000 -0.135583  NaN -0.294048 -0.508976  NaN\n",
       "TXT -0.135583  1.000000  NaN -0.365148  0.426006  NaN\n",
       "OBJ       NaN       NaN  NaN       NaN       NaN  NaN\n",
       "COL -0.294048 -0.365148  NaN  1.000000  0.133333  NaN\n",
       "CNT -0.508976  0.426006  NaN  0.133333  1.000000  NaN\n",
       "OTH       NaN       NaN  NaN       NaN       NaN  NaN"
      ]
     },
     "execution_count": 38,
     "metadata": {},
     "output_type": "execute_result"
    }
   ],
   "source": [
    "# correlation between COL and TXT in VQA, but not as strong as in VizWiz\n",
    "# stronger correlation between CNT & TXT but based on a very small subset (see below)\n",
    "vqa.loc[vqa['OBJ']==0].corr()"
   ]
  },
  {
   "cell_type": "code",
   "execution_count": 22,
   "metadata": {
    "scrolled": false
   },
   "outputs": [
    {
     "data": {
      "text/plain": [
       "3     0.233373\n",
       "4     0.191955\n",
       "5     0.154110\n",
       "6     0.120751\n",
       "7     0.067279\n",
       "8     0.042189\n",
       "9     0.032798\n",
       "10    0.026071\n",
       "2     0.021725\n",
       "11    0.017591\n",
       "12    0.015488\n",
       "14    0.010232\n",
       "13    0.009882\n",
       "15    0.007359\n",
       "16    0.007148\n",
       "17    0.005326\n",
       "18    0.005116\n",
       "19    0.003855\n",
       "21    0.003224\n",
       "20    0.003224\n",
       "22    0.002383\n",
       "24    0.002383\n",
       "23    0.002243\n",
       "25    0.001962\n",
       "26    0.001892\n",
       "27    0.001332\n",
       "31    0.001051\n",
       "30    0.000981\n",
       "28    0.000911\n",
       "29    0.000771\n",
       "32    0.000631\n",
       "36    0.000631\n",
       "33    0.000631\n",
       "35    0.000561\n",
       "40    0.000350\n",
       "41    0.000350\n",
       "39    0.000350\n",
       "34    0.000350\n",
       "44    0.000280\n",
       "43    0.000280\n",
       "42    0.000140\n",
       "45    0.000140\n",
       "53    0.000140\n",
       "38    0.000140\n",
       "46    0.000140\n",
       "49    0.000070\n",
       "50    0.000070\n",
       "37    0.000070\n",
       "48    0.000070\n",
       "Name: QSN, dtype: float64"
      ]
     },
     "execution_count": 22,
     "metadata": {},
     "output_type": "execute_result"
    }
   ],
   "source": [
    "# question length\n",
    "(vizwiz['QSN'].str.split().apply(len).value_counts()) / len(vizwiz)"
   ]
  },
  {
   "cell_type": "code",
   "execution_count": 30,
   "metadata": {},
   "outputs": [
    {
     "data": {
      "text/plain": [
       "6.245917723736772"
      ]
     },
     "execution_count": 30,
     "metadata": {},
     "output_type": "execute_result"
    }
   ],
   "source": [
    "# average sentence length for VizWiz\n",
    "np.mean(vizwiz['QSN'].str.split().apply(len))"
   ]
  },
  {
   "cell_type": "code",
   "execution_count": 25,
   "metadata": {},
   "outputs": [
    {
     "data": {
      "text/plain": [
       "5     0.253870\n",
       "6     0.201548\n",
       "7     0.167802\n",
       "4     0.122910\n",
       "8     0.099381\n",
       "9     0.055108\n",
       "10    0.035294\n",
       "3     0.020124\n",
       "11    0.016409\n",
       "12    0.011765\n",
       "13    0.004644\n",
       "14    0.004334\n",
       "15    0.002477\n",
       "16    0.002477\n",
       "17    0.001238\n",
       "20    0.000619\n",
       "Name: QSN, dtype: float64"
      ]
     },
     "execution_count": 25,
     "metadata": {},
     "output_type": "execute_result"
    }
   ],
   "source": [
    "(vqa['QSN'].str.split().apply(len).value_counts())/len(vqa)"
   ]
  },
  {
   "cell_type": "code",
   "execution_count": 31,
   "metadata": {},
   "outputs": [
    {
     "data": {
      "text/plain": [
       "6.402167182662539"
      ]
     },
     "execution_count": 31,
     "metadata": {},
     "output_type": "execute_result"
    }
   ],
   "source": [
    "# average sentence length for VQA\n",
    "np.mean(vqa['QSN'].str.split().apply(len))"
   ]
  },
  {
   "cell_type": "code",
   "execution_count": null,
   "metadata": {},
   "outputs": [],
   "source": []
  }
 ],
 "metadata": {
  "kernelspec": {
   "display_name": "Python 3",
   "language": "python",
   "name": "python3"
  },
  "language_info": {
   "codemirror_mode": {
    "name": "ipython",
    "version": 3
   },
   "file_extension": ".py",
   "mimetype": "text/x-python",
   "name": "python",
   "nbconvert_exporter": "python",
   "pygments_lexer": "ipython3",
   "version": "3.5.5"
  }
 },
 "nbformat": 4,
 "nbformat_minor": 2
}
