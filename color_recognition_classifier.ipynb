{
 "cells": [
  {
   "cell_type": "code",
   "execution_count": 1,
   "metadata": {
    "scrolled": true
   },
   "outputs": [
    {
     "name": "stderr",
     "output_type": "stream",
     "text": [
      "/anaconda/envs/py35/lib/python3.5/site-packages/h5py/__init__.py:36: FutureWarning: Conversion of the second argument of issubdtype from `float` to `np.floating` is deprecated. In future, it will be treated as `np.float64 == np.dtype(float).type`.\n",
      "  from ._conv import register_converters as _register_converters\n",
      "Using TensorFlow backend.\n"
     ]
    },
    {
     "name": "stdout",
     "output_type": "stream",
     "text": [
      "[nltk_data] Downloading package wordnet to\n",
      "[nltk_data]     /home/edithzeng/nltk_data...\n",
      "[nltk_data]   Package wordnet is already up-to-date!\n",
      "[nltk_data] Downloading package punkt to /home/edithzeng/nltk_data...\n",
      "[nltk_data]   Package punkt is already up-to-date!\n",
      "[nltk_data] Downloading package stopwords to\n",
      "[nltk_data]     /home/edithzeng/nltk_data...\n",
      "[nltk_data]   Package stopwords is already up-to-date!\n",
      "[name: \"/device:CPU:0\"\n",
      "device_type: \"CPU\"\n",
      "memory_limit: 268435456\n",
      "locality {\n",
      "}\n",
      "incarnation: 14505610208114955420\n",
      ", name: \"/device:GPU:0\"\n",
      "device_type: \"GPU\"\n",
      "memory_limit: 10945105101\n",
      "locality {\n",
      "  bus_id: 1\n",
      "  links {\n",
      "  }\n",
      "}\n",
      "incarnation: 1323489571692367545\n",
      "physical_device_desc: \"device: 0, name: Tesla K80, pci bus id: f341:00:00.0, compute capability: 3.7\"\n",
      "]\n",
      "['/job:localhost/replica:0/task:0/device:GPU:0']\n"
     ]
    }
   ],
   "source": [
    "from tensorflow.python.client import device_lib\n",
    "import tensorflow as tf\n",
    "from skill_label_classifier import *\n",
    "import matplotlib.pyplot as plt\n",
    "from sklearn.decomposition import PCA\n",
    "from sklearn.preprocessing import StandardScaler"
   ]
  },
  {
   "cell_type": "code",
   "execution_count": 2,
   "metadata": {},
   "outputs": [],
   "source": [
    "# helper function to find optimal number of PC (elbow method)\n",
    "def plot_explained_variance(X_train):\n",
    "    pca = PCA()\n",
    "    pca_full = pca.fit(X_train)\n",
    "    plt.plot(np.cumsum(pca_full.explained_variance_ratio_))\n",
    "    plt.xlabel(\"number of principal components\")\n",
    "    plt.ylabel(\"cumulative explained variance\")\n",
    "    plt.grid(color='grey',linestyle='-',alpha=0.2)\n",
    "    plt.show()\n",
    "    \n",
    "def preprocess_pca(X_train, X_test, dim, r=None):\n",
    "    pca = PCA(n_components=dim, random_state=r)\n",
    "    X_train_pca = pca.fit_transform(X_train)\n",
    "    X_test_pca = pca.transform(X_test)\n",
    "    return X_train_pca, X_test_pca"
   ]
  },
  {
   "cell_type": "code",
   "execution_count": 3,
   "metadata": {},
   "outputs": [
    {
     "name": "stdout",
     "output_type": "stream",
     "text": [
      "Joined features with skill labels.\n",
      "Joined features with skill labels.\n",
      "Joined features with skill labels.\n",
      "Joined features with skill labels.\n",
      "VizWiz training shape: (14257, 13)\n",
      "VQA training shape: (3230, 13)\n",
      "Total training rows: 17487\n",
      "VizWiz validation shape:(2247, 13)\n",
      "VQA validation shape:(513, 13)\n",
      "Total validation rows: 2760\n",
      "Training: (3230, 13)\n",
      "Validation: (513, 13)\n",
      "Number of training samples each class: \n",
      "Text recognition [2872.  358.]\n",
      "Color recognition [2082. 1148.]\n",
      "Number of validation samples each class: \n",
      "Text recognition [450.  63.]\n",
      "Color recognition [334. 179.]\n"
     ]
    }
   ],
   "source": [
    "experiment = SkillClassifier()\n",
    "experiment.import_data()\n",
    "experiment.create_df()\n",
    "\n",
    "experiment.choose_dataset('vqa')\n",
    "experiment.set_features(['QSN', 'descriptions', 'tags', 'dominant_colors','handwritten_text', 'ocr_text'])\n",
    "# experiment.set_features(['descriptions'])\n",
    "experiment.set_targets()\n",
    "\n",
    "features_train = experiment.features_train\n",
    "features_val   = experiment.features_val\n",
    "\n",
    "# check training class distribution\n",
    "text_recognition_y_train = to_categorical(np.asarray(experiment.txt_train)).astype('float32')\n",
    "color_recognition_y_train = to_categorical(np.asarray(experiment.col_train)).astype('float32')\n",
    "print('Number of training samples each class: ')\n",
    "print('Text recognition', text_recognition_y_train.sum(axis=0))\n",
    "print('Color recognition', color_recognition_y_train.sum(axis=0))\n",
    "\n",
    "n_classes = 2\n",
    "\n",
    "# check validation class distribution\n",
    "text_recognition_y_val = to_categorical(np.asarray(experiment.txt_val)).astype('float32')\n",
    "color_recognition_y_val = to_categorical(np.asarray(experiment.col_val)).astype('float32')\n",
    "print('Number of validation samples each class: ')\n",
    "print('Text recognition', text_recognition_y_val.sum(axis=0))\n",
    "print('Color recognition', color_recognition_y_val.sum(axis=0))\n",
    "\n",
    "# get targets\n",
    "txt_train      = experiment.txt_train\n",
    "col_train      = experiment.col_train\n",
    "txt_val        = experiment.txt_val\n",
    "col_val        = experiment.col_val\n"
   ]
  },
  {
   "cell_type": "code",
   "execution_count": 4,
   "metadata": {
    "scrolled": true
   },
   "outputs": [
    {
     "name": "stderr",
     "output_type": "stream",
     "text": [
      "2019-03-17 23:41:56,380 : INFO : collecting all words and their counts\n",
      "2019-03-17 23:41:56,381 : INFO : PROGRESS: at sentence #0, processed 0 words, keeping 0 word types\n",
      "2019-03-17 23:41:56,402 : INFO : collected 4567 word types from a corpus of 129923 raw words and 3230 sentences\n",
      "2019-03-17 23:41:56,403 : INFO : Loading a fresh vocabulary\n",
      "2019-03-17 23:41:56,410 : INFO : effective_min_count=6 retains 845 unique words (18% of original 4567, drops 3722)\n",
      "2019-03-17 23:41:56,411 : INFO : effective_min_count=6 leaves 124737 word corpus (96% of original 129923, drops 5186)\n",
      "2019-03-17 23:41:56,416 : INFO : deleting the raw counts dictionary of 4567 items\n",
      "2019-03-17 23:41:56,418 : INFO : sample=0.001 downsamples 76 most-common words\n",
      "2019-03-17 23:41:56,418 : INFO : downsampling leaves estimated 79821 word corpus (64.0% of prior 124737)\n",
      "2019-03-17 23:41:56,422 : INFO : estimated required memory for 845 words and 40 dimensions: 692900 bytes\n",
      "2019-03-17 23:41:56,422 : INFO : resetting layer weights\n",
      "2019-03-17 23:41:56,431 : INFO : training model with 6 workers on 845 vocabulary and 40 features, using sg=1 hs=0 sample=0.001 negative=5 window=5\n",
      "2019-03-17 23:41:56,521 : INFO : worker thread finished; awaiting finish of 5 more threads\n",
      "2019-03-17 23:41:56,535 : INFO : worker thread finished; awaiting finish of 4 more threads\n",
      "2019-03-17 23:41:56,537 : INFO : worker thread finished; awaiting finish of 3 more threads\n",
      "2019-03-17 23:41:56,546 : INFO : worker thread finished; awaiting finish of 2 more threads\n",
      "2019-03-17 23:41:56,549 : INFO : worker thread finished; awaiting finish of 1 more threads\n",
      "2019-03-17 23:41:56,557 : INFO : worker thread finished; awaiting finish of 0 more threads\n",
      "2019-03-17 23:41:56,558 : INFO : EPOCH - 1 : training on 129923 raw words (79671 effective words) took 0.1s, 667357 effective words/s\n",
      "2019-03-17 23:41:56,654 : INFO : worker thread finished; awaiting finish of 5 more threads\n",
      "2019-03-17 23:41:56,658 : INFO : worker thread finished; awaiting finish of 4 more threads\n",
      "2019-03-17 23:41:56,658 : INFO : worker thread finished; awaiting finish of 3 more threads\n",
      "2019-03-17 23:41:56,664 : INFO : worker thread finished; awaiting finish of 2 more threads\n",
      "2019-03-17 23:41:56,666 : INFO : worker thread finished; awaiting finish of 1 more threads\n",
      "2019-03-17 23:41:56,672 : INFO : worker thread finished; awaiting finish of 0 more threads\n",
      "2019-03-17 23:41:56,672 : INFO : EPOCH - 2 : training on 129923 raw words (79770 effective words) took 0.1s, 744321 effective words/s\n",
      "2019-03-17 23:41:56,771 : INFO : worker thread finished; awaiting finish of 5 more threads\n",
      "2019-03-17 23:41:56,774 : INFO : worker thread finished; awaiting finish of 4 more threads\n",
      "2019-03-17 23:41:56,781 : INFO : worker thread finished; awaiting finish of 3 more threads\n",
      "2019-03-17 23:41:56,783 : INFO : worker thread finished; awaiting finish of 2 more threads\n",
      "2019-03-17 23:41:56,786 : INFO : worker thread finished; awaiting finish of 1 more threads\n",
      "2019-03-17 23:41:56,794 : INFO : worker thread finished; awaiting finish of 0 more threads\n",
      "2019-03-17 23:41:56,795 : INFO : EPOCH - 3 : training on 129923 raw words (79732 effective words) took 0.1s, 685258 effective words/s\n",
      "2019-03-17 23:41:56,888 : INFO : worker thread finished; awaiting finish of 5 more threads\n",
      "2019-03-17 23:41:56,898 : INFO : worker thread finished; awaiting finish of 4 more threads\n",
      "2019-03-17 23:41:56,903 : INFO : worker thread finished; awaiting finish of 3 more threads\n",
      "2019-03-17 23:41:56,910 : INFO : worker thread finished; awaiting finish of 2 more threads\n",
      "2019-03-17 23:41:56,914 : INFO : worker thread finished; awaiting finish of 1 more threads\n",
      "2019-03-17 23:41:56,919 : INFO : worker thread finished; awaiting finish of 0 more threads\n",
      "2019-03-17 23:41:56,919 : INFO : EPOCH - 4 : training on 129923 raw words (80061 effective words) took 0.1s, 680253 effective words/s\n",
      "2019-03-17 23:41:57,021 : INFO : worker thread finished; awaiting finish of 5 more threads\n",
      "2019-03-17 23:41:57,022 : INFO : worker thread finished; awaiting finish of 4 more threads\n",
      "2019-03-17 23:41:57,032 : INFO : worker thread finished; awaiting finish of 3 more threads\n",
      "2019-03-17 23:41:57,044 : INFO : worker thread finished; awaiting finish of 2 more threads\n",
      "2019-03-17 23:41:57,046 : INFO : worker thread finished; awaiting finish of 1 more threads\n",
      "2019-03-17 23:41:57,048 : INFO : worker thread finished; awaiting finish of 0 more threads\n",
      "2019-03-17 23:41:57,048 : INFO : EPOCH - 5 : training on 129923 raw words (79767 effective words) took 0.1s, 704404 effective words/s\n",
      "2019-03-17 23:41:57,049 : INFO : training on a 649615 raw words (399001 effective words) took 0.6s, 646375 effective words/s\n"
     ]
    },
    {
     "name": "stdout",
     "output_type": "stream",
     "text": [
      "Total 845 word vectors\n"
     ]
    }
   ],
   "source": [
    "# tokenize\n",
    "tok        = Tokenizer(num_words=VOCAB_SIZE, \n",
    "                       filters='!\"#$%&()*+,-./:;<=>?@[\\\\]^_`{|}~\\t\\n',\n",
    "                       lower=True,\n",
    "                       split=\" \")\n",
    "tok.fit_on_texts(features_train)\n",
    "\n",
    "# create sequences & pad\n",
    "train_seq  = tok.texts_to_sequences(features_train)\n",
    "train_seq  = sequence.pad_sequences(train_seq, maxlen=MAX_DOC_LEN)\n",
    "val_seq    = tok.texts_to_sequences(features_val)\n",
    "val_seq    = sequence.pad_sequences(val_seq, maxlen=MAX_DOC_LEN)\n",
    "\n",
    "# Set validation data tuple\n",
    "val_data = (val_seq, color_recognition_y_val)\n",
    "\n",
    "# punkt sentence level tokenizer\n",
    "sent_lst = [] \n",
    "for doc in features_train:\n",
    "    sentences = nltk.tokenize.sent_tokenize(doc)\n",
    "    for sent in sentences:\n",
    "        word_lst = [w for w in nltk.tokenize.word_tokenize(sent) if w.isalnum()]\n",
    "        sent_lst.append(word_lst)\n",
    "\n",
    "# word2vec\n",
    "logging.basicConfig(format='%(asctime)s : %(levelname)s : %(message)s', level=logging.INFO)\n",
    "word2vec_model = gensim.models.Word2Vec(sentences=sent_lst,\n",
    "                                        min_count=6,\n",
    "                                        size=EMBEDDING_DIM,\n",
    "                                        sg=1,\n",
    "                                        workers=os.cpu_count())\n",
    "\n",
    "embeddings_index = {}\n",
    "for word in word2vec_model.wv.vocab:\n",
    "    coefs = np.asarray(word2vec_model.wv[word], dtype='float32')\n",
    "    embeddings_index[word] = coefs\n",
    "print('Total %s word vectors' % len(embeddings_index))\n",
    "\n",
    "# Initial word embedding\n",
    "embedding_matrix = np.zeros((VOCAB_SIZE, EMBEDDING_DIM))\n",
    "\n",
    "for word, i in tok.word_index.items():\n",
    "    embedding_vector = embeddings_index.get(word)\n",
    "    if embedding_vector is not None and i < VOCAB_SIZE:\n",
    "        embedding_matrix[i] = embedding_vector"
   ]
  },
  {
   "cell_type": "code",
   "execution_count": 5,
   "metadata": {
    "scrolled": true
   },
   "outputs": [
    {
     "data": {
      "image/png": "[encoded data removed]",
      "text/plain": [
       "<Figure size 432x288 with 1 Axes>"
      ]
     },
     "metadata": {},
     "output_type": "display_data"
    }
   ],
   "source": [
    "plot_explained_variance(train_seq)"
   ]
  },
  {
   "cell_type": "code",
   "execution_count": 6,
   "metadata": {},
   "outputs": [],
   "source": [
    "N_COMPONENTS = 40\n",
    "train_seq, val_seq = preprocess_pca(train_seq, val_seq, dim=N_COMPONENTS)"
   ]
  },
  {
   "cell_type": "markdown",
   "metadata": {},
   "source": [
    "## VQA, 500 epochs, all features (no PCA)"
   ]
  },
  {
   "cell_type": "code",
   "execution_count": null,
   "metadata": {},
   "outputs": [],
   "source": [
    "L = 1e-1\n",
    "R = 0\n",
    "B = 32\n",
    "E = 500\n",
    "skill='color'\n",
    "vqa_color_result_500 = lstm_create_train(train_seq, embedding_matrix,\n",
    "                 train_labels=text_recognition_y_train, skill=skill,\n",
    "                 val_data=val_data,\n",
    "                 learning_rate=L,\n",
    "                 lstm_dim=100,\n",
    "                 batch_size=B,\n",
    "                 num_epochs=E,\n",
    "                 optimizer_param=SGD(lr=L, nesterov=True),\n",
    "                 regularization=R)\n",
    "model = load_model('./LSTM/color/{}_{}_{}_{}_model.h5'.format(L,R,B,E))\n",
    "preds = model.predict(val_seq, verbose=0)\n",
    "print(\"Learning rate: {} Regularization: {} Batch size: {} Epoch: {}\".format(L,R,B,E))\n",
    "print((\"Accuracy = {0} \\t AUC = {1}\".format(accuracy_score(txt_val, preds.argmax(axis=1)), \n",
    "                                                            roc_auc_score(txt_val, preds[:,1]))))"
   ]
  },
  {
   "cell_type": "code",
   "execution_count": 34,
   "metadata": {},
   "outputs": [
    {
     "name": "stdout",
     "output_type": "stream",
     "text": [
      "Stored 'vqa_color_result' (dict)\n"
     ]
    }
   ],
   "source": [
    "vqa_color_result = vqa_color_result_500.history\n",
    "%store vqa_color_result"
   ]
  },
  {
   "cell_type": "code",
   "execution_count": 19,
   "metadata": {
    "scrolled": false
   },
   "outputs": [
    {
     "data": {
      "image/png": "[encoded data removed]",
      "text/plain": [
       "<Figure size 432x288 with 1 Axes>"
      ]
     },
     "metadata": {},
     "output_type": "display_data"
    }
   ],
   "source": [
    "plt.plot([i for i in range(500)], vqa_color_result_500.history['acc'],label='training')\n",
    "plt.plot([i for i in range(500)], vqa_color_result_500.history['val_acc'],label='validation')\n",
    "plt.xlabel(\"epoch\")\n",
    "plt.ylabel(\"accuracy\")\n",
    "plt.title(\"Performance on VQA, color recognition classifier, all features\")\n",
    "plt.grid()\n",
    "plt.legend()\n",
    "plt.show()"
   ]
  },
  {
   "cell_type": "markdown",
   "metadata": {},
   "source": [
    "## VQA, 500 epochs, full features, with PCA (40)"
   ]
  },
  {
   "cell_type": "code",
   "execution_count": 11,
   "metadata": {},
   "outputs": [
    {
     "name": "stdout",
     "output_type": "stream",
     "text": [
      "Learning rate: 0.01 Regularization: 1e-07 Batch size: 32 Epoch: 500\n",
      "Accuracy = 0.6530214424951267 \t AUC = 0.5778835978835979\n"
     ]
    }
   ],
   "source": [
    "L = 1e-2\n",
    "R = 1e-7\n",
    "B = 32\n",
    "E = 500\n",
    "skill='color'\n",
    "vqa_color_result_500 = lstm_create_train(train_seq, embedding_matrix,\n",
    "                 train_labels=text_recognition_y_train, skill=skill,\n",
    "                 val_data=val_data,\n",
    "                 learning_rate=L,\n",
    "                 lstm_dim=100,\n",
    "                 batch_size=B,\n",
    "                 num_epochs=E,\n",
    "                 optimizer_param=SGD(lr=L, nesterov=True),\n",
    "                 regularization=R)\n",
    "model = load_model('./LSTM/color/{}_{}_{}_{}_model.h5'.format(L,R,B,E))\n",
    "preds = model.predict(val_seq, verbose=0)\n",
    "print(\"Learning rate: {} Regularization: {} Batch size: {} Epoch: {}\".format(L,R,B,E))\n",
    "print((\"Accuracy = {0} \\t AUC = {1}\".format(accuracy_score(col_val, preds.argmax(axis=1)), \n",
    "                                                            roc_auc_score(txt_val, preds[:,1]))))"
   ]
  },
  {
   "cell_type": "markdown",
   "metadata": {},
   "source": [
    "## VQA, 30 epochs, full features, with PCA (40)"
   ]
  },
  {
   "cell_type": "code",
   "execution_count": 15,
   "metadata": {},
   "outputs": [
    {
     "name": "stdout",
     "output_type": "stream",
     "text": [
      "Learning rate: 0.01 Regularization: 1e-07 Batch size: 32 Epoch: 40\n",
      "Accuracy = 0.6510721247563352 \t AUC = 0.6095943562610229\n"
     ]
    }
   ],
   "source": [
    "L = 1e-2\n",
    "R = 1e-7\n",
    "B = 32\n",
    "E = 40\n",
    "skill='color'\n",
    "vqa_color_result_40 = lstm_create_train(train_seq, embedding_matrix,\n",
    "                 train_labels=text_recognition_y_train, skill=skill,\n",
    "                 val_data=val_data,\n",
    "                 learning_rate=L,\n",
    "                 lstm_dim=100,\n",
    "                 batch_size=B,\n",
    "                 num_epochs=E,\n",
    "                 optimizer_param=SGD(lr=L, nesterov=True),\n",
    "                 regularization=R)\n",
    "model = load_model('./LSTM/color/{}_{}_{}_{}_model.h5'.format(L,R,B,E))\n",
    "preds = model.predict(val_seq, verbose=0)\n",
    "print(\"Learning rate: {} Regularization: {} Batch size: {} Epoch: {}\".format(L,R,B,E))\n",
    "print((\"Accuracy = {0} \\t AUC = {1}\".format(accuracy_score(col_val, preds.argmax(axis=1)), \n",
    "                                                            roc_auc_score(txt_val, preds[:,1]))))"
   ]
  },
  {
   "cell_type": "code",
   "execution_count": 16,
   "metadata": {},
   "outputs": [
    {
     "data": {
      "image/png": "[encoded data removed]",
      "text/plain": [
       "<Figure size 432x288 with 1 Axes>"
      ]
     },
     "metadata": {},
     "output_type": "display_data"
    }
   ],
   "source": [
    "plt.plot([i for i in range(40)], vqa_color_result_40.history['loss'],label='training')\n",
    "plt.plot([i for i in range(40)], vqa_color_result_40.history['val_loss'],label='validation')\n",
    "plt.xlabel(\"epoch\")\n",
    "plt.ylabel(\"accuracy\")\n",
    "plt.title(\"Loss on VQA, color recognition classifier, all features\")\n",
    "plt.grid()\n",
    "plt.legend()\n",
    "plt.show()"
   ]
  },
  {
   "cell_type": "code",
   "execution_count": 17,
   "metadata": {},
   "outputs": [
    {
     "data": {
      "image/png": "[encoded data removed]",
      "text/plain": [
       "<Figure size 432x288 with 1 Axes>"
      ]
     },
     "metadata": {},
     "output_type": "display_data"
    }
   ],
   "source": [
    "plt.plot([i for i in range(40)], vqa_color_result_40.history['acc'],label='training')\n",
    "plt.plot([i for i in range(40)], vqa_color_result_40.history['val_acc'],label='validation')\n",
    "plt.xlabel(\"epoch\")\n",
    "plt.ylabel(\"accuracy\")\n",
    "plt.title(\"Accuracy on VQA, color recognition classifier, all features\")\n",
    "plt.grid()\n",
    "plt.legend()\n",
    "plt.show()"
   ]
  },
  {
   "cell_type": "code",
   "execution_count": 18,
   "metadata": {},
   "outputs": [
    {
     "name": "stdout",
     "output_type": "stream",
     "text": [
      "Learning rate: 0.1 Regularization: 1e-07 Batch size: 32 Epoch: 40\n",
      "Accuracy = 0.6510721247563352 \t AUC = 0.5939329805996473\n"
     ]
    }
   ],
   "source": [
    "# no significant change in loss and learning rate within 5 epochs\n",
    "# need to readjust learning rate\n",
    "L = 1e-1\n",
    "R = 1e-7\n",
    "B = 32\n",
    "E = 40\n",
    "skill='color'\n",
    "vqa_color_result_40 = lstm_create_train(train_seq, embedding_matrix,\n",
    "                 train_labels=text_recognition_y_train, skill=skill,\n",
    "                 val_data=val_data,\n",
    "                 learning_rate=L,\n",
    "                 lstm_dim=100,\n",
    "                 batch_size=B,\n",
    "                 num_epochs=E,\n",
    "                 optimizer_param=SGD(lr=L, nesterov=True),\n",
    "                 regularization=R)\n",
    "model = load_model('./LSTM/color/{}_{}_{}_{}_model.h5'.format(L,R,B,E))\n",
    "preds = model.predict(val_seq, verbose=0)\n",
    "print(\"Learning rate: {} Regularization: {} Batch size: {} Epoch: {}\".format(L,R,B,E))\n",
    "print((\"Accuracy = {0} \\t AUC = {1}\".format(accuracy_score(col_val, preds.argmax(axis=1)), \n",
    "                                                            roc_auc_score(txt_val, preds[:,1]))))"
   ]
  },
  {
   "cell_type": "code",
   "execution_count": 20,
   "metadata": {},
   "outputs": [
    {
     "data": {
      "image/png": "[encoded data removed]",
      "text/plain": [
       "<Figure size 432x288 with 1 Axes>"
      ]
     },
     "metadata": {},
     "output_type": "display_data"
    }
   ],
   "source": [
    "plt.plot([i for i in range(40)], vqa_color_result_40.history['loss'],label='training')\n",
    "plt.plot([i for i in range(40)], vqa_color_result_40.history['val_loss'],label='validation')\n",
    "plt.xlabel(\"epoch\")\n",
    "plt.ylabel(\"accuracy\")\n",
    "plt.title(\"Loss on VQA, color recognition classifier, all features\")\n",
    "plt.grid()\n",
    "plt.legend()\n",
    "plt.show()"
   ]
  },
  {
   "cell_type": "code",
   "execution_count": null,
   "metadata": {
    "scrolled": true
   },
   "outputs": [],
   "source": [
    "# re-run after earlystopping, L2 norm and exponential learning schedule\n",
    "L = 0.1\n",
    "R = 1e-7\n",
    "B = 64\n",
    "E = 200\n",
    "skill='color'\n",
    "vqa_color_result_40 = lstm_create_train(train_seq, embedding_matrix,\n",
    "                 train_labels=text_recognition_y_train, skill=skill,\n",
    "                 val_data=val_data,\n",
    "                 learning_rate=L,\n",
    "                 lstm_dim=100,\n",
    "                 batch_size=B,\n",
    "                 num_epochs=E,\n",
    "                 optimizer_param=SGD(lr=L, nesterov=True),\n",
    "                 regularization=R)\n",
    "model = load_model('./LSTM/color/{}_{}_{}_{}_model.h5'.format(L,R,B,E))\n",
    "preds = model.predict(val_seq, verbose=0)\n",
    "print(\"Learning rate: {} Regularization: {} Batch size: {} Epoch: {}\".format(L,R,B,E))\n",
    "print((\"Accuracy = {0} \\t AUC = {1}\".format(accuracy_score(col_val, preds.argmax(axis=1)), \n",
    "                                                            roc_auc_score(txt_val, preds[:,1]))))"
   ]
  },
  {
   "cell_type": "code",
   "execution_count": null,
   "metadata": {
    "scrolled": true
   },
   "outputs": [],
   "source": [
    "plt.plot([i for i in range(200)], vqa_color_result_40.history['loss'],label='training')\n",
    "plt.plot([i for i in range(200)], vqa_color_result_40.history['val_loss'],label='validation')\n",
    "plt.xlabel(\"epoch\")\n",
    "plt.ylabel(\"loss\")\n",
    "plt.title(\"Loss on VQA, color recognition classifier, all features\")\n",
    "plt.grid()\n",
    "plt.legend()\n",
    "plt.show()"
   ]
  }
 ],
 "metadata": {
  "kernelspec": {
   "display_name": "Python 3",
   "language": "python",
   "name": "python3"
  },
  "language_info": {
   "codemirror_mode": {
    "name": "ipython",
    "version": 3
   },
   "file_extension": ".py",
   "mimetype": "text/x-python",
   "name": "python",
   "nbconvert_exporter": "python",
   "pygments_lexer": "ipython3",
   "version": "3.5.5"
  }
 },
 "nbformat": 4,
 "nbformat_minor": 2
}
