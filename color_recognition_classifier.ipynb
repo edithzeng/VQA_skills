{
 "cells": [
  {
   "cell_type": "code",
   "execution_count": 1,
   "metadata": {
    "scrolled": true
   },
   "outputs": [
    {
     "name": "stderr",
     "output_type": "stream",
     "text": [
      "/anaconda/envs/py35/lib/python3.5/site-packages/h5py/__init__.py:36: FutureWarning: Conversion of the second argument of issubdtype from `float` to `np.floating` is deprecated. In future, it will be treated as `np.float64 == np.dtype(float).type`.\n",
      "  from ._conv import register_converters as _register_converters\n",
      "Using TensorFlow backend.\n"
     ]
    },
    {
     "name": "stdout",
     "output_type": "stream",
     "text": [
      "[nltk_data] Downloading package wordnet to\n",
      "[nltk_data]     /home/edithzeng/nltk_data...\n",
      "[nltk_data]   Package wordnet is already up-to-date!\n",
      "[nltk_data] Downloading package punkt to /home/edithzeng/nltk_data...\n",
      "[nltk_data]   Package punkt is already up-to-date!\n",
      "[nltk_data] Downloading package stopwords to\n",
      "[nltk_data]     /home/edithzeng/nltk_data...\n",
      "[nltk_data]   Package stopwords is already up-to-date!\n",
      "[name: \"/device:CPU:0\"\n",
      "device_type: \"CPU\"\n",
      "memory_limit: 268435456\n",
      "locality {\n",
      "}\n",
      "incarnation: 5687953962012802793\n",
      ", name: \"/device:GPU:0\"\n",
      "device_type: \"GPU\"\n",
      "memory_limit: 850198528\n",
      "locality {\n",
      "  bus_id: 1\n",
      "  links {\n",
      "  }\n",
      "}\n",
      "incarnation: 8539559835819461445\n",
      "physical_device_desc: \"device: 0, name: Tesla K80, pci bus id: 1d78:00:00.0, compute capability: 3.7\"\n",
      "]\n",
      "['/job:localhost/replica:0/task:0/device:GPU:0']\n"
     ]
    }
   ],
   "source": [
    "from tensorflow.python.client import device_lib\n",
    "import tensorflow as tf\n",
    "from skill_label_classifier import *\n",
    "import matplotlib.pyplot as plt"
   ]
  },
  {
   "cell_type": "code",
   "execution_count": null,
   "metadata": {},
   "outputs": [],
   "source": [
    "experiment = SkillClassifier()\n",
    "experiment.import_data()\n",
    "experiment.create_df()\n",
    "\n",
    "experiment.choose_dataset('vizwiz')\n",
    "experiment.set_features(['QSN', 'descriptions', 'tags', 'dominant_colors','handwritten_text', 'ocr_text'])\n",
    "# experiment.set_features(['descriptions'])\n",
    "experiment.set_targets()\n",
    "\n",
    "features_train = experiment.features_train\n",
    "features_val   = experiment.features_val\n",
    "\n",
    "# check training class distribution\n",
    "text_recognition_y_train = to_categorical(np.asarray(experiment.txt_train)).astype('float32')\n",
    "color_recognition_y_train = to_categorical(np.asarray(experiment.col_train)).astype('float32')\n",
    "print('Number of training samples each class: ')\n",
    "print('Text recognition', text_recognition_y_train.sum(axis=0))\n",
    "print('Color recognition', color_recognition_y_train.sum(axis=0))\n",
    "\n",
    "n_classes = 2\n",
    "\n",
    "# check validation class distribution\n",
    "text_recognition_y_val = to_categorical(np.asarray(experiment.txt_val)).astype('float32')\n",
    "color_recognition_y_val = to_categorical(np.asarray(experiment.col_val)).astype('float32')\n",
    "print('Number of validation samples each class: ')\n",
    "print('Text recognition', text_recognition_y_val.sum(axis=0))\n",
    "print('Color recognition', color_recognition_y_val.sum(axis=0))\n",
    "\n",
    "# get targets\n",
    "txt_train      = experiment.txt_train\n",
    "col_train      = experiment.col_train\n",
    "txt_val        = experiment.txt_val\n",
    "col_val        = experiment.col_val"
   ]
  },
  {
   "cell_type": "code",
   "execution_count": 4,
   "metadata": {
    "scrolled": true
   },
   "outputs": [
    {
     "name": "stderr",
     "output_type": "stream",
     "text": [
      "2019-03-11 20:22:54,025 : INFO : collecting all words and their counts\n",
      "2019-03-11 20:22:54,026 : INFO : PROGRESS: at sentence #0, processed 0 words, keeping 0 word types\n",
      "2019-03-11 20:22:54,090 : INFO : PROGRESS: at sentence #10000, processed 383294 words, keeping 24880 word types\n",
      "2019-03-11 20:22:54,116 : INFO : collected 31762 word types from a corpus of 541792 raw words and 14257 sentences\n",
      "2019-03-11 20:22:54,116 : INFO : Loading a fresh vocabulary\n",
      "2019-03-11 20:22:54,138 : INFO : effective_min_count=6 retains 3565 unique words (11% of original 31762, drops 28197)\n",
      "2019-03-11 20:22:54,138 : INFO : effective_min_count=6 leaves 501856 word corpus (92% of original 541792, drops 39936)\n",
      "2019-03-11 20:22:54,148 : INFO : deleting the raw counts dictionary of 31762 items\n",
      "2019-03-11 20:22:54,150 : INFO : sample=0.001 downsamples 67 most-common words\n",
      "2019-03-11 20:22:54,151 : INFO : downsampling leaves estimated 318802 word corpus (63.5% of prior 501856)\n",
      "2019-03-11 20:22:54,159 : INFO : estimated required memory for 3565 words and 100 dimensions: 4634500 bytes\n",
      "2019-03-11 20:22:54,160 : INFO : resetting layer weights\n",
      "2019-03-11 20:22:54,233 : INFO : training model with 6 workers on 3565 vocabulary and 100 features, using sg=1 hs=0 sample=0.001 negative=5 window=5\n",
      "2019-03-11 20:22:54,606 : INFO : worker thread finished; awaiting finish of 5 more threads\n",
      "2019-03-11 20:22:54,607 : INFO : worker thread finished; awaiting finish of 4 more threads\n",
      "2019-03-11 20:22:54,616 : INFO : worker thread finished; awaiting finish of 3 more threads\n",
      "2019-03-11 20:22:54,620 : INFO : worker thread finished; awaiting finish of 2 more threads\n",
      "2019-03-11 20:22:54,623 : INFO : worker thread finished; awaiting finish of 1 more threads\n",
      "2019-03-11 20:22:54,625 : INFO : worker thread finished; awaiting finish of 0 more threads\n",
      "2019-03-11 20:22:54,625 : INFO : EPOCH - 1 : training on 541792 raw words (318402 effective words) took 0.4s, 824889 effective words/s\n",
      "2019-03-11 20:22:55,019 : INFO : worker thread finished; awaiting finish of 5 more threads\n",
      "2019-03-11 20:22:55,020 : INFO : worker thread finished; awaiting finish of 4 more threads\n",
      "2019-03-11 20:22:55,033 : INFO : worker thread finished; awaiting finish of 3 more threads\n",
      "2019-03-11 20:22:55,034 : INFO : worker thread finished; awaiting finish of 2 more threads\n",
      "2019-03-11 20:22:55,050 : INFO : worker thread finished; awaiting finish of 1 more threads\n",
      "2019-03-11 20:22:55,051 : INFO : worker thread finished; awaiting finish of 0 more threads\n",
      "2019-03-11 20:22:55,051 : INFO : EPOCH - 2 : training on 541792 raw words (318612 effective words) took 0.4s, 757568 effective words/s\n",
      "2019-03-11 20:22:55,424 : INFO : worker thread finished; awaiting finish of 5 more threads\n",
      "2019-03-11 20:22:55,435 : INFO : worker thread finished; awaiting finish of 4 more threads\n",
      "2019-03-11 20:22:55,436 : INFO : worker thread finished; awaiting finish of 3 more threads\n",
      "2019-03-11 20:22:55,441 : INFO : worker thread finished; awaiting finish of 2 more threads\n",
      "2019-03-11 20:22:55,450 : INFO : worker thread finished; awaiting finish of 1 more threads\n",
      "2019-03-11 20:22:55,451 : INFO : worker thread finished; awaiting finish of 0 more threads\n",
      "2019-03-11 20:22:55,452 : INFO : EPOCH - 3 : training on 541792 raw words (318896 effective words) took 0.4s, 809433 effective words/s\n",
      "2019-03-11 20:22:55,830 : INFO : worker thread finished; awaiting finish of 5 more threads\n",
      "2019-03-11 20:22:55,832 : INFO : worker thread finished; awaiting finish of 4 more threads\n",
      "2019-03-11 20:22:55,835 : INFO : worker thread finished; awaiting finish of 3 more threads\n",
      "2019-03-11 20:22:55,840 : INFO : worker thread finished; awaiting finish of 2 more threads\n",
      "2019-03-11 20:22:55,843 : INFO : worker thread finished; awaiting finish of 1 more threads\n",
      "2019-03-11 20:22:55,847 : INFO : worker thread finished; awaiting finish of 0 more threads\n",
      "2019-03-11 20:22:55,848 : INFO : EPOCH - 4 : training on 541792 raw words (318659 effective words) took 0.4s, 817535 effective words/s\n",
      "2019-03-11 20:22:56,221 : INFO : worker thread finished; awaiting finish of 5 more threads\n",
      "2019-03-11 20:22:56,226 : INFO : worker thread finished; awaiting finish of 4 more threads\n",
      "2019-03-11 20:22:56,230 : INFO : worker thread finished; awaiting finish of 3 more threads\n",
      "2019-03-11 20:22:56,241 : INFO : worker thread finished; awaiting finish of 2 more threads\n",
      "2019-03-11 20:22:56,243 : INFO : worker thread finished; awaiting finish of 1 more threads\n",
      "2019-03-11 20:22:56,245 : INFO : worker thread finished; awaiting finish of 0 more threads\n",
      "2019-03-11 20:22:56,246 : INFO : EPOCH - 5 : training on 541792 raw words (318468 effective words) took 0.4s, 812970 effective words/s\n",
      "2019-03-11 20:22:56,246 : INFO : training on a 2708960 raw words (1593037 effective words) took 2.0s, 791333 effective words/s\n"
     ]
    },
    {
     "name": "stdout",
     "output_type": "stream",
     "text": [
      "Total 3565 word vectors\n"
     ]
    }
   ],
   "source": [
    "# tokenize\n",
    "tok        = Tokenizer(num_words=VOCAB_SIZE, \n",
    "                       filters='!\"#$%&()*+,-./:;<=>?@[\\\\]^_`{|}~\\t\\n',\n",
    "                       lower=True,\n",
    "                       split=\" \")\n",
    "tok.fit_on_texts(features_train)\n",
    "\n",
    "# create sequences & pad\n",
    "train_seq  = tok.texts_to_sequences(features_train)\n",
    "train_seq  = sequence.pad_sequences(train_seq, maxlen=MAX_DOC_LEN)\n",
    "val_seq    = tok.texts_to_sequences(features_val)\n",
    "val_seq    = sequence.pad_sequences(val_seq, maxlen=MAX_DOC_LEN)\n",
    "\n",
    "# Set validation data tuple\n",
    "val_data = (val_seq, color_recognition_y_val)\n",
    "\n",
    "# punkt sentence level tokenizer\n",
    "sent_lst = [] \n",
    "for doc in features_train:\n",
    "    sentences = nltk.tokenize.sent_tokenize(doc)\n",
    "    for sent in sentences:\n",
    "        word_lst = [w for w in nltk.tokenize.word_tokenize(sent) if w.isalnum()]\n",
    "        sent_lst.append(word_lst)\n",
    "\n",
    "# word2vec\n",
    "logging.basicConfig(format='%(asctime)s : %(levelname)s : %(message)s', level=logging.INFO)\n",
    "word2vec_model = gensim.models.Word2Vec(sentences=sent_lst,\n",
    "                                        min_count=6,\n",
    "                                        size=EMBEDDING_DIM,\n",
    "                                        sg=1,\n",
    "                                        workers=os.cpu_count())\n",
    "\n",
    "embeddings_index = {}\n",
    "for word in word2vec_model.wv.vocab:\n",
    "    coefs = np.asarray(word2vec_model.wv[word], dtype='float32')\n",
    "    embeddings_index[word] = coefs\n",
    "print('Total %s word vectors' % len(embeddings_index))\n",
    "\n",
    "# Initial word embedding\n",
    "embedding_matrix = np.zeros((VOCAB_SIZE, EMBEDDING_DIM))\n",
    "\n",
    "for word, i in tok.word_index.items():\n",
    "    embedding_vector = embeddings_index.get(word)\n",
    "    if embedding_vector is not None and i < VOCAB_SIZE:\n",
    "        embedding_matrix[i] = embedding_vector"
   ]
  },
  {
   "cell_type": "code",
   "execution_count": null,
   "metadata": {},
   "outputs": [],
   "source": []
  },
  {
   "cell_type": "markdown",
   "metadata": {},
   "source": [
    "## VQA, 500 epochs, all features"
   ]
  },
  {
   "cell_type": "code",
   "execution_count": null,
   "metadata": {},
   "outputs": [],
   "source": [
    "L = 1e-1\n",
    "R = 0\n",
    "B = 32\n",
    "E = 500\n",
    "skill='color'\n",
    "vqa_color_result_500 = lstm_create_train(train_seq, embedding_matrix,\n",
    "                 train_labels=text_recognition_y_train, skill=skill,\n",
    "                 val_data=val_data,\n",
    "                 learning_rate=L,\n",
    "                 lstm_dim=100,\n",
    "                 batch_size=B,\n",
    "                 num_epochs=E,\n",
    "                 optimizer_param=SGD(lr=L, nesterov=True),\n",
    "                 regularization=R)\n",
    "model = load_model('./LSTM/color/{}_{}_{}_{}_model.h5'.format(L,R,B,E))\n",
    "preds = model.predict(val_seq, verbose=0)\n",
    "print(\"Learning rate: {} Regularization: {} Batch size: {} Epoch: {}\".format(L,R,B,E))\n",
    "print((\"Accuracy = {0} \\t AUC = {1}\".format(accuracy_score(txt_val, preds.argmax(axis=1)), \n",
    "                                                            roc_auc_score(txt_val, preds[:,1]))))"
   ]
  },
  {
   "cell_type": "code",
   "execution_count": 34,
   "metadata": {},
   "outputs": [
    {
     "name": "stdout",
     "output_type": "stream",
     "text": [
      "Stored 'vqa_color_result' (dict)\n"
     ]
    }
   ],
   "source": [
    "vqa_color_result = vqa_color_result_500.history\n",
    "%store vqa_color_result"
   ]
  },
  {
   "cell_type": "code",
   "execution_count": 19,
   "metadata": {
    "scrolled": true
   },
   "outputs": [
    {
     "data": {
      "image/png": "[encoded data removed]",
      "text/plain": [
       "<Figure size 432x288 with 1 Axes>"
      ]
     },
     "metadata": {},
     "output_type": "display_data"
    }
   ],
   "source": [
    "plt.plot([i for i in range(500)], vqa_color_result_500.history['acc'],label='training')\n",
    "plt.plot([i for i in range(500)], vqa_color_result_500.history['val_acc'],label='validation')\n",
    "plt.xlabel(\"epoch\")\n",
    "plt.ylabel(\"accuracy\")\n",
    "plt.title(\"Performance on VQA, color recognition classifier, all features\")\n",
    "plt.grid()\n",
    "plt.legend()\n",
    "plt.show()"
   ]
  },
  {
   "cell_type": "markdown",
   "metadata": {},
   "source": [
    "### VizWiz, 500 epochs, all features"
   ]
  },
  {
   "cell_type": "code",
   "execution_count": null,
   "metadata": {},
   "outputs": [],
   "source": [
    "L = 1e-1\n",
    "R = 0\n",
    "B = 32\n",
    "E = 500\n",
    "skill='color'\n",
    "vizwiz_color_result = lstm_create_train(train_seq, embedding_matrix,\n",
    "                 train_labels=text_recognition_y_train, skill=skill,\n",
    "                 val_data=val_data,\n",
    "                 learning_rate=L,\n",
    "                 lstm_dim=250,\n",
    "                 batch_size=B,\n",
    "                 num_epochs=E,\n",
    "                 optimizer_param=SGD(lr=L, nesterov=True),\n",
    "                 regularization=R)\n",
    "model = load_model('./LSTM/color/{}_{}_{}_{}_model.h5'.format(L,R,B,E))\n",
    "preds = model.predict(val_seq, verbose=0)\n",
    "print(\"Learning rate: {} Regularization: {} Batch size: {} Epoch: {}\".format(L,R,B,E))\n",
    "print((\"Accuracy = {0} \\t AUC = {1}\".format(accuracy_score(txt_val, preds.argmax(axis=1)), \n",
    "                                                            roc_auc_score(txt_val, preds[:,1]))))"
   ]
  },
  {
   "cell_type": "code",
   "execution_count": 8,
   "metadata": {},
   "outputs": [
    {
     "name": "stdout",
     "output_type": "stream",
     "text": [
      "Stored 'vizwiz_color_result' (dict)\n"
     ]
    }
   ],
   "source": [
    "vizwiz_color_result = vizwiz_color_result.history\n",
    "%store -d vizwiz_color_result"
   ]
  },
  {
   "cell_type": "code",
   "execution_count": 10,
   "metadata": {},
   "outputs": [
    {
     "data": {
      "image/png": "[encoded data removed]",
      "text/plain": [
       "<Figure size 432x288 with 1 Axes>"
      ]
     },
     "metadata": {},
     "output_type": "display_data"
    }
   ],
   "source": [
    "plt.plot([i for i in range(500)], vizwiz_color_result['acc'],label='training')\n",
    "plt.plot([i for i in range(500)], vizwiz_color_result['val_acc'],label='validation')\n",
    "plt.xlabel(\"epoch\")\n",
    "plt.ylabel(\"accuracy\")\n",
    "plt.title(\"Performance on VizWiz, color recognition classifier, all features\")\n",
    "plt.grid()\n",
    "plt.legend()\n",
    "plt.show()"
   ]
  },
  {
   "cell_type": "code",
   "execution_count": null,
   "metadata": {},
   "outputs": [],
   "source": []
  }
 ],
 "metadata": {
  "kernelspec": {
   "display_name": "Python 3",
   "language": "python",
   "name": "python3"
  },
  "language_info": {
   "codemirror_mode": {
    "name": "ipython",
    "version": 3
   },
   "file_extension": ".py",
   "mimetype": "text/x-python",
   "name": "python",
   "nbconvert_exporter": "python",
   "pygments_lexer": "ipython3",
   "version": "3.5.5"
  }
 },
 "nbformat": 4,
 "nbformat_minor": 2
}
