{
 "cells": [
  {
   "cell_type": "code",
   "execution_count": 1,
   "metadata": {
    "scrolled": true
   },
   "outputs": [
    {
     "name": "stderr",
     "output_type": "stream",
     "text": [
      "/anaconda/envs/py35/lib/python3.5/site-packages/h5py/__init__.py:36: FutureWarning: Conversion of the second argument of issubdtype from `float` to `np.floating` is deprecated. In future, it will be treated as `np.float64 == np.dtype(float).type`.\n",
      "  from ._conv import register_converters as _register_converters\n",
      "Using TensorFlow backend.\n"
     ]
    },
    {
     "name": "stdout",
     "output_type": "stream",
     "text": [
      "[nltk_data] Downloading package wordnet to\n",
      "[nltk_data]     /home/edithzeng/nltk_data...\n",
      "[nltk_data]   Package wordnet is already up-to-date!\n",
      "[nltk_data] Downloading package punkt to /home/edithzeng/nltk_data...\n",
      "[nltk_data]   Package punkt is already up-to-date!\n",
      "[nltk_data] Downloading package stopwords to\n",
      "[nltk_data]     /home/edithzeng/nltk_data...\n",
      "[nltk_data]   Package stopwords is already up-to-date!\n",
      "[name: \"/device:CPU:0\"\n",
      "device_type: \"CPU\"\n",
      "memory_limit: 268435456\n",
      "locality {\n",
      "}\n",
      "incarnation: 5589331003864357939\n",
      ", name: \"/device:GPU:0\"\n",
      "device_type: \"GPU\"\n",
      "memory_limit: 10945105101\n",
      "locality {\n",
      "  bus_id: 1\n",
      "  links {\n",
      "  }\n",
      "}\n",
      "incarnation: 815751498312450269\n",
      "physical_device_desc: \"device: 0, name: Tesla K80, pci bus id: 1d78:00:00.0, compute capability: 3.7\"\n",
      "]\n",
      "['/job:localhost/replica:0/task:0/device:GPU:0']\n"
     ]
    }
   ],
   "source": [
    "from tensorflow.python.client import device_lib\n",
    "import tensorflow as tf\n",
    "from skill_label_classifier import *\n",
    "import matplotlib.pyplot as plt\n",
    "from sklearn.decomposition import PCA\n",
    "from sklearn.preprocessing import StandardScaler"
   ]
  },
  {
   "cell_type": "code",
   "execution_count": 2,
   "metadata": {},
   "outputs": [],
   "source": [
    "# helper function to find optimal number of PC (elbow method)\n",
    "def plot_explained_variance(X_train):\n",
    "    pca = PCA()\n",
    "    pca_full = pca.fit(X_train)\n",
    "    plt.plot(np.cumsum(pca_full.explained_variance_ratio_))\n",
    "    plt.xlabel(\"number of principal components\")\n",
    "    plt.ylabel(\"cumulative explained variance\")\n",
    "    plt.grid(color='grey',linestyle='-',alpha=0.2)\n",
    "    plt.show()\n",
    "    \n",
    "def preprocess_pca(X_train, X_test, dim, r=None):\n",
    "    pca = PCA(n_components=dim, random_state=r)\n",
    "    X_train_pca = pca.fit_transform(X_train)\n",
    "    X_test_pca = pca.transform(X_test)\n",
    "    return X_train_pca, X_test_pca"
   ]
  },
  {
   "cell_type": "code",
   "execution_count": null,
   "metadata": {},
   "outputs": [],
   "source": [
    "experiment = SkillClassifier()\n",
    "experiment.import_data()\n",
    "experiment.create_df()\n",
    "\n",
    "experiment.choose_dataset('vqa')\n",
    "# experiment.set_features(['QSN', 'descriptions', 'tags', 'dominant_colors','handwritten_text', 'ocr_text'])\n",
    "experiment.set_features(['descriptions'])\n",
    "experiment.set_targets()\n",
    "\n",
    "features_train = experiment.features_train\n",
    "features_val   = experiment.features_val\n",
    "\n",
    "# check training class distribution\n",
    "text_recognition_y_train = to_categorical(np.asarray(experiment.txt_train)).astype('float32')\n",
    "color_recognition_y_train = to_categorical(np.asarray(experiment.col_train)).astype('float32')\n",
    "print('Number of training samples each class: ')\n",
    "print('Text recognition', text_recognition_y_train.sum(axis=0))\n",
    "print('Color recognition', color_recognition_y_train.sum(axis=0))\n",
    "\n",
    "n_classes = 2\n",
    "\n",
    "# check validation class distribution\n",
    "text_recognition_y_val = to_categorical(np.asarray(experiment.txt_val)).astype('float32')\n",
    "color_recognition_y_val = to_categorical(np.asarray(experiment.col_val)).astype('float32')\n",
    "print('Number of validation samples each class: ')\n",
    "print('Text recognition', text_recognition_y_val.sum(axis=0))\n",
    "print('Color recognition', color_recognition_y_val.sum(axis=0))\n",
    "\n",
    "# get targets\n",
    "txt_train      = experiment.txt_train\n",
    "col_train      = experiment.col_train\n",
    "txt_val        = experiment.txt_val\n",
    "col_val        = experiment.col_val"
   ]
  },
  {
   "cell_type": "code",
   "execution_count": 4,
   "metadata": {
    "scrolled": true
   },
   "outputs": [
    {
     "name": "stderr",
     "output_type": "stream",
     "text": [
      "2019-03-14 01:44:10,258 : INFO : collecting all words and their counts\n",
      "2019-03-14 01:44:10,259 : INFO : PROGRESS: at sentence #0, processed 0 words, keeping 0 word types\n",
      "2019-03-14 01:44:10,264 : INFO : collected 564 word types from a corpus of 28927 raw words and 3212 sentences\n",
      "2019-03-14 01:44:10,264 : INFO : Loading a fresh vocabulary\n",
      "2019-03-14 01:44:10,266 : INFO : effective_min_count=6 retains 321 unique words (56% of original 564, drops 243)\n",
      "2019-03-14 01:44:10,266 : INFO : effective_min_count=6 leaves 28417 word corpus (98% of original 28927, drops 510)\n",
      "2019-03-14 01:44:10,267 : INFO : deleting the raw counts dictionary of 564 items\n",
      "2019-03-14 01:44:10,268 : INFO : sample=0.001 downsamples 63 most-common words\n",
      "2019-03-14 01:44:10,269 : INFO : downsampling leaves estimated 13272 word corpus (46.7% of prior 28417)\n",
      "2019-03-14 01:44:10,270 : INFO : estimated required memory for 321 words and 40 dimensions: 263220 bytes\n",
      "2019-03-14 01:44:10,270 : INFO : resetting layer weights\n",
      "2019-03-14 01:44:10,280 : INFO : training model with 6 workers on 321 vocabulary and 40 features, using sg=1 hs=0 sample=0.001 negative=5 window=5\n",
      "2019-03-14 01:44:10,287 : INFO : worker thread finished; awaiting finish of 5 more threads\n",
      "2019-03-14 01:44:10,288 : INFO : worker thread finished; awaiting finish of 4 more threads\n",
      "2019-03-14 01:44:10,296 : INFO : worker thread finished; awaiting finish of 3 more threads\n",
      "2019-03-14 01:44:10,300 : INFO : worker thread finished; awaiting finish of 2 more threads\n",
      "2019-03-14 01:44:10,304 : INFO : worker thread finished; awaiting finish of 1 more threads\n",
      "2019-03-14 01:44:10,305 : INFO : worker thread finished; awaiting finish of 0 more threads\n",
      "2019-03-14 01:44:10,306 : INFO : EPOCH - 1 : training on 28927 raw words (13201 effective words) took 0.0s, 695785 effective words/s\n",
      "2019-03-14 01:44:10,314 : INFO : worker thread finished; awaiting finish of 5 more threads\n",
      "2019-03-14 01:44:10,314 : INFO : worker thread finished; awaiting finish of 4 more threads\n",
      "2019-03-14 01:44:10,318 : INFO : worker thread finished; awaiting finish of 3 more threads\n",
      "2019-03-14 01:44:10,325 : INFO : worker thread finished; awaiting finish of 2 more threads\n",
      "2019-03-14 01:44:10,331 : INFO : worker thread finished; awaiting finish of 1 more threads\n",
      "2019-03-14 01:44:10,332 : INFO : worker thread finished; awaiting finish of 0 more threads\n",
      "2019-03-14 01:44:10,332 : INFO : EPOCH - 2 : training on 28927 raw words (13197 effective words) took 0.0s, 648695 effective words/s\n",
      "2019-03-14 01:44:10,340 : INFO : worker thread finished; awaiting finish of 5 more threads\n",
      "2019-03-14 01:44:10,342 : INFO : worker thread finished; awaiting finish of 4 more threads\n",
      "2019-03-14 01:44:10,344 : INFO : worker thread finished; awaiting finish of 3 more threads\n",
      "2019-03-14 01:44:10,351 : INFO : worker thread finished; awaiting finish of 2 more threads\n",
      "2019-03-14 01:44:10,354 : INFO : worker thread finished; awaiting finish of 1 more threads\n",
      "2019-03-14 01:44:10,361 : INFO : worker thread finished; awaiting finish of 0 more threads\n",
      "2019-03-14 01:44:10,362 : INFO : EPOCH - 3 : training on 28927 raw words (13316 effective words) took 0.0s, 546207 effective words/s\n",
      "2019-03-14 01:44:10,373 : INFO : worker thread finished; awaiting finish of 5 more threads\n",
      "2019-03-14 01:44:10,376 : INFO : worker thread finished; awaiting finish of 4 more threads\n",
      "2019-03-14 01:44:10,377 : INFO : worker thread finished; awaiting finish of 3 more threads\n",
      "2019-03-14 01:44:10,384 : INFO : worker thread finished; awaiting finish of 2 more threads\n",
      "2019-03-14 01:44:10,388 : INFO : worker thread finished; awaiting finish of 1 more threads\n",
      "2019-03-14 01:44:10,389 : INFO : worker thread finished; awaiting finish of 0 more threads\n",
      "2019-03-14 01:44:10,390 : INFO : EPOCH - 4 : training on 28927 raw words (13369 effective words) took 0.0s, 710508 effective words/s\n",
      "2019-03-14 01:44:10,399 : INFO : worker thread finished; awaiting finish of 5 more threads\n",
      "2019-03-14 01:44:10,412 : INFO : worker thread finished; awaiting finish of 4 more threads\n",
      "2019-03-14 01:44:10,414 : INFO : worker thread finished; awaiting finish of 3 more threads\n",
      "2019-03-14 01:44:10,415 : INFO : worker thread finished; awaiting finish of 2 more threads\n",
      "2019-03-14 01:44:10,416 : INFO : worker thread finished; awaiting finish of 1 more threads\n",
      "2019-03-14 01:44:10,416 : INFO : worker thread finished; awaiting finish of 0 more threads\n",
      "2019-03-14 01:44:10,417 : INFO : EPOCH - 5 : training on 28927 raw words (13195 effective words) took 0.0s, 653431 effective words/s\n",
      "2019-03-14 01:44:10,418 : INFO : training on a 144635 raw words (66278 effective words) took 0.1s, 481353 effective words/s\n",
      "2019-03-14 01:44:10,419 : WARNING : under 10 jobs per worker: consider setting a smaller `batch_words' for smoother alpha decay\n"
     ]
    },
    {
     "name": "stdout",
     "output_type": "stream",
     "text": [
      "Total 321 word vectors\n"
     ]
    }
   ],
   "source": [
    "# tokenize\n",
    "tok        = Tokenizer(num_words=VOCAB_SIZE, \n",
    "                       filters='!\"#$%&()*+,-./:;<=>?@[\\\\]^_`{|}~\\t\\n',\n",
    "                       lower=True,\n",
    "                       split=\" \")\n",
    "tok.fit_on_texts(features_train)\n",
    "\n",
    "# create sequences & pad\n",
    "train_seq  = tok.texts_to_sequences(features_train)\n",
    "train_seq  = sequence.pad_sequences(train_seq, maxlen=MAX_DOC_LEN)\n",
    "val_seq    = tok.texts_to_sequences(features_val)\n",
    "val_seq    = sequence.pad_sequences(val_seq, maxlen=MAX_DOC_LEN)\n",
    "\n",
    "# Set validation data tuple\n",
    "val_data = (val_seq, color_recognition_y_val)\n",
    "\n",
    "# punkt sentence level tokenizer\n",
    "sent_lst = [] \n",
    "for doc in features_train:\n",
    "    sentences = nltk.tokenize.sent_tokenize(doc)\n",
    "    for sent in sentences:\n",
    "        word_lst = [w for w in nltk.tokenize.word_tokenize(sent) if w.isalnum()]\n",
    "        sent_lst.append(word_lst)\n",
    "\n",
    "# word2vec\n",
    "logging.basicConfig(format='%(asctime)s : %(levelname)s : %(message)s', level=logging.INFO)\n",
    "word2vec_model = gensim.models.Word2Vec(sentences=sent_lst,\n",
    "                                        min_count=6,\n",
    "                                        size=EMBEDDING_DIM,\n",
    "                                        sg=1,\n",
    "                                        workers=os.cpu_count())\n",
    "\n",
    "embeddings_index = {}\n",
    "for word in word2vec_model.wv.vocab:\n",
    "    coefs = np.asarray(word2vec_model.wv[word], dtype='float32')\n",
    "    embeddings_index[word] = coefs\n",
    "print('Total %s word vectors' % len(embeddings_index))\n",
    "\n",
    "# Initial word embedding\n",
    "embedding_matrix = np.zeros((VOCAB_SIZE, EMBEDDING_DIM))\n",
    "\n",
    "for word, i in tok.word_index.items():\n",
    "    embedding_vector = embeddings_index.get(word)\n",
    "    if embedding_vector is not None and i < VOCAB_SIZE:\n",
    "        embedding_matrix[i] = embedding_vector"
   ]
  },
  {
   "cell_type": "code",
   "execution_count": 5,
   "metadata": {
    "scrolled": true
   },
   "outputs": [
    {
     "data": {
      "image/png": "[encoded data removed]",
      "text/plain": [
       "<Figure size 432x288 with 1 Axes>"
      ]
     },
     "metadata": {},
     "output_type": "display_data"
    }
   ],
   "source": [
    "plot_explained_variance(train_seq)"
   ]
  },
  {
   "cell_type": "code",
   "execution_count": 5,
   "metadata": {},
   "outputs": [],
   "source": [
    "N_COMPONENTS = 40\n",
    "train_seq, val_seq = preprocess_pca(train_seq, val_seq, dim=N_COMPONENTS)"
   ]
  },
  {
   "cell_type": "markdown",
   "metadata": {},
   "source": [
    "## VQA, 500 epochs, all features (no PCA)"
   ]
  },
  {
   "cell_type": "code",
   "execution_count": null,
   "metadata": {},
   "outputs": [],
   "source": [
    "L = 1e-1\n",
    "R = 0\n",
    "B = 32\n",
    "E = 500\n",
    "skill='color'\n",
    "vqa_color_result_500 = lstm_create_train(train_seq, embedding_matrix,\n",
    "                 train_labels=text_recognition_y_train, skill=skill,\n",
    "                 val_data=val_data,\n",
    "                 learning_rate=L,\n",
    "                 lstm_dim=100,\n",
    "                 batch_size=B,\n",
    "                 num_epochs=E,\n",
    "                 optimizer_param=SGD(lr=L, nesterov=True),\n",
    "                 regularization=R)\n",
    "model = load_model('./LSTM/color/{}_{}_{}_{}_model.h5'.format(L,R,B,E))\n",
    "preds = model.predict(val_seq, verbose=0)\n",
    "print(\"Learning rate: {} Regularization: {} Batch size: {} Epoch: {}\".format(L,R,B,E))\n",
    "print((\"Accuracy = {0} \\t AUC = {1}\".format(accuracy_score(txt_val, preds.argmax(axis=1)), \n",
    "                                                            roc_auc_score(txt_val, preds[:,1]))))"
   ]
  },
  {
   "cell_type": "code",
   "execution_count": 34,
   "metadata": {},
   "outputs": [
    {
     "name": "stdout",
     "output_type": "stream",
     "text": [
      "Stored 'vqa_color_result' (dict)\n"
     ]
    }
   ],
   "source": [
    "vqa_color_result = vqa_color_result_500.history\n",
    "%store vqa_color_result"
   ]
  },
  {
   "cell_type": "code",
   "execution_count": 19,
   "metadata": {
    "scrolled": true
   },
   "outputs": [
    {
     "data": {
      "image/png": "[encoded data removed]",
      "text/plain": [
       "<Figure size 432x288 with 1 Axes>"
      ]
     },
     "metadata": {},
     "output_type": "display_data"
    }
   ],
   "source": [
    "plt.plot([i for i in range(500)], vqa_color_result_500.history['acc'],label='training')\n",
    "plt.plot([i for i in range(500)], vqa_color_result_500.history['val_acc'],label='validation')\n",
    "plt.xlabel(\"epoch\")\n",
    "plt.ylabel(\"accuracy\")\n",
    "plt.title(\"Performance on VQA, color recognition classifier, all features\")\n",
    "plt.grid()\n",
    "plt.legend()\n",
    "plt.show()"
   ]
  },
  {
   "cell_type": "markdown",
   "metadata": {},
   "source": [
    "## VQA, 30 epochs, "
   ]
  },
  {
   "cell_type": "code",
   "execution_count": null,
   "metadata": {},
   "outputs": [],
   "source": [
    "L = 1e-2\n",
    "R = 1e-7\n",
    "B = 32\n",
    "E = 30\n",
    "skill='color'\n",
    "vizwiz_color_result_30 = lstm_create_train(train_seq, embedding_matrix,\n",
    "                 train_labels=text_recognition_y_train, skill=skill,\n",
    "                 val_data=val_data,\n",
    "                 learning_rate=L,\n",
    "                 lstm_dim=100,\n",
    "                 batch_size=B,\n",
    "                 num_epochs=E,\n",
    "                 optimizer_param=SGD(lr=L, nesterov=True),\n",
    "                 regularization=R)\n",
    "model = load_model('./LSTM/color/{}_{}_{}_{}_model.h5'.format(L,R,B,E))\n",
    "preds = model.predict(val_seq, verbose=0)\n",
    "print(\"Learning rate: {} Regularization: {} Batch size: {} Epoch: {}\".format(L,R,B,E))\n",
    "print((\"Accuracy = {0} \\t AUC = {1}\".format(accuracy_score(col_val, preds.argmax(axis=1)), \n",
    "                                                            roc_auc_score(txt_val, preds[:,1]))))"
   ]
  },
  {
   "cell_type": "code",
   "execution_count": null,
   "metadata": {},
   "outputs": [],
   "source": [
    "max(vizwiz_color_result_30.history['val_acc'])"
   ]
  },
  {
   "cell_type": "code",
   "execution_count": null,
   "metadata": {},
   "outputs": [],
   "source": []
  }
 ],
 "metadata": {
  "kernelspec": {
   "display_name": "Python 3",
   "language": "python",
   "name": "python3"
  },
  "language_info": {
   "codemirror_mode": {
    "name": "ipython",
    "version": 3
   },
   "file_extension": ".py",
   "mimetype": "text/x-python",
   "name": "python",
   "nbconvert_exporter": "python",
   "pygments_lexer": "ipython3",
   "version": "3.5.5"
  }
 },
 "nbformat": 4,
 "nbformat_minor": 2
}
