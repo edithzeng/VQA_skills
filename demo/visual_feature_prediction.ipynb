{
 "cells": [
  {
   "cell_type": "code",
   "execution_count": 1,
   "metadata": {
    "scrolled": false
   },
   "outputs": [
    {
     "name": "stderr",
     "output_type": "stream",
     "text": [
      "/anaconda/envs/py35/lib/python3.5/site-packages/h5py/__init__.py:36: FutureWarning: Conversion of the second argument of issubdtype from `float` to `np.floating` is deprecated. In future, it will be treated as `np.float64 == np.dtype(float).type`.\n",
      "  from ._conv import register_converters as _register_converters\n",
      "Using TensorFlow backend.\n"
     ]
    }
   ],
   "source": [
    "from util import *"
   ]
  },
  {
   "cell_type": "code",
   "execution_count": 2,
   "metadata": {},
   "outputs": [],
   "source": [
    "df_train = pd.read_csv('../vizwiz_skill_typ_train.csv', skipinitialspace = True, engine='python')\n",
    "df_val = pd.read_csv('../vizwiz_skill_typ_val.csv', skipinitialspace = True, engine='python')\n",
    "df_train_features = pd.read_csv('../vizwiz_features_train.csv', skipinitialspace = True, engine='python')\n",
    "df_val_features = pd.read_csv('../vizwiz_features_val.csv', skipinitialspace = True, engine='python')\n",
    "nn_train = pd.read_csv(\"nn_features_train.csv\")\n",
    "api_train = pd.read_csv(\"api_features_train.csv\")"
   ]
  },
  {
   "cell_type": "code",
   "execution_count": 5,
   "metadata": {
    "scrolled": true
   },
   "outputs": [
    {
     "data": {
      "text/html": [
       "<div>\n",
       "<style scoped>\n",
       "    .dataframe tbody tr th:only-of-type {\n",
       "        vertical-align: middle;\n",
       "    }\n",
       "\n",
       "    .dataframe tbody tr th {\n",
       "        vertical-align: top;\n",
       "    }\n",
       "\n",
       "    .dataframe thead th {\n",
       "        text-align: right;\n",
       "    }\n",
       "</style>\n",
       "<table border=\"1\" class=\"dataframe\">\n",
       "  <thead>\n",
       "    <tr style=\"text-align: right;\">\n",
       "      <th></th>\n",
       "      <th>qid</th>\n",
       "      <th>vgg_tags alexnet_tags</th>\n",
       "      <th>txt</th>\n",
       "      <th>col</th>\n",
       "    </tr>\n",
       "  </thead>\n",
       "  <tbody>\n",
       "    <tr>\n",
       "      <th>0</th>\n",
       "      <td>VizWiz_train_000000000000.jpg</td>\n",
       "      <td>perfume  essence packet</td>\n",
       "      <td>1</td>\n",
       "      <td>0</td>\n",
       "    </tr>\n",
       "    <tr>\n",
       "      <th>1</th>\n",
       "      <td>VizWiz_train_000000000001.jpg</td>\n",
       "      <td>espresso maker lighter  light  igniter  ignitor</td>\n",
       "      <td>1</td>\n",
       "      <td>0</td>\n",
       "    </tr>\n",
       "  </tbody>\n",
       "</table>\n",
       "</div>"
      ],
      "text/plain": [
       "                             qid  \\\n",
       "0  VizWiz_train_000000000000.jpg   \n",
       "1  VizWiz_train_000000000001.jpg   \n",
       "\n",
       "                             vgg_tags alexnet_tags txt col  \n",
       "0                          perfume  essence packet   1   0  \n",
       "1  espresso maker lighter  light  igniter  ignitor   1   0  "
      ]
     },
     "execution_count": 5,
     "metadata": {},
     "output_type": "execute_result"
    }
   ],
   "source": [
    "nn_train.head(2)"
   ]
  },
  {
   "cell_type": "code",
   "execution_count": 35,
   "metadata": {
    "scrolled": true
   },
   "outputs": [
    {
     "data": {
      "text/html": [
       "<div>\n",
       "<style scoped>\n",
       "    .dataframe tbody tr th:only-of-type {\n",
       "        vertical-align: middle;\n",
       "    }\n",
       "\n",
       "    .dataframe tbody tr th {\n",
       "        vertical-align: top;\n",
       "    }\n",
       "\n",
       "    .dataframe thead th {\n",
       "        text-align: right;\n",
       "    }\n",
       "</style>\n",
       "<table border=\"1\" class=\"dataframe\">\n",
       "  <thead>\n",
       "    <tr style=\"text-align: right;\">\n",
       "      <th></th>\n",
       "      <th>qid</th>\n",
       "      <th>adult</th>\n",
       "      <th>categories</th>\n",
       "      <th>descriptions</th>\n",
       "      <th>tags</th>\n",
       "    </tr>\n",
       "  </thead>\n",
       "  <tbody>\n",
       "    <tr>\n",
       "      <th>0</th>\n",
       "      <td>VizWiz_train_000000000000.jpg</td>\n",
       "      <td>False</td>\n",
       "      <td>others_</td>\n",
       "      <td>a bottle of wine on a table</td>\n",
       "      <td>'bottle'  'indoor'  'table'  'sitting'  'wine'...</td>\n",
       "    </tr>\n",
       "    <tr>\n",
       "      <th>1</th>\n",
       "      <td>VizWiz_train_000000000001.jpg</td>\n",
       "      <td>False</td>\n",
       "      <td>others_</td>\n",
       "      <td>a kitchen with a sink and a microwave</td>\n",
       "      <td>'indoor'  'cabinet'  'kitchen'  'small'  'refr...</td>\n",
       "    </tr>\n",
       "  </tbody>\n",
       "</table>\n",
       "</div>"
      ],
      "text/plain": [
       "                             qid  adult categories  \\\n",
       "0  VizWiz_train_000000000000.jpg  False    others_   \n",
       "1  VizWiz_train_000000000001.jpg  False    others_   \n",
       "\n",
       "                            descriptions  \\\n",
       "0            a bottle of wine on a table   \n",
       "1  a kitchen with a sink and a microwave   \n",
       "\n",
       "                                                tags  \n",
       "0  'bottle'  'indoor'  'table'  'sitting'  'wine'...  \n",
       "1  'indoor'  'cabinet'  'kitchen'  'small'  'refr...  "
      ]
     },
     "execution_count": 35,
     "metadata": {},
     "output_type": "execute_result"
    }
   ],
   "source": [
    "api_train.head(2)"
   ]
  },
  {
   "cell_type": "code",
   "execution_count": 13,
   "metadata": {},
   "outputs": [],
   "source": [
    "nn_train.set_index('qid', inplace=True)\n",
    "api_train.set_index('qid', inplace=True)"
   ]
  },
  {
   "cell_type": "code",
   "execution_count": 41,
   "metadata": {},
   "outputs": [
    {
     "data": {
      "text/plain": [
       "adult           False\n",
       "categories      False\n",
       "descriptions    False\n",
       "tags            False\n",
       "dtype: bool"
      ]
     },
     "execution_count": 41,
     "metadata": {},
     "output_type": "execute_result"
    }
   ],
   "source": [
    "api_train.isnull().any()"
   ]
  },
  {
   "cell_type": "code",
   "execution_count": 40,
   "metadata": {},
   "outputs": [
    {
     "data": {
      "text/plain": [
       "vgg_tags alexnet_tags    False\n",
       "txt                      False\n",
       "col                      False\n",
       "dtype: bool"
      ]
     },
     "execution_count": 40,
     "metadata": {},
     "output_type": "execute_result"
    }
   ],
   "source": [
    "nn_train.isnull().any()"
   ]
  },
  {
   "cell_type": "code",
   "execution_count": 3,
   "metadata": {},
   "outputs": [],
   "source": [
    "df_train = df_train[['QID', 'TXT', 'COL']]"
   ]
  },
  {
   "cell_type": "code",
   "execution_count": 4,
   "metadata": {},
   "outputs": [],
   "source": [
    "# use metadata for prediction\n",
    "df_train_features = df_train_features[['QID', 'I_NUM_CATEGORIES', 'I_NUM_TAGS', 'I_NUM_COLOURS', 'I_NUM_FACES']]\n",
    "df_train_features.set_index(\"QID\", inplace=True)"
   ]
  },
  {
   "cell_type": "code",
   "execution_count": 5,
   "metadata": {},
   "outputs": [],
   "source": [
    "train = df_train.join(df_train_features, on=\"QID\")"
   ]
  },
  {
   "cell_type": "code",
   "execution_count": 6,
   "metadata": {},
   "outputs": [],
   "source": [
    "df_val = df_val[['QID', 'TXT', 'COL']]\n",
    "df_val_features = df_val_features[['QID', 'I_NUM_CATEGORIES', 'I_NUM_TAGS', 'I_NUM_COLOURS', 'I_NUM_FACES']]\n",
    "df_val_features.set_index(\"QID\", inplace=True)"
   ]
  },
  {
   "cell_type": "code",
   "execution_count": 7,
   "metadata": {},
   "outputs": [],
   "source": [
    "val = df_val.join(df_val_features, on='QID')"
   ]
  },
  {
   "cell_type": "code",
   "execution_count": 8,
   "metadata": {},
   "outputs": [],
   "source": [
    "# use validation as test set; split training set into train vs validaiton set\n",
    "# text category\n",
    "X_train = train[['I_NUM_CATEGORIES', 'I_NUM_TAGS', \"I_NUM_COLOURS\", \"I_NUM_FACES\"]].values\n",
    "X_test = val[['I_NUM_CATEGORIES', 'I_NUM_TAGS', \"I_NUM_COLOURS\", \"I_NUM_FACES\"]].values\n",
    "Y_train_txt = train['TXT'].values.ravel()\n",
    "Y_test_txt = val['TXT'].values.ravel()\n",
    "Y_train_col = train['COL'].values.ravel()\n",
    "Y_test_col = val['COL'].values.ravel()\n",
    "#X_train, X_test, Y_train, Y_test = train_test_split(train[['I_NUM_CATEGORIES', 'I_NUM_TAGS', \"I_NUM_COLOURS\", \"I_NUM_FACES\"]].values, \n",
    "#                                                    train[['TXT']].values, random_state=42, stratify=train[['TXT']].values)"
   ]
  },
  {
   "cell_type": "code",
   "execution_count": 9,
   "metadata": {
    "scrolled": true
   },
   "outputs": [
    {
     "name": "stdout",
     "output_type": "stream",
     "text": [
      "10-fold cross-validated score on training set: 0.5806465968155577\n",
      "Best C = 5.0\n",
      "Best score on test set: 0.6454908929364727\n",
      "AUC:  0.6212849048143165\n"
     ]
    }
   ],
   "source": [
    "logit(X_train, X_test, Y_train_txt, Y_test_txt)"
   ]
  },
  {
   "cell_type": "code",
   "execution_count": 10,
   "metadata": {},
   "outputs": [
    {
     "name": "stdout",
     "output_type": "stream",
     "text": [
      "10-fold cross-validated score on training set: 0.4673249810683796\n",
      "Best C = 0.5\n",
      "Best score on test set: 0.6406041759218125\n",
      "AUC:  0.5498170171537006\n"
     ]
    }
   ],
   "source": [
    "logit(X_train, X_test, Y_train_col, Y_test_col)"
   ]
  },
  {
   "cell_type": "code",
   "execution_count": 11,
   "metadata": {},
   "outputs": [
    {
     "name": "stderr",
     "output_type": "stream",
     "text": [
      "/anaconda/envs/py35/lib/python3.5/site-packages/sklearn/preprocessing/label.py:151: DeprecationWarning: The truth value of an empty array is ambiguous. Returning False, but in future this will result in an error. Use `array.size > 0` to check that an array is not empty.\n",
      "  if diff:\n",
      "/anaconda/envs/py35/lib/python3.5/site-packages/sklearn/preprocessing/label.py:151: DeprecationWarning: The truth value of an empty array is ambiguous. Returning False, but in future this will result in an error. Use `array.size > 0` to check that an array is not empty.\n",
      "  if diff:\n",
      "/anaconda/envs/py35/lib/python3.5/site-packages/sklearn/preprocessing/label.py:151: DeprecationWarning: The truth value of an empty array is ambiguous. Returning False, but in future this will result in an error. Use `array.size > 0` to check that an array is not empty.\n",
      "  if diff:\n",
      "/anaconda/envs/py35/lib/python3.5/site-packages/sklearn/preprocessing/label.py:151: DeprecationWarning: The truth value of an empty array is ambiguous. Returning False, but in future this will result in an error. Use `array.size > 0` to check that an array is not empty.\n",
      "  if diff:\n",
      "/anaconda/envs/py35/lib/python3.5/site-packages/sklearn/preprocessing/label.py:151: DeprecationWarning: The truth value of an empty array is ambiguous. Returning False, but in future this will result in an error. Use `array.size > 0` to check that an array is not empty.\n",
      "  if diff:\n",
      "/anaconda/envs/py35/lib/python3.5/site-packages/sklearn/preprocessing/label.py:151: DeprecationWarning: The truth value of an empty array is ambiguous. Returning False, but in future this will result in an error. Use `array.size > 0` to check that an array is not empty.\n",
      "  if diff:\n",
      "/anaconda/envs/py35/lib/python3.5/site-packages/sklearn/preprocessing/label.py:151: DeprecationWarning: The truth value of an empty array is ambiguous. Returning False, but in future this will result in an error. Use `array.size > 0` to check that an array is not empty.\n",
      "  if diff:\n",
      "/anaconda/envs/py35/lib/python3.5/site-packages/sklearn/preprocessing/label.py:151: DeprecationWarning: The truth value of an empty array is ambiguous. Returning False, but in future this will result in an error. Use `array.size > 0` to check that an array is not empty.\n",
      "  if diff:\n",
      "/anaconda/envs/py35/lib/python3.5/site-packages/sklearn/preprocessing/label.py:151: DeprecationWarning: The truth value of an empty array is ambiguous. Returning False, but in future this will result in an error. Use `array.size > 0` to check that an array is not empty.\n",
      "  if diff:\n",
      "/anaconda/envs/py35/lib/python3.5/site-packages/sklearn/preprocessing/label.py:151: DeprecationWarning: The truth value of an empty array is ambiguous. Returning False, but in future this will result in an error. Use `array.size > 0` to check that an array is not empty.\n",
      "  if diff:\n"
     ]
    },
    {
     "name": "stdout",
     "output_type": "stream",
     "text": [
      "10-fold cross validation score on training set: 0.6399196896472267\n",
      "Best score on test set: 0.6406041759218125\n",
      "AUC:  0.596213362683951\n"
     ]
    },
    {
     "name": "stderr",
     "output_type": "stream",
     "text": [
      "/anaconda/envs/py35/lib/python3.5/site-packages/sklearn/preprocessing/label.py:151: DeprecationWarning: The truth value of an empty array is ambiguous. Returning False, but in future this will result in an error. Use `array.size > 0` to check that an array is not empty.\n",
      "  if diff:\n",
      "/anaconda/envs/py35/lib/python3.5/site-packages/sklearn/preprocessing/label.py:151: DeprecationWarning: The truth value of an empty array is ambiguous. Returning False, but in future this will result in an error. Use `array.size > 0` to check that an array is not empty.\n",
      "  if diff:\n"
     ]
    }
   ],
   "source": [
    "majority_vote_tuning(X_train, X_test, Y_train_txt, Y_test_txt)"
   ]
  },
  {
   "cell_type": "code",
   "execution_count": 12,
   "metadata": {},
   "outputs": [
    {
     "name": "stdout",
     "output_type": "stream",
     "text": [
      "10-fold cross-validated score on training set: 0.6285454623991052\n",
      "Best K = 120\n",
      "Best score on test set: 0.6370501999111506\n",
      "AUC:  0.6128127675186499\n"
     ]
    }
   ],
   "source": [
    "knn(X_train, X_test, Y_train_txt, Y_test_txt)"
   ]
  },
  {
   "cell_type": "code",
   "execution_count": 13,
   "metadata": {},
   "outputs": [
    {
     "name": "stdout",
     "output_type": "stream",
     "text": [
      "10-fold cross-validated score on training set: 0.6155398558463381\n",
      "Best K = 120\n",
      "Best score on test set: 0.6321634828964905\n",
      "AUC:  0.5427733907633404\n"
     ]
    }
   ],
   "source": [
    "knn(X_train, X_test, Y_train_col, Y_test_col)"
   ]
  },
  {
   "cell_type": "code",
   "execution_count": 14,
   "metadata": {
    "scrolled": true
   },
   "outputs": [
    {
     "name": "stdout",
     "output_type": "stream",
     "text": [
      "Best score on test set: 0.6490448689471346\n",
      "AUC:  0.6112241653418125\n"
     ]
    }
   ],
   "source": [
    "svm(X_train, X_test, Y_train_txt, Y_test_txt)"
   ]
  },
  {
   "cell_type": "code",
   "execution_count": 15,
   "metadata": {},
   "outputs": [
    {
     "name": "stdout",
     "output_type": "stream",
     "text": [
      "Best score on test set: 0.6188360728565082\n",
      "AUC:  0.5\n"
     ]
    }
   ],
   "source": [
    "svm(X_train, X_test, Y_train_col, Y_test_col)"
   ]
  },
  {
   "cell_type": "code",
   "execution_count": 16,
   "metadata": {},
   "outputs": [
    {
     "name": "stdout",
     "output_type": "stream",
     "text": [
      "10-fold cross validation score on training set: 0.6425113927458304\n",
      "Best score on test set: 0.6450466459351399\n",
      "AUC:  0.6199270311035017\n"
     ]
    }
   ],
   "source": [
    "lda(X_train, X_test, Y_train_txt, Y_test_txt)"
   ]
  },
  {
   "cell_type": "code",
   "execution_count": null,
   "metadata": {},
   "outputs": [],
   "source": [
    "lda(X_train, X_test, Y_train_col, Y_test_col)"
   ]
  }
 ],
 "metadata": {
  "kernelspec": {
   "display_name": "Python 3",
   "language": "python",
   "name": "python3"
  },
  "language_info": {
   "codemirror_mode": {
    "name": "ipython",
    "version": 3
   },
   "file_extension": ".py",
   "mimetype": "text/x-python",
   "name": "python",
   "nbconvert_exporter": "python",
   "pygments_lexer": "ipython3",
   "version": "3.5.5"
  }
 },
 "nbformat": 4,
 "nbformat_minor": 2
}
