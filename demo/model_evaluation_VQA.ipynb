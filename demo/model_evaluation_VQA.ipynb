{
 "cells": [
  {
   "cell_type": "markdown",
   "metadata": {},
   "source": [
    "### This file contains example using tools to evaluate the performances for color recognition category for VizWiz data.\n",
    "\n",
    "Evaluation tools from https://github.com/GT-Vision-Lab/VQA.\n",
    "\n",
    "Codes in eval_util.py from Yanan Wang"
   ]
  },
  {
   "cell_type": "code",
   "execution_count": 1,
   "metadata": {},
   "outputs": [],
   "source": [
    "import pandas as pd\n",
    "import numpy as np\n",
    "from eval_util import *"
   ]
  },
  {
   "cell_type": "code",
   "execution_count": 2,
   "metadata": {
    "scrolled": true
   },
   "outputs": [],
   "source": [
    "train_features = pd.read_csv(\"./azure_features_images/data/vizwiz_train_color_recognition.csv\", delimiter=\";\", engine=\"python\")\n",
    "train_features['answer'] = train_features['descriptions'].astype(str).apply(lambda x: x.lower())\n",
    "train_features['QID'] = train_features['qid']"
   ]
  },
  {
   "cell_type": "code",
   "execution_count": 3,
   "metadata": {},
   "outputs": [],
   "source": [
    "train_targets = pd.read_csv(\"../vizwiz_skill_typ_train.csv\", engine=\"python\")"
   ]
  },
  {
   "cell_type": "code",
   "execution_count": 4,
   "metadata": {},
   "outputs": [],
   "source": [
    "train = pd.merge(train_features, train_targets, how='left', on='QID')"
   ]
  },
  {
   "cell_type": "code",
   "execution_count": 5,
   "metadata": {
    "scrolled": false
   },
   "outputs": [
    {
     "data": {
      "text/plain": [
       "{'basil', 'basil leaves'}"
      ]
     },
     "execution_count": 5,
     "metadata": {},
     "output_type": "execute_result"
    }
   ],
   "source": [
    "set(train.values[0, 15:25])"
   ]
  },
  {
   "cell_type": "code",
   "execution_count": 10,
   "metadata": {},
   "outputs": [
    {
     "data": {
      "text/plain": [
       "array(['VizWiz_train_000000000000.jpg',\n",
       "       \"What's the name of this product?\",\n",
       "       \"[{'text': 'a bottle of wine on a table', 'confidence': 0.7408009412153109}]\",\n",
       "       \"['bottle', 'indoor', 'table', 'sitting', 'wine', 'food', 'glass', 'plate', 'red', 'sandwich', 'laying', 'coffee', 'white']\",\n",
       "       \"['Brown']\",\n",
       "       \"[{'text': 'a bottle of wine on a table', 'confidence': 0.7408009412153109}]\",\n",
       "       'VizWiz_train_000000000000.jpg', 'VizWiz_train_000000000000.jpg',\n",
       "       \"What's the name of this product?\", 'other', 1, 1, 0, 0, 0,\n",
       "       'basil leaves', 'basil leaves', 'basil', 'basil', 'basil leaves',\n",
       "       'basil leaves', 'basil leaves', 'basil leaves', 'basil leaves',\n",
       "       'basil'], dtype=object)"
      ]
     },
     "execution_count": 10,
     "metadata": {},
     "output_type": "execute_result"
    }
   ],
   "source": [
    "mat[0]"
   ]
  },
  {
   "cell_type": "code",
   "execution_count": 19,
   "metadata": {},
   "outputs": [
    {
     "data": {
      "text/plain": [
       "dtype('O')"
      ]
     },
     "execution_count": 19,
     "metadata": {},
     "output_type": "execute_result"
    }
   ],
   "source": [
    "mat.dtype"
   ]
  },
  {
   "cell_type": "code",
   "execution_count": 6,
   "metadata": {},
   "outputs": [
    {
     "ename": "AttributeError",
     "evalue": "'float' object has no attribute 'isdigit'",
     "output_type": "error",
     "traceback": [
      "\u001b[0;31m---------------------------------------------------------------------------\u001b[0m",
      "\u001b[0;31mAttributeError\u001b[0m                            Traceback (most recent call last)",
      "\u001b[0;32m<ipython-input-6-5e1c0a8623d9>\u001b[0m in \u001b[0;36m<module>\u001b[0;34m()\u001b[0m\n\u001b[1;32m     23\u001b[0m         \u001b[0mmatches\u001b[0m \u001b[0;34m=\u001b[0m \u001b[0;34m[\u001b[0m\u001b[0;34m]\u001b[0m\u001b[0;34m\u001b[0m\u001b[0m\n\u001b[1;32m     24\u001b[0m         \u001b[0;32mfor\u001b[0m \u001b[0mans\u001b[0m \u001b[0;32min\u001b[0m \u001b[0mother_ans\u001b[0m\u001b[0;34m:\u001b[0m\u001b[0;34m\u001b[0m\u001b[0m\n\u001b[0;32m---> 25\u001b[0;31m             \u001b[0;32mif\u001b[0m \u001b[0mans\u001b[0m\u001b[0;34m.\u001b[0m\u001b[0misdigit\u001b[0m\u001b[0;34m(\u001b[0m\u001b[0;34m)\u001b[0m \u001b[0;32mor\u001b[0m \u001b[0mans\u001b[0m \u001b[0;32min\u001b[0m \u001b[0;34m[\u001b[0m\u001b[0;34m\"no\"\u001b[0m\u001b[0;34m,\u001b[0m \u001b[0;34m\"yes\"\u001b[0m\u001b[0;34m]\u001b[0m\u001b[0;34m:\u001b[0m\u001b[0;34m\u001b[0m\u001b[0m\n\u001b[0m\u001b[1;32m     26\u001b[0m                 \u001b[0mans\u001b[0m \u001b[0;34m=\u001b[0m \u001b[0mans\u001b[0m\u001b[0;34m.\u001b[0m\u001b[0mcenter\u001b[0m\u001b[0;34m(\u001b[0m\u001b[0mlen\u001b[0m\u001b[0;34m(\u001b[0m\u001b[0mans\u001b[0m\u001b[0;34m)\u001b[0m\u001b[0;34m+\u001b[0m\u001b[0;36m2\u001b[0m\u001b[0;34m)\u001b[0m\u001b[0;34m\u001b[0m\u001b[0m\n\u001b[1;32m     27\u001b[0m             \u001b[0;32mif\u001b[0m \u001b[0mans\u001b[0m \u001b[0;32min\u001b[0m \u001b[0mans_final\u001b[0m\u001b[0;34m:\u001b[0m\u001b[0;34m\u001b[0m\u001b[0m\n",
      "\u001b[0;31mAttributeError\u001b[0m: 'float' object has no attribute 'isdigit'"
     ]
    }
   ],
   "source": [
    "# current visual question answers' accuracy (agreement)\n",
    "ans_accuracy  = []\n",
    "# accuracy within each given answer type\n",
    "type_accuracy = {}\n",
    "\n",
    "mat = train.values\n",
    "\n",
    "for i in range(len(mat)):\n",
    "    resAns = mat[i,5]\n",
    "    # clean up str\n",
    "    ans_original    = re.sub('[\\n\\t\\s]', ' ', resAns).strip()\n",
    "    ans_punctuation = processPunctuation(ans_original)\n",
    "    ans_final       = str(processDigitArticle(ans_punctuation))\n",
    "    accuracy_scores = []\n",
    "    # evaluate 10 different crowd answers\n",
    "    crowd_answers = mat[i, 15:25]\n",
    "    if len(set(crowd_answers)) > 1:\n",
    "        for a in crowd_answers:\n",
    "            a = processPunctuation(a)\n",
    "    for curr in crowd_answers:\n",
    "        other_ans = [ans for ans in crowd_answers if ans != curr]\n",
    "        # find agreement to measure accuracy\n",
    "        matches = []\n",
    "        for ans in other_ans:\n",
    "            ans = str(ans)\n",
    "            if ans.isdigit() or ans in [\"no\", \"yes\"]:\n",
    "                ans = ans.center(len(ans)+2)\n",
    "            if ans in ans_final:\n",
    "                matches.append(ans)\n",
    "        # get VQA eval score\n",
    "        score = min(1, float(len(matches)/3))\n",
    "        accuracy_scores.append(score)\n",
    "    # record accuracy for agreement & answer type \n",
    "    ans_type = mat[i,9]\n",
    "    ans_accuracy.append(np.mean(accuracy_scores))\n",
    "    if ans_type not in type_accuracy:\n",
    "        type_accuracy[ans_type] = []\n",
    "    type_accuracy[ans_type].append(score)\n",
    "    qid = mat[i,0]\n",
    "    setEvalQA(qid, score)\n",
    "    setEvalAnsType(qid, ans_type, score)\n",
    "\n",
    "\n",
    "setAccuracy(ans_accuracy, type_accuracy)"
   ]
  },
  {
   "cell_type": "code",
   "execution_count": 16,
   "metadata": {},
   "outputs": [],
   "source": [
    "setAccuracy(accQA, accAnsType)"
   ]
  },
  {
   "cell_type": "code",
   "execution_count": 18,
   "metadata": {},
   "outputs": [
    {
     "name": "stdout",
     "output_type": "stream",
     "text": [
      "4.74\n",
      "{'yes/no': 0.65, 'other': 5.47, 'unanswerable': 2.74, 'number': 0.0}\n"
     ]
    }
   ],
   "source": [
    "print(accuracy['overall'])         \n",
    "print(accuracy['perAnswerType'])"
   ]
  },
  {
   "cell_type": "code",
   "execution_count": null,
   "metadata": {},
   "outputs": [],
   "source": []
  }
 ],
 "metadata": {
  "kernelspec": {
   "display_name": "Python 3",
   "language": "python",
   "name": "python3"
  },
  "language_info": {
   "codemirror_mode": {
    "name": "ipython",
    "version": 3
   },
   "file_extension": ".py",
   "mimetype": "text/x-python",
   "name": "python",
   "nbconvert_exporter": "python",
   "pygments_lexer": "ipython3",
   "version": "3.5.5"
  }
 },
 "nbformat": 4,
 "nbformat_minor": 2
}
