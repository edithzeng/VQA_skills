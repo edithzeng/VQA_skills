{
 "cells": [
  {
   "cell_type": "code",
   "execution_count": 2,
   "metadata": {
    "scrolled": false
   },
   "outputs": [
    {
     "name": "stderr",
     "output_type": "stream",
     "text": [
      "/anaconda/envs/py35/lib/python3.5/site-packages/h5py/__init__.py:36: FutureWarning: Conversion of the second argument of issubdtype from `float` to `np.floating` is deprecated. In future, it will be treated as `np.float64 == np.dtype(float).type`.\n",
      "  from ._conv import register_converters as _register_converters\n",
      "Using TensorFlow backend.\n"
     ]
    }
   ],
   "source": [
    "from util import *"
   ]
  },
  {
   "cell_type": "code",
   "execution_count": 3,
   "metadata": {},
   "outputs": [],
   "source": [
    "# this block of codes comes from Nilavra Bhattacharya\n",
    "# http://nbviewer.jupyter.org/urls/ivc.ischool.utexas.edu/VizWiz/extn/tutorial_skill_type.ipynb\n",
    "\n",
    "df_train = pd.read_csv('../vizwiz_skill_typ_train.csv', skipinitialspace = True, engine='python')\n",
    "df_val = pd.read_csv('../vizwiz_skill_typ_val.csv', skipinitialspace = True, engine='python')\n",
    "df_test = pd.read_csv('../vizwiz_skill_typ_test.csv', skipinitialspace = True, engine='python')"
   ]
  },
  {
   "cell_type": "code",
   "execution_count": 4,
   "metadata": {},
   "outputs": [
    {
     "data": {
      "text/html": [
       "<div>\n",
       "<style scoped>\n",
       "    .dataframe tbody tr th:only-of-type {\n",
       "        vertical-align: middle;\n",
       "    }\n",
       "\n",
       "    .dataframe tbody tr th {\n",
       "        vertical-align: top;\n",
       "    }\n",
       "\n",
       "    .dataframe thead th {\n",
       "        text-align: right;\n",
       "    }\n",
       "</style>\n",
       "<table border=\"1\" class=\"dataframe\">\n",
       "  <thead>\n",
       "    <tr style=\"text-align: right;\">\n",
       "      <th></th>\n",
       "      <th>% of true</th>\n",
       "      <th>skill</th>\n",
       "    </tr>\n",
       "  </thead>\n",
       "  <tbody>\n",
       "    <tr>\n",
       "      <th>0</th>\n",
       "      <td>0.561847</td>\n",
       "      <td>TXT</td>\n",
       "    </tr>\n",
       "    <tr>\n",
       "      <th>1</th>\n",
       "      <td>0.984652</td>\n",
       "      <td>OBJ</td>\n",
       "    </tr>\n",
       "    <tr>\n",
       "      <th>2</th>\n",
       "      <td>0.379564</td>\n",
       "      <td>COL</td>\n",
       "    </tr>\n",
       "    <tr>\n",
       "      <th>3</th>\n",
       "      <td>0.036513</td>\n",
       "      <td>CNT</td>\n",
       "    </tr>\n",
       "    <tr>\n",
       "      <th>4</th>\n",
       "      <td>0.001542</td>\n",
       "      <td>OTH</td>\n",
       "    </tr>\n",
       "  </tbody>\n",
       "</table>\n",
       "</div>"
      ],
      "text/plain": [
       "   % of true skill\n",
       "0   0.561847   TXT\n",
       "1   0.984652   OBJ\n",
       "2   0.379564   COL\n",
       "3   0.036513   CNT\n",
       "4   0.001542   OTH"
      ]
     },
     "execution_count": 4,
     "metadata": {},
     "output_type": "execute_result"
    }
   ],
   "source": [
    "# check class distributions\n",
    "target_classes = ['TXT', 'OBJ', 'COL', 'CNT', 'OTH']\n",
    "class_dist = []\n",
    "for skill in target_classes:\n",
    "    percent = len(df_train.loc[df_train[skill] == 1])/len(df_train)\n",
    "    temp = {'skill': skill, '% of true': percent}\n",
    "    class_dist.append(temp)\n",
    "class_dist = pd.DataFrame(class_dist)\n",
    "class_dist"
   ]
  },
  {
   "cell_type": "code",
   "execution_count": 5,
   "metadata": {
    "scrolled": false
   },
   "outputs": [
    {
     "data": {
      "text/html": [
       "<div>\n",
       "<style scoped>\n",
       "    .dataframe tbody tr th:only-of-type {\n",
       "        vertical-align: middle;\n",
       "    }\n",
       "\n",
       "    .dataframe tbody tr th {\n",
       "        vertical-align: top;\n",
       "    }\n",
       "\n",
       "    .dataframe thead th {\n",
       "        text-align: right;\n",
       "    }\n",
       "</style>\n",
       "<table border=\"1\" class=\"dataframe\">\n",
       "  <thead>\n",
       "    <tr style=\"text-align: right;\">\n",
       "      <th></th>\n",
       "      <th>TXT</th>\n",
       "      <th>OBJ</th>\n",
       "      <th>COL</th>\n",
       "      <th>CNT</th>\n",
       "      <th>OTH</th>\n",
       "    </tr>\n",
       "  </thead>\n",
       "  <tbody>\n",
       "    <tr>\n",
       "      <th>TXT</th>\n",
       "      <td>1.000000</td>\n",
       "      <td>0.031074</td>\n",
       "      <td>-0.479960</td>\n",
       "      <td>0.094344</td>\n",
       "      <td>-0.019298</td>\n",
       "    </tr>\n",
       "    <tr>\n",
       "      <th>OBJ</th>\n",
       "      <td>0.031074</td>\n",
       "      <td>1.000000</td>\n",
       "      <td>-0.035096</td>\n",
       "      <td>0.006068</td>\n",
       "      <td>0.004906</td>\n",
       "    </tr>\n",
       "    <tr>\n",
       "      <th>COL</th>\n",
       "      <td>-0.479960</td>\n",
       "      <td>-0.035096</td>\n",
       "      <td>1.000000</td>\n",
       "      <td>-0.106065</td>\n",
       "      <td>-0.016013</td>\n",
       "    </tr>\n",
       "    <tr>\n",
       "      <th>CNT</th>\n",
       "      <td>0.094344</td>\n",
       "      <td>0.006068</td>\n",
       "      <td>-0.106065</td>\n",
       "      <td>1.000000</td>\n",
       "      <td>-0.007650</td>\n",
       "    </tr>\n",
       "    <tr>\n",
       "      <th>OTH</th>\n",
       "      <td>-0.019298</td>\n",
       "      <td>0.004906</td>\n",
       "      <td>-0.016013</td>\n",
       "      <td>-0.007650</td>\n",
       "      <td>1.000000</td>\n",
       "    </tr>\n",
       "  </tbody>\n",
       "</table>\n",
       "</div>"
      ],
      "text/plain": [
       "          TXT       OBJ       COL       CNT       OTH\n",
       "TXT  1.000000  0.031074 -0.479960  0.094344 -0.019298\n",
       "OBJ  0.031074  1.000000 -0.035096  0.006068  0.004906\n",
       "COL -0.479960 -0.035096  1.000000 -0.106065 -0.016013\n",
       "CNT  0.094344  0.006068 -0.106065  1.000000 -0.007650\n",
       "OTH -0.019298  0.004906 -0.016013 -0.007650  1.000000"
      ]
     },
     "execution_count": 5,
     "metadata": {},
     "output_type": "execute_result"
    }
   ],
   "source": [
    "# correlations: OBJ is correlated with COL\n",
    "df_train[['TXT', 'OBJ', 'COL', 'CNT', 'OTH']].corr()"
   ]
  },
  {
   "cell_type": "code",
   "execution_count": 12,
   "metadata": {},
   "outputs": [
    {
     "name": "stdout",
     "output_type": "stream",
     "text": [
      "(5721, 3) (5721, 3)\n"
     ]
    }
   ],
   "source": [
    "# get object labels with VGG and AlexNet pre-trained on ImageNet\n",
    "nn_features_test = nn_feature_extract(df_test, cv_key, 'nn_features_test.dat', test_data=True)\n",
    "nn_features_test.to_csv(\"nn_features_test.csv\")\n",
    "print(nn_features_test.shape, df_test.shape)"
   ]
  },
  {
   "cell_type": "code",
   "execution_count": 17,
   "metadata": {},
   "outputs": [
    {
     "name": "stdout",
     "output_type": "stream",
     "text": [
      "(2251, 5) (2251, 19)\n"
     ]
    }
   ],
   "source": [
    "nn_features_val = nn_feature_extract(df_val, cv_key, 'nn_features_val.dat', test_data=False)\n",
    "nn_features_test.to_csv(\"nn_features_val.csv\")\n",
    "print(nn_features_val.shape, df_val.shape)"
   ]
  },
  {
   "cell_type": "code",
   "execution_count": 19,
   "metadata": {},
   "outputs": [
    {
     "name": "stdout",
     "output_type": "stream",
     "text": [
      "(14269, 5) (14269, 19)\n"
     ]
    }
   ],
   "source": [
    "nn_features_train = nn_feature_extract(df_train, cv_key, 'nn_features_train.dat', test_data=False)\n",
    "nn_features_train.to_csv(\"nn_features_train.csv\")\n",
    "print(nn_features_train.shape, df_train.shape)"
   ]
  },
  {
   "cell_type": "code",
   "execution_count": 12,
   "metadata": {},
   "outputs": [],
   "source": [
    "# read API features from csv file \n",
    "train_feature_api = pd.read_csv(\"api_features_train.csv\")\n",
    "train_feature_nn = pd.read_csv(\"nn_features_train.csv\")"
   ]
  },
  {
   "cell_type": "code",
   "execution_count": 16,
   "metadata": {},
   "outputs": [
    {
     "data": {
      "text/html": [
       "<div>\n",
       "<style scoped>\n",
       "    .dataframe tbody tr th:only-of-type {\n",
       "        vertical-align: middle;\n",
       "    }\n",
       "\n",
       "    .dataframe tbody tr th {\n",
       "        vertical-align: top;\n",
       "    }\n",
       "\n",
       "    .dataframe thead th {\n",
       "        text-align: right;\n",
       "    }\n",
       "</style>\n",
       "<table border=\"1\" class=\"dataframe\">\n",
       "  <thead>\n",
       "    <tr style=\"text-align: right;\">\n",
       "      <th></th>\n",
       "      <th>qid</th>\n",
       "      <th>vgg_tags alexnet_tags</th>\n",
       "      <th>txt</th>\n",
       "      <th>col</th>\n",
       "    </tr>\n",
       "  </thead>\n",
       "  <tbody>\n",
       "    <tr>\n",
       "      <th>0</th>\n",
       "      <td>VizWiz_train_000000000000.jpg</td>\n",
       "      <td>perfume  essence packet</td>\n",
       "      <td>1</td>\n",
       "      <td>0</td>\n",
       "    </tr>\n",
       "    <tr>\n",
       "      <th>1</th>\n",
       "      <td>VizWiz_train_000000000001.jpg</td>\n",
       "      <td>espresso maker lighter  light  igniter  ignitor</td>\n",
       "      <td>1</td>\n",
       "      <td>0</td>\n",
       "    </tr>\n",
       "  </tbody>\n",
       "</table>\n",
       "</div>"
      ],
      "text/plain": [
       "                             qid  \\\n",
       "0  VizWiz_train_000000000000.jpg   \n",
       "1  VizWiz_train_000000000001.jpg   \n",
       "\n",
       "                             vgg_tags alexnet_tags txt col  \n",
       "0                          perfume  essence packet   1   0  \n",
       "1  espresso maker lighter  light  igniter  ignitor   1   0  "
      ]
     },
     "execution_count": 16,
     "metadata": {},
     "output_type": "execute_result"
    }
   ],
   "source": [
    "train_feature_nn.head(2)"
   ]
  },
  {
   "cell_type": "code",
   "execution_count": 20,
   "metadata": {},
   "outputs": [
    {
     "data": {
      "text/html": [
       "<div>\n",
       "<style scoped>\n",
       "    .dataframe tbody tr th:only-of-type {\n",
       "        vertical-align: middle;\n",
       "    }\n",
       "\n",
       "    .dataframe tbody tr th {\n",
       "        vertical-align: top;\n",
       "    }\n",
       "\n",
       "    .dataframe thead th {\n",
       "        text-align: right;\n",
       "    }\n",
       "</style>\n",
       "<table border=\"1\" class=\"dataframe\">\n",
       "  <thead>\n",
       "    <tr style=\"text-align: right;\">\n",
       "      <th></th>\n",
       "      <th>qid</th>\n",
       "      <th>adult</th>\n",
       "      <th>categories</th>\n",
       "      <th>descriptions</th>\n",
       "      <th>tags</th>\n",
       "      <th>adult.1</th>\n",
       "      <th>categories.1</th>\n",
       "      <th>descriptions.1</th>\n",
       "      <th>tags.1</th>\n",
       "      <th>col</th>\n",
       "      <th>txt</th>\n",
       "      <th>adult.2</th>\n",
       "      <th>categories.2</th>\n",
       "      <th>descriptions.2</th>\n",
       "      <th>tags.2</th>\n",
       "    </tr>\n",
       "  </thead>\n",
       "  <tbody>\n",
       "    <tr>\n",
       "      <th>5377</th>\n",
       "      <td>VizWiz_train_000000007182.jpg</td>\n",
       "      <td>False</td>\n",
       "      <td>others_</td>\n",
       "      <td>None</td>\n",
       "      <td>'indoor'  'table'  'sitting'  'monitor'  'devi...</td>\n",
       "      <td>NaN</td>\n",
       "      <td>NaN</td>\n",
       "      <td>NaN</td>\n",
       "      <td>NaN</td>\n",
       "      <td>NaN</td>\n",
       "      <td>NaN</td>\n",
       "      <td>NaN</td>\n",
       "      <td>NaN</td>\n",
       "      <td>NaN</td>\n",
       "      <td>NaN</td>\n",
       "    </tr>\n",
       "    <tr>\n",
       "      <th>11864</th>\n",
       "      <td>VizWiz_train_000000015879.jpg</td>\n",
       "      <td>False</td>\n",
       "      <td>abstract_</td>\n",
       "      <td>a close up of a white wall</td>\n",
       "      <td>'table'  'laying'  'cat'  'white'  'bed'  'man'</td>\n",
       "      <td>NaN</td>\n",
       "      <td>NaN</td>\n",
       "      <td>NaN</td>\n",
       "      <td>NaN</td>\n",
       "      <td>NaN</td>\n",
       "      <td>NaN</td>\n",
       "      <td>NaN</td>\n",
       "      <td>NaN</td>\n",
       "      <td>NaN</td>\n",
       "      <td>NaN</td>\n",
       "    </tr>\n",
       "  </tbody>\n",
       "</table>\n",
       "</div>"
      ],
      "text/plain": [
       "                                 qid  adult categories  \\\n",
       "5377   VizWiz_train_000000007182.jpg  False    others_   \n",
       "11864  VizWiz_train_000000015879.jpg  False  abstract_   \n",
       "\n",
       "                     descriptions  \\\n",
       "5377                         None   \n",
       "11864  a close up of a white wall   \n",
       "\n",
       "                                                    tags  adult.1  \\\n",
       "5377   'indoor'  'table'  'sitting'  'monitor'  'devi...      NaN   \n",
       "11864    'table'  'laying'  'cat'  'white'  'bed'  'man'      NaN   \n",
       "\n",
       "       categories.1  descriptions.1  tags.1  col  txt  adult.2  categories.2  \\\n",
       "5377            NaN             NaN     NaN  NaN  NaN      NaN           NaN   \n",
       "11864           NaN             NaN     NaN  NaN  NaN      NaN           NaN   \n",
       "\n",
       "       descriptions.2  tags.2  \n",
       "5377              NaN     NaN  \n",
       "11864             NaN     NaN  "
      ]
     },
     "execution_count": 20,
     "metadata": {},
     "output_type": "execute_result"
    }
   ],
   "source": [
    "train_feature_api.sample(2)"
   ]
  },
  {
   "cell_type": "code",
   "execution_count": null,
   "metadata": {},
   "outputs": [],
   "source": [
    "def aggregate_features(nn_features, api_features, test_data=False):\n",
    "    nn_features.set_index('qid', inplace=True)\n",
    "    api_features.set_index('qid', inplace=True)\n",
    "    merged = nn_features.join(api_features)\n",
    "    if not test_data:\n",
    "        # merged.drop([['txt', 'col']])   # drop duplicate cols\n",
    "    print(\"merged feature set size:\", merged.shape)\n",
    "    print(merged.head(3))\n",
    "    return merged"
   ]
  }
 ],
 "metadata": {
  "kernelspec": {
   "display_name": "Python 3",
   "language": "python",
   "name": "python3"
  },
  "language_info": {
   "codemirror_mode": {
    "name": "ipython",
    "version": 3
   },
   "file_extension": ".py",
   "mimetype": "text/x-python",
   "name": "python",
   "nbconvert_exporter": "python",
   "pygments_lexer": "ipython3",
   "version": "3.5.5"
  }
 },
 "nbformat": 4,
 "nbformat_minor": 2
}
